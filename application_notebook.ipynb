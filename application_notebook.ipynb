{
 "cells": [
  {
   "cell_type": "code",
   "execution_count": 1,
   "metadata": {},
   "outputs": [],
   "source": [
    "# Import our dependencies\n",
    "from pymongo import MongoClient\n",
    "from pprint import pprint\n",
    "from tabulate import tabulate\n",
    "from sklearn.neighbors import KNeighborsClassifier\n",
    "from sklearn.metrics import classification_report\n",
    "from sklearn.model_selection import train_test_split\n",
    "from sklearn.preprocessing import StandardScaler\n",
    "import pandas as pd\n",
    "import tensorflow as tf\n",
    "import matplotlib.pyplot as plt\n",
    "import numpy as np\n",
    "from imblearn.over_sampling import SMOTE\n",
    "from sklearn.linear_model import LogisticRegression\n",
    "import seaborn as sns\n",
    "from sklearn.metrics import accuracy_score, confusion_matrix\n",
    "from sklearn.feature_selection import RFE\n",
    "from sklearn.ensemble import VotingClassifier\n",
    "from xgboost import XGBClassifier\n",
    "from sklearn.decomposition import PCA\n",
    "import plotly.express as px\n",
    "import plotly.io as pio"
   ]
  },
  {
   "cell_type": "markdown",
   "metadata": {},
   "source": [
    "# Connect to the database"
   ]
  },
  {
   "cell_type": "code",
   "execution_count": 2,
   "metadata": {},
   "outputs": [],
   "source": [
    "# Connect to MongoDB Atlas\n",
    "client = MongoClient(\"mongodb://localhost:27017/\")\n",
    "\n",
    "# Access the 'remote' database\n",
    "db = client['remote']\n",
    "\n",
    "# Fetch data from the 'record_df_df_dfs' collection\n",
    "data_cursor = db['records'].find()\n",
    "data_list = list(data_cursor)\n",
    "data_df = pd.DataFrame(data_list)  # Convert to DataFrame\n",
    "\n",
    "# Fetch data from the 'credit' collection\n",
    "record_cursor = db['credit'].find()\n",
    "record_list = list(record_cursor)\n",
    "record_df = pd.DataFrame(record_list)  # Convert to DataFrame\n"
   ]
  },
  {
   "cell_type": "code",
   "execution_count": 3,
   "metadata": {},
   "outputs": [
    {
     "data": {
      "text/html": [
       "<div>\n",
       "<style scoped>\n",
       "    .dataframe tbody tr th:only-of-type {\n",
       "        vertical-align: middle;\n",
       "    }\n",
       "\n",
       "    .dataframe tbody tr th {\n",
       "        vertical-align: top;\n",
       "    }\n",
       "\n",
       "    .dataframe thead th {\n",
       "        text-align: right;\n",
       "    }\n",
       "</style>\n",
       "<table border=\"1\" class=\"dataframe\">\n",
       "  <thead>\n",
       "    <tr style=\"text-align: right;\">\n",
       "      <th></th>\n",
       "      <th>_id</th>\n",
       "      <th>ID</th>\n",
       "      <th>CODE_GENDER</th>\n",
       "      <th>FLAG_OWN_CAR</th>\n",
       "      <th>FLAG_OWN_REALTY</th>\n",
       "      <th>CNT_CHILDREN</th>\n",
       "      <th>AMT_INCOME_TOTAL</th>\n",
       "      <th>NAME_INCOME_TYPE</th>\n",
       "      <th>NAME_EDUCATION_TYPE</th>\n",
       "      <th>NAME_FAMILY_STATUS</th>\n",
       "      <th>NAME_HOUSING_TYPE</th>\n",
       "      <th>DAYS_BIRTH</th>\n",
       "      <th>DAYS_EMPLOYED</th>\n",
       "      <th>FLAG_MOBIL</th>\n",
       "      <th>FLAG_WORK_PHONE</th>\n",
       "      <th>FLAG_PHONE</th>\n",
       "      <th>FLAG_EMAIL</th>\n",
       "      <th>OCCUPATION_TYPE</th>\n",
       "      <th>CNT_FAM_MEMBERS</th>\n",
       "    </tr>\n",
       "  </thead>\n",
       "  <tbody>\n",
       "    <tr>\n",
       "      <th>0</th>\n",
       "      <td>675cc99f31970e97e31acd29</td>\n",
       "      <td>5008804</td>\n",
       "      <td>M</td>\n",
       "      <td>Y</td>\n",
       "      <td>Y</td>\n",
       "      <td>0</td>\n",
       "      <td>427500.0</td>\n",
       "      <td>Working</td>\n",
       "      <td>Higher education</td>\n",
       "      <td>Civil marriage</td>\n",
       "      <td>Rented apartment</td>\n",
       "      <td>-12005</td>\n",
       "      <td>-4542</td>\n",
       "      <td>1</td>\n",
       "      <td>1</td>\n",
       "      <td>0</td>\n",
       "      <td>0</td>\n",
       "      <td></td>\n",
       "      <td>2.0</td>\n",
       "    </tr>\n",
       "    <tr>\n",
       "      <th>1</th>\n",
       "      <td>675cc99f31970e97e31acd2a</td>\n",
       "      <td>5008805</td>\n",
       "      <td>M</td>\n",
       "      <td>Y</td>\n",
       "      <td>Y</td>\n",
       "      <td>0</td>\n",
       "      <td>427500.0</td>\n",
       "      <td>Working</td>\n",
       "      <td>Higher education</td>\n",
       "      <td>Civil marriage</td>\n",
       "      <td>Rented apartment</td>\n",
       "      <td>-12005</td>\n",
       "      <td>-4542</td>\n",
       "      <td>1</td>\n",
       "      <td>1</td>\n",
       "      <td>0</td>\n",
       "      <td>0</td>\n",
       "      <td></td>\n",
       "      <td>2.0</td>\n",
       "    </tr>\n",
       "    <tr>\n",
       "      <th>2</th>\n",
       "      <td>675cc99f31970e97e31acd2b</td>\n",
       "      <td>5008808</td>\n",
       "      <td>F</td>\n",
       "      <td>N</td>\n",
       "      <td>Y</td>\n",
       "      <td>0</td>\n",
       "      <td>270000.0</td>\n",
       "      <td>Commercial associate</td>\n",
       "      <td>Secondary / secondary special</td>\n",
       "      <td>Single / not married</td>\n",
       "      <td>House / apartment</td>\n",
       "      <td>-19110</td>\n",
       "      <td>-3051</td>\n",
       "      <td>1</td>\n",
       "      <td>0</td>\n",
       "      <td>1</td>\n",
       "      <td>1</td>\n",
       "      <td>Sales staff</td>\n",
       "      <td>1.0</td>\n",
       "    </tr>\n",
       "    <tr>\n",
       "      <th>3</th>\n",
       "      <td>675cc99f31970e97e31acd2c</td>\n",
       "      <td>5008806</td>\n",
       "      <td>M</td>\n",
       "      <td>Y</td>\n",
       "      <td>Y</td>\n",
       "      <td>0</td>\n",
       "      <td>112500.0</td>\n",
       "      <td>Working</td>\n",
       "      <td>Secondary / secondary special</td>\n",
       "      <td>Married</td>\n",
       "      <td>House / apartment</td>\n",
       "      <td>-21474</td>\n",
       "      <td>-1134</td>\n",
       "      <td>1</td>\n",
       "      <td>0</td>\n",
       "      <td>0</td>\n",
       "      <td>0</td>\n",
       "      <td>Security staff</td>\n",
       "      <td>2.0</td>\n",
       "    </tr>\n",
       "    <tr>\n",
       "      <th>4</th>\n",
       "      <td>675cc99f31970e97e31acd2d</td>\n",
       "      <td>5008809</td>\n",
       "      <td>F</td>\n",
       "      <td>N</td>\n",
       "      <td>Y</td>\n",
       "      <td>0</td>\n",
       "      <td>270000.0</td>\n",
       "      <td>Commercial associate</td>\n",
       "      <td>Secondary / secondary special</td>\n",
       "      <td>Single / not married</td>\n",
       "      <td>House / apartment</td>\n",
       "      <td>-19110</td>\n",
       "      <td>-3051</td>\n",
       "      <td>1</td>\n",
       "      <td>0</td>\n",
       "      <td>1</td>\n",
       "      <td>1</td>\n",
       "      <td>Sales staff</td>\n",
       "      <td>1.0</td>\n",
       "    </tr>\n",
       "  </tbody>\n",
       "</table>\n",
       "</div>"
      ],
      "text/plain": [
       "                        _id       ID CODE_GENDER FLAG_OWN_CAR FLAG_OWN_REALTY  \\\n",
       "0  675cc99f31970e97e31acd29  5008804           M            Y               Y   \n",
       "1  675cc99f31970e97e31acd2a  5008805           M            Y               Y   \n",
       "2  675cc99f31970e97e31acd2b  5008808           F            N               Y   \n",
       "3  675cc99f31970e97e31acd2c  5008806           M            Y               Y   \n",
       "4  675cc99f31970e97e31acd2d  5008809           F            N               Y   \n",
       "\n",
       "   CNT_CHILDREN  AMT_INCOME_TOTAL      NAME_INCOME_TYPE  \\\n",
       "0             0          427500.0               Working   \n",
       "1             0          427500.0               Working   \n",
       "2             0          270000.0  Commercial associate   \n",
       "3             0          112500.0               Working   \n",
       "4             0          270000.0  Commercial associate   \n",
       "\n",
       "             NAME_EDUCATION_TYPE    NAME_FAMILY_STATUS  NAME_HOUSING_TYPE  \\\n",
       "0               Higher education        Civil marriage   Rented apartment   \n",
       "1               Higher education        Civil marriage   Rented apartment   \n",
       "2  Secondary / secondary special  Single / not married  House / apartment   \n",
       "3  Secondary / secondary special               Married  House / apartment   \n",
       "4  Secondary / secondary special  Single / not married  House / apartment   \n",
       "\n",
       "   DAYS_BIRTH  DAYS_EMPLOYED  FLAG_MOBIL  FLAG_WORK_PHONE  FLAG_PHONE  \\\n",
       "0      -12005          -4542           1                1           0   \n",
       "1      -12005          -4542           1                1           0   \n",
       "2      -19110          -3051           1                0           1   \n",
       "3      -21474          -1134           1                0           0   \n",
       "4      -19110          -3051           1                0           1   \n",
       "\n",
       "   FLAG_EMAIL OCCUPATION_TYPE  CNT_FAM_MEMBERS  \n",
       "0           0                              2.0  \n",
       "1           0                              2.0  \n",
       "2           1     Sales staff              1.0  \n",
       "3           0  Security staff              2.0  \n",
       "4           1     Sales staff              1.0  "
      ]
     },
     "execution_count": 3,
     "metadata": {},
     "output_type": "execute_result"
    }
   ],
   "source": [
    "data_df.head()"
   ]
  },
  {
   "cell_type": "code",
   "execution_count": 4,
   "metadata": {},
   "outputs": [
    {
     "data": {
      "text/html": [
       "<div>\n",
       "<style scoped>\n",
       "    .dataframe tbody tr th:only-of-type {\n",
       "        vertical-align: middle;\n",
       "    }\n",
       "\n",
       "    .dataframe tbody tr th {\n",
       "        vertical-align: top;\n",
       "    }\n",
       "\n",
       "    .dataframe thead th {\n",
       "        text-align: right;\n",
       "    }\n",
       "</style>\n",
       "<table border=\"1\" class=\"dataframe\">\n",
       "  <thead>\n",
       "    <tr style=\"text-align: right;\">\n",
       "      <th></th>\n",
       "      <th>_id</th>\n",
       "      <th>ID</th>\n",
       "      <th>MONTHS_BALANCE</th>\n",
       "      <th>STATUS</th>\n",
       "    </tr>\n",
       "  </thead>\n",
       "  <tbody>\n",
       "    <tr>\n",
       "      <th>0</th>\n",
       "      <td>675cc9cad21674477da846b5</td>\n",
       "      <td>5001711</td>\n",
       "      <td>-3</td>\n",
       "      <td>0</td>\n",
       "    </tr>\n",
       "    <tr>\n",
       "      <th>1</th>\n",
       "      <td>675cc9cad21674477da846b6</td>\n",
       "      <td>5001712</td>\n",
       "      <td>0</td>\n",
       "      <td>C</td>\n",
       "    </tr>\n",
       "    <tr>\n",
       "      <th>2</th>\n",
       "      <td>675cc9cad21674477da846b7</td>\n",
       "      <td>5001712</td>\n",
       "      <td>-1</td>\n",
       "      <td>C</td>\n",
       "    </tr>\n",
       "    <tr>\n",
       "      <th>3</th>\n",
       "      <td>675cc9cad21674477da846b8</td>\n",
       "      <td>5001712</td>\n",
       "      <td>-2</td>\n",
       "      <td>C</td>\n",
       "    </tr>\n",
       "    <tr>\n",
       "      <th>4</th>\n",
       "      <td>675cc9cad21674477da846b9</td>\n",
       "      <td>5001712</td>\n",
       "      <td>-3</td>\n",
       "      <td>C</td>\n",
       "    </tr>\n",
       "  </tbody>\n",
       "</table>\n",
       "</div>"
      ],
      "text/plain": [
       "                        _id       ID  MONTHS_BALANCE STATUS\n",
       "0  675cc9cad21674477da846b5  5001711              -3      0\n",
       "1  675cc9cad21674477da846b6  5001712               0      C\n",
       "2  675cc9cad21674477da846b7  5001712              -1      C\n",
       "3  675cc9cad21674477da846b8  5001712              -2      C\n",
       "4  675cc9cad21674477da846b9  5001712              -3      C"
      ]
     },
     "execution_count": 4,
     "metadata": {},
     "output_type": "execute_result"
    }
   ],
   "source": [
    "record_df.head()"
   ]
  },
  {
   "cell_type": "markdown",
   "metadata": {},
   "source": [
    "# Establish how long they've had the credit open"
   ]
  },
  {
   "cell_type": "code",
   "execution_count": 5,
   "metadata": {},
   "outputs": [
    {
     "name": "stdout",
     "output_type": "stream",
     "text": [
      "                        _id       ID CODE_GENDER FLAG_OWN_CAR FLAG_OWN_REALTY  \\\n",
      "0  675cc99f31970e97e31acd29  5008804           M            Y               Y   \n",
      "1  675cc99f31970e97e31acd2a  5008805           M            Y               Y   \n",
      "2  675cc99f31970e97e31acd2b  5008808           F            N               Y   \n",
      "3  675cc99f31970e97e31acd2c  5008806           M            Y               Y   \n",
      "4  675cc99f31970e97e31acd2d  5008809           F            N               Y   \n",
      "\n",
      "   CNT_CHILDREN  AMT_INCOME_TOTAL      NAME_INCOME_TYPE  \\\n",
      "0             0          427500.0               Working   \n",
      "1             0          427500.0               Working   \n",
      "2             0          270000.0  Commercial associate   \n",
      "3             0          112500.0               Working   \n",
      "4             0          270000.0  Commercial associate   \n",
      "\n",
      "             NAME_EDUCATION_TYPE    NAME_FAMILY_STATUS  NAME_HOUSING_TYPE  \\\n",
      "0               Higher education        Civil marriage   Rented apartment   \n",
      "1               Higher education        Civil marriage   Rented apartment   \n",
      "2  Secondary / secondary special  Single / not married  House / apartment   \n",
      "3  Secondary / secondary special               Married  House / apartment   \n",
      "4  Secondary / secondary special  Single / not married  House / apartment   \n",
      "\n",
      "   DAYS_BIRTH  DAYS_EMPLOYED  FLAG_MOBIL  FLAG_WORK_PHONE  FLAG_PHONE  \\\n",
      "0      -12005          -4542           1                1           0   \n",
      "1      -12005          -4542           1                1           0   \n",
      "2      -19110          -3051           1                0           1   \n",
      "3      -21474          -1134           1                0           0   \n",
      "4      -19110          -3051           1                0           1   \n",
      "\n",
      "   FLAG_EMAIL OCCUPATION_TYPE  CNT_FAM_MEMBERS  begin_month  \n",
      "0           0                              2.0        -15.0  \n",
      "1           0                              2.0        -14.0  \n",
      "2           1     Sales staff              1.0         -4.0  \n",
      "3           0  Security staff              2.0        -29.0  \n",
      "4           1     Sales staff              1.0        -26.0  \n"
     ]
    },
    {
     "name": "stderr",
     "output_type": "stream",
     "text": [
      "C:\\Users\\Laura\\AppData\\Local\\Temp\\ipykernel_23004\\2429288361.py:2: FutureWarning: The provided callable <built-in function min> is currently using SeriesGroupBy.min. In a future version of pandas, the provided callable will be used directly. To keep current behavior pass the string \"min\" instead.\n",
      "  begin_month = record_df.groupby(\"ID\")[\"MONTHS_BALANCE\"].agg(min).reset_index()\n"
     ]
    }
   ],
   "source": [
    "# Group and process the 'credit' collection DataFrame\n",
    "begin_month = record_df.groupby(\"ID\")[\"MONTHS_BALANCE\"].agg(min).reset_index()\n",
    "begin_month = begin_month.rename(columns={'MONTHS_BALANCE': 'begin_month'})\n",
    "\n",
    "# Merge the DataFrames on the 'ID' column\n",
    "merged_df = pd.merge(data_df, begin_month, how=\"left\", on=\"ID\")\n",
    "merged_df = pd.DataFrame(merged_df)\n",
    "\n",
    "# Show the first few rows of the merged DataFrame\n",
    "print(merged_df.head())"
   ]
  },
  {
   "cell_type": "code",
   "execution_count": 6,
   "metadata": {},
   "outputs": [
    {
     "name": "stdout",
     "output_type": "stream",
     "text": [
      "<class 'pandas.core.frame.DataFrame'>\n",
      "RangeIndex: 438557 entries, 0 to 438556\n",
      "Data columns (total 20 columns):\n",
      " #   Column               Non-Null Count   Dtype  \n",
      "---  ------               --------------   -----  \n",
      " 0   _id                  438557 non-null  object \n",
      " 1   ID                   438557 non-null  int64  \n",
      " 2   CODE_GENDER          438557 non-null  object \n",
      " 3   FLAG_OWN_CAR         438557 non-null  object \n",
      " 4   FLAG_OWN_REALTY      438557 non-null  object \n",
      " 5   CNT_CHILDREN         438557 non-null  int64  \n",
      " 6   AMT_INCOME_TOTAL     438557 non-null  float64\n",
      " 7   NAME_INCOME_TYPE     438557 non-null  object \n",
      " 8   NAME_EDUCATION_TYPE  438557 non-null  object \n",
      " 9   NAME_FAMILY_STATUS   438557 non-null  object \n",
      " 10  NAME_HOUSING_TYPE    438557 non-null  object \n",
      " 11  DAYS_BIRTH           438557 non-null  int64  \n",
      " 12  DAYS_EMPLOYED        438557 non-null  int64  \n",
      " 13  FLAG_MOBIL           438557 non-null  int64  \n",
      " 14  FLAG_WORK_PHONE      438557 non-null  int64  \n",
      " 15  FLAG_PHONE           438557 non-null  int64  \n",
      " 16  FLAG_EMAIL           438557 non-null  int64  \n",
      " 17  OCCUPATION_TYPE      438557 non-null  object \n",
      " 18  CNT_FAM_MEMBERS      438557 non-null  float64\n",
      " 19  begin_month          36457 non-null   float64\n",
      "dtypes: float64(3), int64(8), object(9)\n",
      "memory usage: 66.9+ MB\n",
      "None\n"
     ]
    }
   ],
   "source": [
    "print(merged_df.info())"
   ]
  },
  {
   "cell_type": "code",
   "execution_count": 7,
   "metadata": {},
   "outputs": [],
   "source": [
    "# Find all users' account open month\n",
    "begin_month = record_df.groupby(\"ID\", as_index=False)[\"MONTHS_BALANCE\"].agg(\"min\")\n",
    "begin_month = begin_month.rename(columns={\"MONTHS_BALANCE\": \"begin_month\"})\n",
    "\n",
    "# Merge with the main dataset\n",
    "new_data = pd.merge(data_df, begin_month, how=\"left\", on=\"ID\")"
   ]
  },
  {
   "cell_type": "markdown",
   "metadata": {},
   "source": [
    "# Creating the 'target' column by establish anyone with 2, 3, 4, or 5 in this column labels them as risky (1) and everyone else as not risky (0)"
   ]
  },
  {
   "cell_type": "code",
   "execution_count": 8,
   "metadata": {},
   "outputs": [
    {
     "name": "stdout",
     "output_type": "stream",
     "text": [
      "risk_factor columns: Index(['ID', 'past_due'], dtype='object')\n",
      "        ID past_due\n",
      "0  5001711       No\n",
      "1  5001712       No\n",
      "2  5001713       No\n",
      "3  5001714       No\n",
      "4  5001715       No\n",
      "new_data columns: Index(['_id', 'ID', 'CODE_GENDER', 'FLAG_OWN_CAR', 'FLAG_OWN_REALTY',\n",
      "       'CNT_CHILDREN', 'AMT_INCOME_TOTAL', 'NAME_INCOME_TYPE',\n",
      "       'NAME_EDUCATION_TYPE', 'NAME_FAMILY_STATUS', 'NAME_HOUSING_TYPE',\n",
      "       'DAYS_BIRTH', 'DAYS_EMPLOYED', 'FLAG_MOBIL', 'FLAG_WORK_PHONE',\n",
      "       'FLAG_PHONE', 'FLAG_EMAIL', 'OCCUPATION_TYPE', 'CNT_FAM_MEMBERS',\n",
      "       'begin_month', 'past_due'],\n",
      "      dtype='object')\n",
      "                        _id       ID CODE_GENDER FLAG_OWN_CAR FLAG_OWN_REALTY  \\\n",
      "0  675cc99f31970e97e31acd29  5008804           M            Y               Y   \n",
      "1  675cc99f31970e97e31acd2a  5008805           M            Y               Y   \n",
      "2  675cc99f31970e97e31acd2b  5008808           F            N               Y   \n",
      "3  675cc99f31970e97e31acd2c  5008806           M            Y               Y   \n",
      "4  675cc99f31970e97e31acd2d  5008809           F            N               Y   \n",
      "\n",
      "   CNT_CHILDREN  AMT_INCOME_TOTAL      NAME_INCOME_TYPE  \\\n",
      "0             0          427500.0               Working   \n",
      "1             0          427500.0               Working   \n",
      "2             0          270000.0  Commercial associate   \n",
      "3             0          112500.0               Working   \n",
      "4             0          270000.0  Commercial associate   \n",
      "\n",
      "             NAME_EDUCATION_TYPE    NAME_FAMILY_STATUS  ... DAYS_BIRTH  \\\n",
      "0               Higher education        Civil marriage  ...     -12005   \n",
      "1               Higher education        Civil marriage  ...     -12005   \n",
      "2  Secondary / secondary special  Single / not married  ...     -19110   \n",
      "3  Secondary / secondary special               Married  ...     -21474   \n",
      "4  Secondary / secondary special  Single / not married  ...     -19110   \n",
      "\n",
      "   DAYS_EMPLOYED  FLAG_MOBIL  FLAG_WORK_PHONE  FLAG_PHONE  FLAG_EMAIL  \\\n",
      "0          -4542           1                1           0           0   \n",
      "1          -4542           1                1           0           0   \n",
      "2          -3051           1                0           1           1   \n",
      "3          -1134           1                0           0           0   \n",
      "4          -3051           1                0           1           1   \n",
      "\n",
      "   OCCUPATION_TYPE CNT_FAM_MEMBERS  begin_month  past_due  \n",
      "0                              2.0        -15.0        No  \n",
      "1                              2.0        -14.0        No  \n",
      "2      Sales staff             1.0         -4.0        No  \n",
      "3   Security staff             2.0        -29.0        No  \n",
      "4      Sales staff             1.0        -26.0        No  \n",
      "\n",
      "[5 rows x 21 columns]\n"
     ]
    }
   ],
   "source": [
    "# Add a column to identify past due payments\n",
    "record_df['past_due'] = 'No'  # Default to 'No'\n",
    "record_df.loc[record_df['STATUS'].isin([2, 3, 4, 5]), 'past_due'] = 'Yes'\n",
    "\n",
    "# Group by 'ID' to determine if any record is past due\n",
    "risk_factor = record_df.groupby('ID', as_index=False)['past_due'].agg(\n",
    "    lambda x: 'Yes' if 'Yes' in x.values else 'No'\n",
    ")\n",
    "\n",
    "# Debug: Ensure 'cpunt' contains 'past_due'\n",
    "print(\"risk_factor columns:\", risk_factor.columns)\n",
    "print(risk_factor.head())\n",
    "\n",
    "# Merge with new_data\n",
    "new_data = pd.merge(new_data, risk_factor, how='inner', on='ID')\n",
    "\n",
    "# Debug: Ensure 'past_due' exists in new_data\n",
    "print(\"new_data columns:\", new_data.columns)\n",
    "print(new_data.head())\n",
    "\n",
    "# Map 'Yes' and 'No' to numeric targets\n",
    "if 'past_due' in new_data.columns:\n",
    "    new_data['target'] = new_data['past_due'].map({'Yes': 1, 'No': 0})\n",
    "else:\n",
    "    print(\"Error: 'past_due' column is missing in new_data.\")\n"
   ]
  },
  {
   "cell_type": "code",
   "execution_count": 9,
   "metadata": {},
   "outputs": [
    {
     "name": "stdout",
     "output_type": "stream",
     "text": [
      "past_due\n",
      "No     45318\n",
      "Yes      667\n",
      "Name: count, dtype: int64\n"
     ]
    },
    {
     "data": {
      "text/plain": [
       "past_due\n",
       "No     0.985495\n",
       "Yes    0.014505\n",
       "Name: proportion, dtype: float64"
      ]
     },
     "execution_count": 9,
     "metadata": {},
     "output_type": "execute_result"
    }
   ],
   "source": [
    "print(risk_factor['past_due'].value_counts())\n",
    "risk_factor['past_due'].value_counts(normalize=True)"
   ]
  },
  {
   "cell_type": "code",
   "execution_count": 10,
   "metadata": {},
   "outputs": [
    {
     "name": "stdout",
     "output_type": "stream",
     "text": [
      "past_due\n",
      "No     1045471\n",
      "Yes       3104\n",
      "Name: count, dtype: int64\n"
     ]
    }
   ],
   "source": [
    "print(record_df['past_due'].value_counts())"
   ]
  },
  {
   "cell_type": "code",
   "execution_count": 11,
   "metadata": {},
   "outputs": [
    {
     "name": "stdout",
     "output_type": "stream",
     "text": [
      "target\n",
      "0    35841\n",
      "1      616\n",
      "Name: count, dtype: int64\n"
     ]
    }
   ],
   "source": [
    "# Create a binary target variable (1 for high-risk customers, 0 otherwise)\n",
    "print(new_data['target'].value_counts())"
   ]
  },
  {
   "cell_type": "code",
   "execution_count": 12,
   "metadata": {},
   "outputs": [
    {
     "name": "stdout",
     "output_type": "stream",
     "text": [
      "int64\n",
      "int64\n"
     ]
    }
   ],
   "source": [
    "risk_factor = record_df.groupby('ID', as_index=False)['past_due'].agg(\n",
    "    lambda x: 'Yes' if 'Yes' in x.values else 'No'\n",
    ")\n",
    "print(new_data['ID'].dtype)\n",
    "print(risk_factor['ID'].dtype)"
   ]
  },
  {
   "cell_type": "code",
   "execution_count": 13,
   "metadata": {},
   "outputs": [
    {
     "name": "stdout",
     "output_type": "stream",
     "text": [
      "Number of missing values in 'past_due': 0\n"
     ]
    }
   ],
   "source": [
    "# Check for missing values in 'past_due'\n",
    "na_count = new_data['past_due'].isna().sum()\n",
    "print(f\"Number of missing values in 'past_due': {na_count}\")"
   ]
  },
  {
   "cell_type": "code",
   "execution_count": 14,
   "metadata": {},
   "outputs": [
    {
     "name": "stdout",
     "output_type": "stream",
     "text": [
      "Yes: 667\n",
      "No: 45318\n"
     ]
    }
   ],
   "source": [
    "yes_count = (risk_factor['past_due'] == 'Yes').sum()\n",
    "no_count = (risk_factor['past_due'] == 'No').sum()\n",
    "\n",
    "print(f\"Yes: {yes_count}\")\n",
    "print(f\"No: {no_count}\")"
   ]
  },
  {
   "cell_type": "code",
   "execution_count": 15,
   "metadata": {},
   "outputs": [],
   "source": [
    "new_data = new_data.rename(columns={\n",
    "    \"ID\": \"ID\",\n",
    "    \"CODE_GENDER\": \"GENDER\",\n",
    "    \"FLAG_OWN_CAR\": \"OWN CAR\",\n",
    "    \"FLAG_OWN_REALTY\": \"OWN REALTY\",\n",
    "    \"CNT_CHILDREN\": \"CHILDREN\",\n",
    "    \"AMT_INCOME_TOTAL\": \"INCOME TOTAL\",\n",
    "    \"NAME_INCOME_TYPE\": \"INCOME TYPE\",\n",
    "    \"NAME_EDUCATION_TYPE\": \"EDUCATION TYPE\",\n",
    "    \"NAME_FAMILY_STATUS\": \"FAMILY STATUS\",\n",
    "    \"NAME_HOUSING_TYPE\": \"HOUSING TYPE\",\n",
    "    \"DAYS_BIRTH\": \"DAYS SINCE BIRTH\",\n",
    "    \"DAYS_EMPLOYED\": \"DAYS EMPLOYED\",\n",
    "    \"FLAG_MOBIL\": \"MOBIL\",\n",
    "    \"FLAG_WORK_PHONE\": \"WORK PHONE\",\n",
    "    \"FLAG_PHONE\": \"PHONE\",\n",
    "    \"FLAG_EMAIL\": \"EMAIL\",\n",
    "    \"OCCUPATION_TYPE\": \"TYPE\",\n",
    "    \"CNT_FAM_MEMBERS\": \"FAM MEMBERS\"\n",
    "})"
   ]
  },
  {
   "cell_type": "code",
   "execution_count": 16,
   "metadata": {},
   "outputs": [
    {
     "name": "stdout",
     "output_type": "stream",
     "text": [
      "Index(['_id', 'ID', 'GENDER', 'OWN CAR', 'OWN REALTY', 'CHILDREN',\n",
      "       'INCOME TOTAL', 'INCOME TYPE', 'EDUCATION TYPE', 'FAMILY STATUS',\n",
      "       'HOUSING TYPE', 'DAYS SINCE BIRTH', 'DAYS EMPLOYED', 'MOBIL',\n",
      "       'WORK PHONE', 'PHONE', 'EMAIL', 'TYPE', 'FAM MEMBERS', 'begin_month',\n",
      "       'past_due', 'target'],\n",
      "      dtype='object')\n"
     ]
    }
   ],
   "source": [
    "print(new_data.columns)"
   ]
  },
  {
   "cell_type": "code",
   "execution_count": 17,
   "metadata": {},
   "outputs": [],
   "source": [
    "new_data.dropna()\n",
    "new_data = new_data.mask(new_data == 'NULL').dropna()"
   ]
  },
  {
   "cell_type": "code",
   "execution_count": 18,
   "metadata": {},
   "outputs": [
    {
     "name": "stdout",
     "output_type": "stream",
     "text": [
      "<class 'pandas.core.frame.DataFrame'>\n",
      "RangeIndex: 36457 entries, 0 to 36456\n",
      "Data columns (total 22 columns):\n",
      " #   Column            Non-Null Count  Dtype  \n",
      "---  ------            --------------  -----  \n",
      " 0   _id               36457 non-null  object \n",
      " 1   ID                36457 non-null  int64  \n",
      " 2   GENDER            36457 non-null  object \n",
      " 3   OWN CAR           36457 non-null  object \n",
      " 4   OWN REALTY        36457 non-null  object \n",
      " 5   CHILDREN          36457 non-null  int64  \n",
      " 6   INCOME TOTAL      36457 non-null  float64\n",
      " 7   INCOME TYPE       36457 non-null  object \n",
      " 8   EDUCATION TYPE    36457 non-null  object \n",
      " 9   FAMILY STATUS     36457 non-null  object \n",
      " 10  HOUSING TYPE      36457 non-null  object \n",
      " 11  DAYS SINCE BIRTH  36457 non-null  int64  \n",
      " 12  DAYS EMPLOYED     36457 non-null  int64  \n",
      " 13  MOBIL             36457 non-null  int64  \n",
      " 14  WORK PHONE        36457 non-null  int64  \n",
      " 15  PHONE             36457 non-null  int64  \n",
      " 16  EMAIL             36457 non-null  int64  \n",
      " 17  TYPE              36457 non-null  object \n",
      " 18  FAM MEMBERS       36457 non-null  float64\n",
      " 19  begin_month       36457 non-null  float64\n",
      " 20  past_due          36457 non-null  object \n",
      " 21  target            36457 non-null  int64  \n",
      "dtypes: float64(3), int64(9), object(10)\n",
      "memory usage: 6.1+ MB\n"
     ]
    }
   ],
   "source": [
    "new_data.info()"
   ]
  },
  {
   "cell_type": "code",
   "execution_count": 19,
   "metadata": {},
   "outputs": [],
   "source": [
    "# Create a DataFrame with column names and initialize 'IV' with None\n",
    "ivtable = pd.DataFrame({'variable': new_data.columns, 'IV': None})\n",
    "\n",
    "# List of variables to exclude\n",
    "namelist = ['MOBIL', 'begin_month', 'past_due', 'target', 'ID']\n",
    "\n",
    "# Drop rows where the 'variable' is in the namelist\n",
    "ivtable = ivtable[~ivtable['variable'].isin(namelist)].reset_index(drop=True)\n"
   ]
  },
  {
   "cell_type": "markdown",
   "metadata": {},
   "source": [
    "# calc_iv function\n",
    "\n",
    "This function calculates the Information Value (IV) of a feature relative to a target variable. \n",
    "Information Value is a measure used in predictive modeling to evaluate the predictive power of a feature. \n",
    "It is commonly used in credit scoring and binary classification problems.\n",
    "\n",
    "df: The DataFrame containing the feature and target variable.<br>\n",
    "feature: The column name of the feature for which IV is being calculated.<br>\n",
    "target: The column name of the target variable (binary: 0 or 1).<br>\n",
    "pr: A boolean flag to print intermediate data and the IV score."
   ]
  },
  {
   "cell_type": "code",
   "execution_count": 20,
   "metadata": {},
   "outputs": [],
   "source": [
    "# Updated Function\n",
    "def calc_iv(df, feature, target, pr=False):\n",
    "    # Handle missing values in a way compatible with categorical data\n",
    "    if df[feature].dtype.name == \"category\":\n",
    "        # Add \"NULL\" as a category if not already present\n",
    "        if \"NULL\" not in df[feature].cat.categories:\n",
    "            df[feature] = df[feature].cat.add_categories(\"NULL\")\n",
    "    # Replace missing values with \"NULL\"\n",
    "    df[feature] = df[feature].fillna(\"NULL\")\n",
    "\n",
    "    lst = []\n",
    "\n",
    "    # Iterate over unique feature values\n",
    "    for val in df[feature].unique():\n",
    "        all_count = df[df[feature] == val].shape[0]\n",
    "        good_count = df[(df[feature] == val) & (df[target] == 0)].shape[0]  # Good (e.g., target == 0)\n",
    "        bad_count = df[(df[feature] == val) & (df[target] == 1)].shape[0]   # Bad (e.g., target == 1)\n",
    "\n",
    "        lst.append([feature, val, all_count, good_count, bad_count])\n",
    "\n",
    "    # Convert to DataFrame\n",
    "    data = pd.DataFrame(lst, columns=['Variable', 'Value', 'All', 'Good', 'Bad'])\n",
    "\n",
    "    # Calculate shares and distributions\n",
    "    total_good = data['Good'].sum()\n",
    "    total_bad = data['Bad'].sum()\n",
    "    epsilon = 1e-10  # Small constant to prevent division by zero\n",
    "\n",
    "    data['Share'] = data['All'] / data['All'].sum()\n",
    "    data['Bad Rate'] = data['Bad'] / (data['All'] + epsilon)\n",
    "    data['Distribution Good'] = data['Good'] / (total_good + epsilon)\n",
    "    data['Distribution Bad'] = data['Bad'] / (total_bad + epsilon)\n",
    "\n",
    "    # Calculate Weight of Evidence (WoE)\n",
    "    data['WoE'] = np.log((data['Distribution Good'] + epsilon) / (data['Distribution Bad'] + epsilon))\n",
    "    data.replace({'WoE': {np.inf: 0, -np.inf: 0}}, inplace=True)  # Replace infinite values with 0\n",
    "\n",
    "    # Calculate Information Value (IV)\n",
    "    data['IV'] = (data['Distribution Good'] - data['Distribution Bad']) * data['WoE']\n",
    "\n",
    "    # Sort data\n",
    "    data = data.sort_values(by=['Variable', 'Value'], ascending=[True, True]).reset_index(drop=True)\n",
    "\n",
    "    # Print results if needed\n",
    "    if pr:\n",
    "        print(data)\n",
    "        print('IV = ', data['IV'].sum())\n",
    "\n",
    "    # Calculate total IV\n",
    "    iv = data['IV'].sum()\n",
    "    print('This variable\\'s IV is:', iv)\n",
    "    print(df[feature].value_counts())\n",
    "\n",
    "    return iv, data\n"
   ]
  },
  {
   "cell_type": "code",
   "execution_count": 21,
   "metadata": {},
   "outputs": [
    {
     "name": "stdout",
     "output_type": "stream",
     "text": [
      "Yes: 667\n",
      "No: 45318\n"
     ]
    }
   ],
   "source": [
    "yes_count = (risk_factor['past_due'] == 'Yes').sum()\n",
    "no_count = (risk_factor['past_due'] == 'No').sum()\n",
    "\n",
    "print(f\"Yes: {yes_count}\")\n",
    "print(f\"No: {no_count}\")"
   ]
  },
  {
   "cell_type": "code",
   "execution_count": 22,
   "metadata": {},
   "outputs": [
    {
     "name": "stdout",
     "output_type": "stream",
     "text": [
      "target\n",
      "0    35841\n",
      "1      616\n",
      "Name: count, dtype: int64\n"
     ]
    }
   ],
   "source": [
    "print(new_data['target'].value_counts())\n"
   ]
  },
  {
   "cell_type": "code",
   "execution_count": 23,
   "metadata": {},
   "outputs": [
    {
     "name": "stdout",
     "output_type": "stream",
     "text": [
      "<class 'pandas.core.frame.DataFrame'>\n",
      "RangeIndex: 36457 entries, 0 to 36456\n",
      "Data columns (total 22 columns):\n",
      " #   Column            Non-Null Count  Dtype  \n",
      "---  ------            --------------  -----  \n",
      " 0   _id               36457 non-null  object \n",
      " 1   ID                36457 non-null  int64  \n",
      " 2   GENDER            36457 non-null  object \n",
      " 3   OWN CAR           36457 non-null  object \n",
      " 4   OWN REALTY        36457 non-null  object \n",
      " 5   CHILDREN          36457 non-null  int64  \n",
      " 6   INCOME TOTAL      36457 non-null  float64\n",
      " 7   INCOME TYPE       36457 non-null  object \n",
      " 8   EDUCATION TYPE    36457 non-null  object \n",
      " 9   FAMILY STATUS     36457 non-null  object \n",
      " 10  HOUSING TYPE      36457 non-null  object \n",
      " 11  DAYS SINCE BIRTH  36457 non-null  int64  \n",
      " 12  DAYS EMPLOYED     36457 non-null  int64  \n",
      " 13  MOBIL             36457 non-null  int64  \n",
      " 14  WORK PHONE        36457 non-null  int64  \n",
      " 15  PHONE             36457 non-null  int64  \n",
      " 16  EMAIL             36457 non-null  int64  \n",
      " 17  TYPE              36457 non-null  object \n",
      " 18  FAM MEMBERS       36457 non-null  float64\n",
      " 19  begin_month       36457 non-null  float64\n",
      " 20  past_due          36457 non-null  object \n",
      " 21  target            36457 non-null  int64  \n",
      "dtypes: float64(3), int64(9), object(10)\n",
      "memory usage: 6.1+ MB\n",
      "None\n",
      "                        _id       ID GENDER OWN CAR OWN REALTY  CHILDREN  \\\n",
      "0  675cc99f31970e97e31acd29  5008804      M       Y          Y         0   \n",
      "1  675cc99f31970e97e31acd2a  5008805      M       Y          Y         0   \n",
      "2  675cc99f31970e97e31acd2b  5008808      F       N          Y         0   \n",
      "3  675cc99f31970e97e31acd2c  5008806      M       Y          Y         0   \n",
      "4  675cc99f31970e97e31acd2d  5008809      F       N          Y         0   \n",
      "\n",
      "   INCOME TOTAL           INCOME TYPE                 EDUCATION TYPE  \\\n",
      "0      427500.0               Working               Higher education   \n",
      "1      427500.0               Working               Higher education   \n",
      "2      270000.0  Commercial associate  Secondary / secondary special   \n",
      "3      112500.0               Working  Secondary / secondary special   \n",
      "4      270000.0  Commercial associate  Secondary / secondary special   \n",
      "\n",
      "          FAMILY STATUS  ... DAYS EMPLOYED  MOBIL  WORK PHONE  PHONE  EMAIL  \\\n",
      "0        Civil marriage  ...         -4542      1           1      0      0   \n",
      "1        Civil marriage  ...         -4542      1           1      0      0   \n",
      "2  Single / not married  ...         -3051      1           0      1      1   \n",
      "3               Married  ...         -1134      1           0      0      0   \n",
      "4  Single / not married  ...         -3051      1           0      1      1   \n",
      "\n",
      "             TYPE  FAM MEMBERS begin_month  past_due  target  \n",
      "0                          2.0       -15.0        No       0  \n",
      "1                          2.0       -14.0        No       0  \n",
      "2     Sales staff          1.0        -4.0        No       0  \n",
      "3  Security staff          2.0       -29.0        No       0  \n",
      "4     Sales staff          1.0       -26.0        No       0  \n",
      "\n",
      "[5 rows x 22 columns]\n"
     ]
    }
   ],
   "source": [
    "print(new_data.info())\n",
    "print(new_data.head())"
   ]
  },
  {
   "cell_type": "code",
   "execution_count": 24,
   "metadata": {},
   "outputs": [
    {
     "name": "stdout",
     "output_type": "stream",
     "text": [
      "  Variable Value    All   Good  Bad     Share  Bad Rate  Distribution Good  \\\n",
      "0   GENDER     F  24430  24051  379  0.670105  0.015514           0.671047   \n",
      "1   GENDER     M  12027  11790  237  0.329895  0.019706           0.328953   \n",
      "\n",
      "   Distribution Bad       WoE        IV  \n",
      "0           0.61526  0.086795  0.004842  \n",
      "1           0.38474 -0.156654  0.008739  \n",
      "IV =  0.013581371664144234\n",
      "This variable's IV is: 0.013581371664144234\n",
      "GENDER\n",
      "F    24430\n",
      "M    12027\n",
      "Name: count, dtype: int64\n"
     ]
    }
   ],
   "source": [
    "iv, data = calc_iv(df=new_data, feature='GENDER', target='target', pr=True)\n"
   ]
  },
  {
   "cell_type": "code",
   "execution_count": 25,
   "metadata": {},
   "outputs": [
    {
     "name": "stdout",
     "output_type": "stream",
     "text": [
      "GENDER\n",
      "0    24430\n",
      "1    12027\n",
      "Name: count, dtype: int64\n",
      "This variable's IV is: 0.013581371664144234\n",
      "GENDER\n",
      "0    24430\n",
      "1    12027\n",
      "Name: count, dtype: int64\n"
     ]
    },
    {
     "name": "stderr",
     "output_type": "stream",
     "text": [
      "C:\\Users\\Laura\\AppData\\Local\\Temp\\ipykernel_23004\\1154117438.py:1: FutureWarning: Downcasting behavior in `replace` is deprecated and will be removed in a future version. To retain the old behavior, explicitly call `result.infer_objects(copy=False)`. To opt-in to the future behavior, set `pd.set_option('future.no_silent_downcasting', True)`\n",
      "  new_data['GENDER'] = new_data['GENDER'].replace(['F','M'],[0,1])\n"
     ]
    },
    {
     "data": {
      "text/html": [
       "<div>\n",
       "<style scoped>\n",
       "    .dataframe tbody tr th:only-of-type {\n",
       "        vertical-align: middle;\n",
       "    }\n",
       "\n",
       "    .dataframe tbody tr th {\n",
       "        vertical-align: top;\n",
       "    }\n",
       "\n",
       "    .dataframe thead th {\n",
       "        text-align: right;\n",
       "    }\n",
       "</style>\n",
       "<table border=\"1\" class=\"dataframe\">\n",
       "  <thead>\n",
       "    <tr style=\"text-align: right;\">\n",
       "      <th></th>\n",
       "      <th>Variable</th>\n",
       "      <th>Value</th>\n",
       "      <th>All</th>\n",
       "      <th>Good</th>\n",
       "      <th>Bad</th>\n",
       "      <th>Share</th>\n",
       "      <th>Bad Rate</th>\n",
       "      <th>Distribution Good</th>\n",
       "      <th>Distribution Bad</th>\n",
       "      <th>WoE</th>\n",
       "      <th>IV</th>\n",
       "    </tr>\n",
       "  </thead>\n",
       "  <tbody>\n",
       "    <tr>\n",
       "      <th>0</th>\n",
       "      <td>GENDER</td>\n",
       "      <td>0</td>\n",
       "      <td>24430</td>\n",
       "      <td>24051</td>\n",
       "      <td>379</td>\n",
       "      <td>0.670105</td>\n",
       "      <td>0.015514</td>\n",
       "      <td>0.671047</td>\n",
       "      <td>0.61526</td>\n",
       "      <td>0.086795</td>\n",
       "      <td>0.004842</td>\n",
       "    </tr>\n",
       "    <tr>\n",
       "      <th>1</th>\n",
       "      <td>GENDER</td>\n",
       "      <td>1</td>\n",
       "      <td>12027</td>\n",
       "      <td>11790</td>\n",
       "      <td>237</td>\n",
       "      <td>0.329895</td>\n",
       "      <td>0.019706</td>\n",
       "      <td>0.328953</td>\n",
       "      <td>0.38474</td>\n",
       "      <td>-0.156654</td>\n",
       "      <td>0.008739</td>\n",
       "    </tr>\n",
       "  </tbody>\n",
       "</table>\n",
       "</div>"
      ],
      "text/plain": [
       "  Variable  Value    All   Good  Bad     Share  Bad Rate  Distribution Good  \\\n",
       "0   GENDER      0  24430  24051  379  0.670105  0.015514           0.671047   \n",
       "1   GENDER      1  12027  11790  237  0.329895  0.019706           0.328953   \n",
       "\n",
       "   Distribution Bad       WoE        IV  \n",
       "0           0.61526  0.086795  0.004842  \n",
       "1           0.38474 -0.156654  0.008739  "
      ]
     },
     "execution_count": 25,
     "metadata": {},
     "output_type": "execute_result"
    }
   ],
   "source": [
    "new_data['GENDER'] = new_data['GENDER'].replace(['F','M'],[0,1])\n",
    "print(new_data['GENDER'].value_counts())\n",
    "iv, data = calc_iv(new_data,'GENDER','target')\n",
    "ivtable.loc[ivtable['variable']=='GENDER','IV']=iv\n",
    "data.head()"
   ]
  },
  {
   "cell_type": "markdown",
   "metadata": {},
   "source": [
    "# convert_dummy function\n",
    "Converts columns into numerical units"
   ]
  },
  {
   "cell_type": "code",
   "execution_count": 26,
   "metadata": {},
   "outputs": [],
   "source": [
    "def convert_dummy(df, feature,rank=0):\n",
    "    pos = pd.get_dummies(df[feature], prefix=feature)\n",
    "    mode = df[feature].value_counts().index[rank]\n",
    "    biggest = feature + '_' + str(mode)\n",
    "    pos.drop([biggest],axis=1,inplace=True)\n",
    "    df.drop([feature],axis=1,inplace=True)\n",
    "    df=df.join(pos)\n",
    "    return df"
   ]
  },
  {
   "cell_type": "markdown",
   "metadata": {},
   "source": [
    "# get_category function\n",
    "Splits up categories with quartiles"
   ]
  },
  {
   "cell_type": "code",
   "execution_count": 27,
   "metadata": {},
   "outputs": [],
   "source": [
    "def get_category(df, col, binsnum, labels, qcut = False):\n",
    "    if qcut:\n",
    "        localdf = pd.qcut(df[col], q = binsnum, labels = labels) # quantile cut\n",
    "    else:\n",
    "        localdf = pd.cut(df[col], bins = binsnum, labels = labels) # equal-length cut\n",
    "        \n",
    "    localdf = pd.DataFrame(localdf)\n",
    "    name = 'gp' + '_' + col\n",
    "    localdf[name] = localdf[col]\n",
    "    df = df.join(localdf[name])\n",
    "    df[name] = df[name].astype(object)\n",
    "    return df"
   ]
  },
  {
   "cell_type": "code",
   "execution_count": 28,
   "metadata": {},
   "outputs": [],
   "source": [
    "def plot_confusion_matrix(cm, classes,\n",
    "                          normalize=False,\n",
    "                          title='Confusion matrix',\n",
    "                          cmap=plt.cm.Blues):\n",
    "    if normalize:\n",
    "        cm = cm.astype('float') / cm.sum(axis=1)[:, np.newaxis]\n",
    "        \n",
    "    print(cm)\n",
    "\n",
    "    plt.imshow(cm, interpolation='nearest', cmap=cmap)\n",
    "    plt.title(title)\n",
    "    plt.colorbar()\n",
    "    tick_marks = np.arange(len(classes))\n",
    "    plt.xticks(tick_marks, classes)\n",
    "    plt.yticks(tick_marks, classes)\n",
    "\n",
    "    fmt = '.2f' if normalize else 'd'\n",
    "    thresh = cm.max() / 2.\n",
    "    for i, j in itertools.product(range(cm.shape[0]), range(cm.shape[1])):\n",
    "        plt.text(j, i, format(cm[i, j], fmt),\n",
    "                 horizontalalignment=\"center\",\n",
    "                 color=\"white\" if cm[i, j] > thresh else \"black\")\n",
    "\n",
    "    plt.tight_layout()\n",
    "    plt.ylabel('True label')\n",
    "    plt.xlabel('Predicted label')"
   ]
  },
  {
   "cell_type": "code",
   "execution_count": 29,
   "metadata": {},
   "outputs": [
    {
     "name": "stdout",
     "output_type": "stream",
     "text": [
      "OWN CAR\n",
      "0    22614\n",
      "1    13843\n",
      "Name: count, dtype: int64\n",
      "This variable's IV is: 0.0011443033793064657\n",
      "OWN CAR\n",
      "0    22614\n",
      "1    13843\n",
      "Name: count, dtype: int64\n"
     ]
    },
    {
     "name": "stderr",
     "output_type": "stream",
     "text": [
      "C:\\Users\\Laura\\AppData\\Local\\Temp\\ipykernel_23004\\2516153918.py:1: FutureWarning: Downcasting behavior in `replace` is deprecated and will be removed in a future version. To retain the old behavior, explicitly call `result.infer_objects(copy=False)`. To opt-in to the future behavior, set `pd.set_option('future.no_silent_downcasting', True)`\n",
      "  new_data['OWN CAR'] = new_data['OWN CAR'].replace(['N','Y'],[0,1])\n"
     ]
    },
    {
     "data": {
      "text/html": [
       "<div>\n",
       "<style scoped>\n",
       "    .dataframe tbody tr th:only-of-type {\n",
       "        vertical-align: middle;\n",
       "    }\n",
       "\n",
       "    .dataframe tbody tr th {\n",
       "        vertical-align: top;\n",
       "    }\n",
       "\n",
       "    .dataframe thead th {\n",
       "        text-align: right;\n",
       "    }\n",
       "</style>\n",
       "<table border=\"1\" class=\"dataframe\">\n",
       "  <thead>\n",
       "    <tr style=\"text-align: right;\">\n",
       "      <th></th>\n",
       "      <th>Variable</th>\n",
       "      <th>Value</th>\n",
       "      <th>All</th>\n",
       "      <th>Good</th>\n",
       "      <th>Bad</th>\n",
       "      <th>Share</th>\n",
       "      <th>Bad Rate</th>\n",
       "      <th>Distribution Good</th>\n",
       "      <th>Distribution Bad</th>\n",
       "      <th>WoE</th>\n",
       "      <th>IV</th>\n",
       "    </tr>\n",
       "  </thead>\n",
       "  <tbody>\n",
       "    <tr>\n",
       "      <th>0</th>\n",
       "      <td>OWN CAR</td>\n",
       "      <td>0</td>\n",
       "      <td>22614</td>\n",
       "      <td>22222</td>\n",
       "      <td>392</td>\n",
       "      <td>0.620292</td>\n",
       "      <td>0.017334</td>\n",
       "      <td>0.620016</td>\n",
       "      <td>0.636364</td>\n",
       "      <td>-0.026025</td>\n",
       "      <td>0.000425</td>\n",
       "    </tr>\n",
       "    <tr>\n",
       "      <th>1</th>\n",
       "      <td>OWN CAR</td>\n",
       "      <td>1</td>\n",
       "      <td>13843</td>\n",
       "      <td>13619</td>\n",
       "      <td>224</td>\n",
       "      <td>0.379708</td>\n",
       "      <td>0.016181</td>\n",
       "      <td>0.379984</td>\n",
       "      <td>0.363636</td>\n",
       "      <td>0.043974</td>\n",
       "      <td>0.000719</td>\n",
       "    </tr>\n",
       "  </tbody>\n",
       "</table>\n",
       "</div>"
      ],
      "text/plain": [
       "  Variable  Value    All   Good  Bad     Share  Bad Rate  Distribution Good  \\\n",
       "0  OWN CAR      0  22614  22222  392  0.620292  0.017334           0.620016   \n",
       "1  OWN CAR      1  13843  13619  224  0.379708  0.016181           0.379984   \n",
       "\n",
       "   Distribution Bad       WoE        IV  \n",
       "0          0.636364 -0.026025  0.000425  \n",
       "1          0.363636  0.043974  0.000719  "
      ]
     },
     "execution_count": 29,
     "metadata": {},
     "output_type": "execute_result"
    }
   ],
   "source": [
    "new_data['OWN CAR'] = new_data['OWN CAR'].replace(['N','Y'],[0,1])\n",
    "print(new_data['OWN CAR'].value_counts())\n",
    "iv, data=calc_iv(new_data,'OWN CAR','target')\n",
    "ivtable.loc[ivtable['variable']=='OWN CAR','IV']=iv\n",
    "data.head()"
   ]
  },
  {
   "cell_type": "code",
   "execution_count": 30,
   "metadata": {},
   "outputs": [
    {
     "name": "stdout",
     "output_type": "stream",
     "text": [
      "OWN REALTY\n",
      "1    24506\n",
      "0    11951\n",
      "Name: count, dtype: int64\n",
      "This variable's IV is: 0.028349157703528447\n",
      "OWN REALTY\n",
      "1    24506\n",
      "0    11951\n",
      "Name: count, dtype: int64\n"
     ]
    },
    {
     "name": "stderr",
     "output_type": "stream",
     "text": [
      "C:\\Users\\Laura\\AppData\\Local\\Temp\\ipykernel_23004\\1287350286.py:1: FutureWarning: Downcasting behavior in `replace` is deprecated and will be removed in a future version. To retain the old behavior, explicitly call `result.infer_objects(copy=False)`. To opt-in to the future behavior, set `pd.set_option('future.no_silent_downcasting', True)`\n",
      "  new_data['OWN REALTY'] = new_data['OWN REALTY'].replace(['N','Y'],[0,1])\n"
     ]
    },
    {
     "data": {
      "text/html": [
       "<div>\n",
       "<style scoped>\n",
       "    .dataframe tbody tr th:only-of-type {\n",
       "        vertical-align: middle;\n",
       "    }\n",
       "\n",
       "    .dataframe tbody tr th {\n",
       "        vertical-align: top;\n",
       "    }\n",
       "\n",
       "    .dataframe thead th {\n",
       "        text-align: right;\n",
       "    }\n",
       "</style>\n",
       "<table border=\"1\" class=\"dataframe\">\n",
       "  <thead>\n",
       "    <tr style=\"text-align: right;\">\n",
       "      <th></th>\n",
       "      <th>Variable</th>\n",
       "      <th>Value</th>\n",
       "      <th>All</th>\n",
       "      <th>Good</th>\n",
       "      <th>Bad</th>\n",
       "      <th>Share</th>\n",
       "      <th>Bad Rate</th>\n",
       "      <th>Distribution Good</th>\n",
       "      <th>Distribution Bad</th>\n",
       "      <th>WoE</th>\n",
       "      <th>IV</th>\n",
       "    </tr>\n",
       "  </thead>\n",
       "  <tbody>\n",
       "    <tr>\n",
       "      <th>0</th>\n",
       "      <td>OWN REALTY</td>\n",
       "      <td>0</td>\n",
       "      <td>11951</td>\n",
       "      <td>11700</td>\n",
       "      <td>251</td>\n",
       "      <td>0.327811</td>\n",
       "      <td>0.021002</td>\n",
       "      <td>0.326442</td>\n",
       "      <td>0.407468</td>\n",
       "      <td>-0.221710</td>\n",
       "      <td>0.017964</td>\n",
       "    </tr>\n",
       "    <tr>\n",
       "      <th>1</th>\n",
       "      <td>OWN REALTY</td>\n",
       "      <td>1</td>\n",
       "      <td>24506</td>\n",
       "      <td>24141</td>\n",
       "      <td>365</td>\n",
       "      <td>0.672189</td>\n",
       "      <td>0.014894</td>\n",
       "      <td>0.673558</td>\n",
       "      <td>0.592532</td>\n",
       "      <td>0.128169</td>\n",
       "      <td>0.010385</td>\n",
       "    </tr>\n",
       "  </tbody>\n",
       "</table>\n",
       "</div>"
      ],
      "text/plain": [
       "     Variable  Value    All   Good  Bad     Share  Bad Rate  \\\n",
       "0  OWN REALTY      0  11951  11700  251  0.327811  0.021002   \n",
       "1  OWN REALTY      1  24506  24141  365  0.672189  0.014894   \n",
       "\n",
       "   Distribution Good  Distribution Bad       WoE        IV  \n",
       "0           0.326442          0.407468 -0.221710  0.017964  \n",
       "1           0.673558          0.592532  0.128169  0.010385  "
      ]
     },
     "execution_count": 30,
     "metadata": {},
     "output_type": "execute_result"
    }
   ],
   "source": [
    "new_data['OWN REALTY'] = new_data['OWN REALTY'].replace(['N','Y'],[0,1])\n",
    "print(new_data['OWN REALTY'].value_counts())\n",
    "iv, data=calc_iv(new_data,'OWN REALTY','target')\n",
    "ivtable.loc[ivtable['variable']=='OWN REALTY','IV']=iv\n",
    "data.head()"
   ]
  },
  {
   "cell_type": "code",
   "execution_count": 31,
   "metadata": {},
   "outputs": [
    {
     "name": "stdout",
     "output_type": "stream",
     "text": [
      "PHONE\n",
      "0    0.705187\n",
      "1    0.294813\n",
      "Name: proportion, dtype: float64\n",
      "This variable's IV is: 0.00015038916887036679\n",
      "PHONE\n",
      "0    25709\n",
      "1    10748\n",
      "Name: count, dtype: int64\n"
     ]
    },
    {
     "data": {
      "text/html": [
       "<div>\n",
       "<style scoped>\n",
       "    .dataframe tbody tr th:only-of-type {\n",
       "        vertical-align: middle;\n",
       "    }\n",
       "\n",
       "    .dataframe tbody tr th {\n",
       "        vertical-align: top;\n",
       "    }\n",
       "\n",
       "    .dataframe thead th {\n",
       "        text-align: right;\n",
       "    }\n",
       "</style>\n",
       "<table border=\"1\" class=\"dataframe\">\n",
       "  <thead>\n",
       "    <tr style=\"text-align: right;\">\n",
       "      <th></th>\n",
       "      <th>Variable</th>\n",
       "      <th>Value</th>\n",
       "      <th>All</th>\n",
       "      <th>Good</th>\n",
       "      <th>Bad</th>\n",
       "      <th>Share</th>\n",
       "      <th>Bad Rate</th>\n",
       "      <th>Distribution Good</th>\n",
       "      <th>Distribution Bad</th>\n",
       "      <th>WoE</th>\n",
       "      <th>IV</th>\n",
       "    </tr>\n",
       "  </thead>\n",
       "  <tbody>\n",
       "    <tr>\n",
       "      <th>0</th>\n",
       "      <td>PHONE</td>\n",
       "      <td>0</td>\n",
       "      <td>25709</td>\n",
       "      <td>25278</td>\n",
       "      <td>431</td>\n",
       "      <td>0.705187</td>\n",
       "      <td>0.016765</td>\n",
       "      <td>0.705282</td>\n",
       "      <td>0.699675</td>\n",
       "      <td>0.007981</td>\n",
       "      <td>0.000045</td>\n",
       "    </tr>\n",
       "    <tr>\n",
       "      <th>1</th>\n",
       "      <td>PHONE</td>\n",
       "      <td>1</td>\n",
       "      <td>10748</td>\n",
       "      <td>10563</td>\n",
       "      <td>185</td>\n",
       "      <td>0.294813</td>\n",
       "      <td>0.017213</td>\n",
       "      <td>0.294718</td>\n",
       "      <td>0.300325</td>\n",
       "      <td>-0.018844</td>\n",
       "      <td>0.000106</td>\n",
       "    </tr>\n",
       "  </tbody>\n",
       "</table>\n",
       "</div>"
      ],
      "text/plain": [
       "  Variable Value    All   Good  Bad     Share  Bad Rate  Distribution Good  \\\n",
       "0    PHONE     0  25709  25278  431  0.705187  0.016765           0.705282   \n",
       "1    PHONE     1  10748  10563  185  0.294813  0.017213           0.294718   \n",
       "\n",
       "   Distribution Bad       WoE        IV  \n",
       "0          0.699675  0.007981  0.000045  \n",
       "1          0.300325 -0.018844  0.000106  "
      ]
     },
     "execution_count": 31,
     "metadata": {},
     "output_type": "execute_result"
    }
   ],
   "source": [
    "new_data['PHONE']=new_data['PHONE'].astype(str)\n",
    "print(new_data['PHONE'].value_counts(normalize=True,sort=False))\n",
    "new_data.drop(new_data[new_data['PHONE'] == 'nan' ].index, inplace=True)\n",
    "iv, data=calc_iv(new_data,'PHONE','target')\n",
    "ivtable.loc[ivtable['variable']=='PHONE','IV']=iv\n",
    "data.head()"
   ]
  },
  {
   "cell_type": "code",
   "execution_count": 32,
   "metadata": {},
   "outputs": [
    {
     "name": "stdout",
     "output_type": "stream",
     "text": [
      "EMAIL\n",
      "0    0.910278\n",
      "1    0.089722\n",
      "Name: proportion, dtype: float64\n",
      "This variable's IV is: 0.00036647741031006753\n",
      "EMAIL\n",
      "0    33186\n",
      "1     3271\n",
      "Name: count, dtype: int64\n"
     ]
    },
    {
     "data": {
      "text/html": [
       "<div>\n",
       "<style scoped>\n",
       "    .dataframe tbody tr th:only-of-type {\n",
       "        vertical-align: middle;\n",
       "    }\n",
       "\n",
       "    .dataframe tbody tr th {\n",
       "        vertical-align: top;\n",
       "    }\n",
       "\n",
       "    .dataframe thead th {\n",
       "        text-align: right;\n",
       "    }\n",
       "</style>\n",
       "<table border=\"1\" class=\"dataframe\">\n",
       "  <thead>\n",
       "    <tr style=\"text-align: right;\">\n",
       "      <th></th>\n",
       "      <th>Variable</th>\n",
       "      <th>Value</th>\n",
       "      <th>All</th>\n",
       "      <th>Good</th>\n",
       "      <th>Bad</th>\n",
       "      <th>Share</th>\n",
       "      <th>Bad Rate</th>\n",
       "      <th>Distribution Good</th>\n",
       "      <th>Distribution Bad</th>\n",
       "      <th>WoE</th>\n",
       "      <th>IV</th>\n",
       "    </tr>\n",
       "  </thead>\n",
       "  <tbody>\n",
       "    <tr>\n",
       "      <th>0</th>\n",
       "      <td>EMAIL</td>\n",
       "      <td>0</td>\n",
       "      <td>33186</td>\n",
       "      <td>32622</td>\n",
       "      <td>564</td>\n",
       "      <td>0.910278</td>\n",
       "      <td>0.016995</td>\n",
       "      <td>0.910187</td>\n",
       "      <td>0.915584</td>\n",
       "      <td>-0.005913</td>\n",
       "      <td>0.000032</td>\n",
       "    </tr>\n",
       "    <tr>\n",
       "      <th>1</th>\n",
       "      <td>EMAIL</td>\n",
       "      <td>1</td>\n",
       "      <td>3271</td>\n",
       "      <td>3219</td>\n",
       "      <td>52</td>\n",
       "      <td>0.089722</td>\n",
       "      <td>0.015897</td>\n",
       "      <td>0.089813</td>\n",
       "      <td>0.084416</td>\n",
       "      <td>0.061982</td>\n",
       "      <td>0.000335</td>\n",
       "    </tr>\n",
       "  </tbody>\n",
       "</table>\n",
       "</div>"
      ],
      "text/plain": [
       "  Variable Value    All   Good  Bad     Share  Bad Rate  Distribution Good  \\\n",
       "0    EMAIL     0  33186  32622  564  0.910278  0.016995           0.910187   \n",
       "1    EMAIL     1   3271   3219   52  0.089722  0.015897           0.089813   \n",
       "\n",
       "   Distribution Bad       WoE        IV  \n",
       "0          0.915584 -0.005913  0.000032  \n",
       "1          0.084416  0.061982  0.000335  "
      ]
     },
     "execution_count": 32,
     "metadata": {},
     "output_type": "execute_result"
    }
   ],
   "source": [
    "print(new_data['EMAIL'].value_counts(normalize=True,sort=False))\n",
    "new_data['EMAIL']=new_data['EMAIL'].astype(str)\n",
    "iv, data=calc_iv(new_data,'EMAIL','target')\n",
    "ivtable.loc[ivtable['variable']=='EMAIL','IV']=iv\n",
    "data.head()"
   ]
  },
  {
   "cell_type": "code",
   "execution_count": 33,
   "metadata": {},
   "outputs": [
    {
     "name": "stdout",
     "output_type": "stream",
     "text": [
      "This variable's IV is: 0.0018649623856006265\n",
      "WORK PHONE\n",
      "0    28235\n",
      "1     8222\n",
      "Name: count, dtype: int64\n"
     ]
    },
    {
     "data": {
      "text/html": [
       "<div>\n",
       "<style scoped>\n",
       "    .dataframe tbody tr th:only-of-type {\n",
       "        vertical-align: middle;\n",
       "    }\n",
       "\n",
       "    .dataframe tbody tr th {\n",
       "        vertical-align: top;\n",
       "    }\n",
       "\n",
       "    .dataframe thead th {\n",
       "        text-align: right;\n",
       "    }\n",
       "</style>\n",
       "<table border=\"1\" class=\"dataframe\">\n",
       "  <thead>\n",
       "    <tr style=\"text-align: right;\">\n",
       "      <th></th>\n",
       "      <th>Variable</th>\n",
       "      <th>Value</th>\n",
       "      <th>All</th>\n",
       "      <th>Good</th>\n",
       "      <th>Bad</th>\n",
       "      <th>Share</th>\n",
       "      <th>Bad Rate</th>\n",
       "      <th>Distribution Good</th>\n",
       "      <th>Distribution Bad</th>\n",
       "      <th>WoE</th>\n",
       "      <th>IV</th>\n",
       "    </tr>\n",
       "  </thead>\n",
       "  <tbody>\n",
       "    <tr>\n",
       "      <th>0</th>\n",
       "      <td>WORK PHONE</td>\n",
       "      <td>0</td>\n",
       "      <td>28235</td>\n",
       "      <td>27769</td>\n",
       "      <td>466</td>\n",
       "      <td>0.774474</td>\n",
       "      <td>0.016504</td>\n",
       "      <td>0.774783</td>\n",
       "      <td>0.756494</td>\n",
       "      <td>0.023889</td>\n",
       "      <td>0.000437</td>\n",
       "    </tr>\n",
       "    <tr>\n",
       "      <th>1</th>\n",
       "      <td>WORK PHONE</td>\n",
       "      <td>1</td>\n",
       "      <td>8222</td>\n",
       "      <td>8072</td>\n",
       "      <td>150</td>\n",
       "      <td>0.225526</td>\n",
       "      <td>0.018244</td>\n",
       "      <td>0.225217</td>\n",
       "      <td>0.243506</td>\n",
       "      <td>-0.078080</td>\n",
       "      <td>0.001428</td>\n",
       "    </tr>\n",
       "  </tbody>\n",
       "</table>\n",
       "</div>"
      ],
      "text/plain": [
       "     Variable Value    All   Good  Bad     Share  Bad Rate  Distribution Good  \\\n",
       "0  WORK PHONE     0  28235  27769  466  0.774474  0.016504           0.774783   \n",
       "1  WORK PHONE     1   8222   8072  150  0.225526  0.018244           0.225217   \n",
       "\n",
       "   Distribution Bad       WoE        IV  \n",
       "0          0.756494  0.023889  0.000437  \n",
       "1          0.243506 -0.078080  0.001428  "
      ]
     },
     "execution_count": 33,
     "metadata": {},
     "output_type": "execute_result"
    }
   ],
   "source": [
    "new_data['WORK PHONE']=new_data['WORK PHONE'].astype(str)\n",
    "iv, data = calc_iv(new_data,'WORK PHONE','target')\n",
    "new_data.drop(new_data[new_data['WORK PHONE'] == 'nan' ].index, inplace=True)\n",
    "ivtable.loc[ivtable['variable']=='WORK PHONE','IV']=iv\n",
    "data.head()"
   ]
  },
  {
   "cell_type": "code",
   "execution_count": 34,
   "metadata": {},
   "outputs": [
    {
     "name": "stdout",
     "output_type": "stream",
     "text": [
      "CHILDREN\n",
      "0        25201\n",
      "1         7492\n",
      "2More     3764\n",
      "Name: count, dtype: int64\n"
     ]
    },
    {
     "name": "stderr",
     "output_type": "stream",
     "text": [
      "C:\\Users\\Laura\\AppData\\Local\\Temp\\ipykernel_23004\\342932018.py:1: FutureWarning: Setting an item of incompatible dtype is deprecated and will raise an error in a future version of pandas. Value '2More' has dtype incompatible with int64, please explicitly cast to a compatible dtype first.\n",
      "  new_data.loc[new_data['CHILDREN'] >= 2,'CHILDREN']='2More'\n"
     ]
    }
   ],
   "source": [
    "new_data.loc[new_data['CHILDREN'] >= 2,'CHILDREN']='2More'\n",
    "print(new_data['CHILDREN'].value_counts(sort=False))"
   ]
  },
  {
   "cell_type": "code",
   "execution_count": 35,
   "metadata": {},
   "outputs": [
    {
     "name": "stdout",
     "output_type": "stream",
     "text": [
      "This variable's IV is: 0.0007482509182615325\n",
      "CHILDREN\n",
      "0        25201\n",
      "1         7492\n",
      "2More     3764\n",
      "Name: count, dtype: int64\n"
     ]
    },
    {
     "data": {
      "text/html": [
       "<div>\n",
       "<style scoped>\n",
       "    .dataframe tbody tr th:only-of-type {\n",
       "        vertical-align: middle;\n",
       "    }\n",
       "\n",
       "    .dataframe tbody tr th {\n",
       "        vertical-align: top;\n",
       "    }\n",
       "\n",
       "    .dataframe thead th {\n",
       "        text-align: right;\n",
       "    }\n",
       "</style>\n",
       "<table border=\"1\" class=\"dataframe\">\n",
       "  <thead>\n",
       "    <tr style=\"text-align: right;\">\n",
       "      <th></th>\n",
       "      <th>Variable</th>\n",
       "      <th>Value</th>\n",
       "      <th>All</th>\n",
       "      <th>Good</th>\n",
       "      <th>Bad</th>\n",
       "      <th>Share</th>\n",
       "      <th>Bad Rate</th>\n",
       "      <th>Distribution Good</th>\n",
       "      <th>Distribution Bad</th>\n",
       "      <th>WoE</th>\n",
       "      <th>IV</th>\n",
       "    </tr>\n",
       "  </thead>\n",
       "  <tbody>\n",
       "    <tr>\n",
       "      <th>0</th>\n",
       "      <td>CHILDREN</td>\n",
       "      <td>0</td>\n",
       "      <td>25201</td>\n",
       "      <td>24770</td>\n",
       "      <td>431</td>\n",
       "      <td>0.691253</td>\n",
       "      <td>0.017102</td>\n",
       "      <td>0.691108</td>\n",
       "      <td>0.699675</td>\n",
       "      <td>-0.012320</td>\n",
       "      <td>0.000106</td>\n",
       "    </tr>\n",
       "    <tr>\n",
       "      <th>1</th>\n",
       "      <td>CHILDREN</td>\n",
       "      <td>1</td>\n",
       "      <td>7492</td>\n",
       "      <td>7372</td>\n",
       "      <td>120</td>\n",
       "      <td>0.205502</td>\n",
       "      <td>0.016017</td>\n",
       "      <td>0.205686</td>\n",
       "      <td>0.194805</td>\n",
       "      <td>0.054352</td>\n",
       "      <td>0.000591</td>\n",
       "    </tr>\n",
       "    <tr>\n",
       "      <th>2</th>\n",
       "      <td>CHILDREN</td>\n",
       "      <td>2More</td>\n",
       "      <td>3764</td>\n",
       "      <td>3699</td>\n",
       "      <td>65</td>\n",
       "      <td>0.103245</td>\n",
       "      <td>0.017269</td>\n",
       "      <td>0.103206</td>\n",
       "      <td>0.105519</td>\n",
       "      <td>-0.022170</td>\n",
       "      <td>0.000051</td>\n",
       "    </tr>\n",
       "  </tbody>\n",
       "</table>\n",
       "</div>"
      ],
      "text/plain": [
       "   Variable  Value    All   Good  Bad     Share  Bad Rate  Distribution Good  \\\n",
       "0  CHILDREN      0  25201  24770  431  0.691253  0.017102           0.691108   \n",
       "1  CHILDREN      1   7492   7372  120  0.205502  0.016017           0.205686   \n",
       "2  CHILDREN  2More   3764   3699   65  0.103245  0.017269           0.103206   \n",
       "\n",
       "   Distribution Bad       WoE        IV  \n",
       "0          0.699675 -0.012320  0.000106  \n",
       "1          0.194805  0.054352  0.000591  \n",
       "2          0.105519 -0.022170  0.000051  "
      ]
     },
     "execution_count": 35,
     "metadata": {},
     "output_type": "execute_result"
    }
   ],
   "source": [
    "iv, data=calc_iv(new_data,'CHILDREN','target')\n",
    "ivtable.loc[ivtable['variable']=='CHILDREN','IV']=iv\n",
    "data.head()"
   ]
  },
  {
   "cell_type": "code",
   "execution_count": 36,
   "metadata": {},
   "outputs": [],
   "source": [
    "new_data = convert_dummy(new_data,'CHILDREN')"
   ]
  },
  {
   "cell_type": "code",
   "execution_count": 37,
   "metadata": {},
   "outputs": [
    {
     "name": "stdout",
     "output_type": "stream",
     "text": [
      "(2.544, 18.18]      22460\n",
      "(18.18, 33.66]      11380\n",
      "(33.66, 49.14]       2099\n",
      "(49.14, 64.62]        274\n",
      "(64.62, 80.1]         165\n",
      "(80.1, 95.58]          58\n",
      "(95.58, 111.06]         4\n",
      "(111.06, 126.54]        3\n",
      "(126.54, 142.02]        6\n",
      "(142.02, 157.5]         8\n",
      "Name: count, dtype: int64\n"
     ]
    },
    {
     "data": {
      "text/plain": [
       "<Axes: ylabel='Frequency'>"
      ]
     },
     "execution_count": 37,
     "metadata": {},
     "output_type": "execute_result"
    },
    {
     "data": {
      "image/png": "[encoded data removed]",
      "text/plain": [
       "<Figure size 640x480 with 1 Axes>"
      ]
     },
     "metadata": {},
     "output_type": "display_data"
    }
   ],
   "source": [
    "new_data['INCOME TOTAL']=new_data['INCOME TOTAL'].astype(object)\n",
    "new_data['INCOME TOTAL'] = new_data['INCOME TOTAL']/10000 \n",
    "print(new_data['INCOME TOTAL'].value_counts(bins=10,sort=False))\n",
    "new_data['INCOME TOTAL'].plot(kind='hist',bins=50,density=True)"
   ]
  },
  {
   "cell_type": "code",
   "execution_count": 38,
   "metadata": {},
   "outputs": [
    {
     "name": "stdout",
     "output_type": "stream",
     "text": [
      "This variable's IV is: 0.003572374020877794\n",
      "gp_inc\n",
      "low       14473\n",
      "high      11282\n",
      "medium    10702\n",
      "NULL          0\n",
      "Name: count, dtype: int64\n",
      "  Variable   Value    All   Good  Bad     Share  Bad Rate  Distribution Good  \\\n",
      "0   gp_inc    high  11282  11088  194  0.309460  0.017196           0.309366   \n",
      "1   gp_inc     low  14473  14216  257  0.396988  0.017757           0.396641   \n",
      "2   gp_inc  medium  10702  10537  165  0.293551  0.015418           0.293993   \n",
      "\n",
      "   Distribution Bad       WoE        IV  \n",
      "0          0.314935 -0.017840  0.000099  \n",
      "1          0.417208 -0.050554  0.001040  \n",
      "2          0.267857  0.093102  0.002433  \n"
     ]
    }
   ],
   "source": [
    "# Create categories using pd.qcut\n",
    "new_data['gp_inc'] = pd.qcut(\n",
    "    new_data['INCOME TOTAL'], \n",
    "    q=3,  # Number of quantiles\n",
    "    labels=[\"low\", \"medium\", \"high\"]\n",
    ")\n",
    "\n",
    "# Calculate IV\n",
    "iv, data = calc_iv(new_data, 'gp_inc', 'target')\n",
    "\n",
    "# Update IV table\n",
    "ivtable.loc[ivtable['variable'] == 'INCOME TOTAL', 'IV'] = iv\n",
    "\n",
    "# Print results\n",
    "print(data.head())"
   ]
  },
  {
   "cell_type": "code",
   "execution_count": 39,
   "metadata": {},
   "outputs": [
    {
     "name": "stdout",
     "output_type": "stream",
     "text": [
      "(-0.000745, 0.00182]    22460\n",
      "(0.00182, 0.00337]      11380\n",
      "(0.00337, 0.00491]       2099\n",
      "(0.00491, 0.00646]        274\n",
      "(0.00646, 0.00801]        165\n",
      "(0.00801, 0.00956]         58\n",
      "(0.00956, 0.0111]           4\n",
      "(0.0111, 0.0127]            3\n",
      "(0.0127, 0.0142]            6\n",
      "(0.0142, 0.0158]            8\n",
      "Name: count, dtype: int64\n",
      "This variable's IV is: 0.003572374020877794\n",
      "gp_inc\n",
      "low       14473\n",
      "high      11282\n",
      "medium    10702\n",
      "NULL          0\n",
      "Name: count, dtype: int64\n",
      "  Variable   Value    All   Good  Bad     Share  Bad Rate  Distribution Good  \\\n",
      "0   gp_inc    high  11282  11088  194  0.309460  0.017196           0.309366   \n",
      "1   gp_inc     low  14473  14216  257  0.396988  0.017757           0.396641   \n",
      "2   gp_inc  medium  10702  10537  165  0.293551  0.015418           0.293993   \n",
      "\n",
      "   Distribution Bad       WoE        IV  \n",
      "0          0.314935 -0.017840  0.000099  \n",
      "1          0.417208 -0.050554  0.001040  \n",
      "2          0.267857  0.093102  0.002433  \n"
     ]
    },
    {
     "data": {
      "image/png": "[encoded data removed]",
      "text/plain": [
       "<Figure size 640x480 with 1 Axes>"
      ]
     },
     "metadata": {},
     "output_type": "display_data"
    }
   ],
   "source": [
    "# Convert 'INCOME TOTAL' to numeric and normalize\n",
    "new_data['INCOME TOTAL'] = new_data['INCOME TOTAL'].astype(float) / 10000\n",
    "\n",
    "# Print distribution\n",
    "print(new_data['INCOME TOTAL'].value_counts(bins=10, sort=False))\n",
    "\n",
    "# Plot histogram\n",
    "new_data['INCOME TOTAL'].plot(kind='hist', bins=50, density=True)\n",
    "\n",
    "# Create categories using pd.qcut\n",
    "new_data['gp_inc'] = pd.qcut(\n",
    "    new_data['INCOME TOTAL'], \n",
    "    q=3,  # Quantiles\n",
    "    labels=[\"low\", \"medium\", \"high\"]\n",
    ")\n",
    "\n",
    "# Add 'NULL' as a category to avoid errors when filling NaNs\n",
    "new_data['gp_inc'] = new_data['gp_inc'].cat.add_categories(\"NULL\").fillna(\"NULL\")\n",
    "\n",
    "# Calculate IV\n",
    "iv, data = calc_iv(new_data, 'gp_inc', 'target')\n",
    "\n",
    "# Update IV table\n",
    "ivtable.loc[ivtable['variable'] == 'INCOME TOTAL', 'IV'] = iv\n",
    "\n",
    "# Print results\n",
    "print(data.head())"
   ]
  },
  {
   "cell_type": "code",
   "execution_count": 40,
   "metadata": {},
   "outputs": [],
   "source": [
    "new_data = convert_dummy(new_data,'gp_inc')"
   ]
  },
  {
   "cell_type": "code",
   "execution_count": 41,
   "metadata": {},
   "outputs": [
    {
     "name": "stdout",
     "output_type": "stream",
     "text": [
      "(19.951, 24.8]    0.020243\n",
      "(24.8, 29.6]      0.114930\n",
      "(29.6, 34.4]      0.139836\n",
      "(34.4, 39.2]      0.146419\n",
      "(39.2, 44.0]      0.140796\n",
      "(44.0, 48.8]      0.094166\n",
      "(48.8, 53.6]      0.109444\n",
      "(53.6, 58.4]      0.106948\n",
      "(58.4, 63.2]      0.091286\n",
      "(63.2, 68.0]      0.035933\n",
      "Name: proportion, dtype: float64\n",
      "This variable's IV is: 0.02454227704668389\n",
      "gp_Age\n",
      "lowest     7915\n",
      "low        7449\n",
      "high       7252\n",
      "highest    7036\n",
      "medium     6805\n",
      "NULL          0\n",
      "Name: count, dtype: int64\n",
      "IV Data for gp_Age:\n",
      "     Value  Good  Bad       WoE        IV\n",
      "0     high  7098  154 -0.232985  0.012106\n",
      "1  highest  6930  106  0.116575  0.002480\n",
      "2      low  7328  121  0.040067  0.000322\n",
      "3   lowest  7772  143 -0.068163  0.001043\n",
      "4   medium  6713   92  0.226412  0.008592\n",
      "            variable        IV\n",
      "3         OWN REALTY  0.028349\n",
      "10  DAYS SINCE BIRTH  0.024542\n",
      "1             GENDER  0.013581\n",
      "5       INCOME TOTAL  0.003572\n",
      "12        WORK PHONE  0.001865\n",
      "2            OWN CAR  0.001144\n",
      "4           CHILDREN  0.000748\n",
      "14             EMAIL  0.000366\n",
      "13             PHONE   0.00015\n",
      "0                _id      None\n",
      "6        INCOME TYPE      None\n",
      "7     EDUCATION TYPE      None\n",
      "8      FAMILY STATUS      None\n",
      "9       HOUSING TYPE      None\n",
      "11     DAYS EMPLOYED      None\n",
      "15              TYPE      None\n",
      "16       FAM MEMBERS      None\n"
     ]
    },
    {
     "data": {
      "image/png": "[encoded data removed]",
      "text/plain": [
       "<Figure size 640x480 with 1 Axes>"
      ]
     },
     "metadata": {},
     "output_type": "display_data"
    }
   ],
   "source": [
    "# Calculate Age\n",
    "new_data['Age'] = -(new_data['DAYS SINCE BIRTH']) // 365\n",
    "\n",
    "# Check distribution of Age\n",
    "print(new_data['Age'].value_counts(bins=10, normalize=True, sort=False))\n",
    "new_data['Age'].plot(kind='hist', bins=20, density=True)\n",
    "\n",
    "# Step 1: Create age categories\n",
    "new_data['gp_Age'] = pd.qcut(\n",
    "    new_data['Age'],\n",
    "    q=5,  # Number of quantiles\n",
    "    labels=[\"lowest\", \"low\", \"medium\", \"high\", \"highest\"]\n",
    ")\n",
    "\n",
    "# Step 2: Calculate IV for 'gp_Age'\n",
    "iv, data = calc_iv(new_data, 'gp_Age', 'target')\n",
    "print(\"IV Data for gp_Age:\")\n",
    "print(data[['Value', 'Good', 'Bad', 'WoE', 'IV']])\n",
    "\n",
    "# Step 3: Update the IV table for 'DAYS SINCE BIRTH'\n",
    "if 'DAYS SINCE BIRTH' not in ivtable['variable'].values:\n",
    "    # Append a new row for DAYS SINCE BIRTH if it does not exist\n",
    "    new_row = pd.DataFrame({'variable': ['DAYS SINCE BIRTH'], 'IV': [0]})\n",
    "    ivtable = pd.concat([ivtable, new_row], ignore_index=True)\n",
    "\n",
    "# Update the IV value for DAYS SINCE BIRTH\n",
    "ivtable.loc[ivtable['variable'] == 'DAYS SINCE BIRTH', 'IV'] = iv\n",
    "\n",
    "# Step 4: Convert 'gp_Age' to dummy variables\n",
    "new_data = convert_dummy(new_data, 'gp_Age')\n",
    "\n",
    "# Step 5: Sort and display the IV table\n",
    "ivtable = ivtable.sort_values(by='IV', ascending=False)\n",
    "print(ivtable)\n"
   ]
  },
  {
   "cell_type": "markdown",
   "metadata": {},
   "source": [
    "Family Size"
   ]
  },
  {
   "cell_type": "code",
   "execution_count": 42,
   "metadata": {},
   "outputs": [
    {
     "name": "stdout",
     "output_type": "stream",
     "text": [
      "This variable's IV is: 0.020009367201638158\n",
      "gp_worktm\n",
      "lowest     28042\n",
      "low         6112\n",
      "medium      1659\n",
      "high         523\n",
      "highest      121\n",
      "Name: count, dtype: int64\n",
      "IV Data for gp_worktm:\n",
      "     Value   Good  Bad       WoE        IV\n",
      "0     high    519    4  0.802009  0.006406\n",
      "1  highest    120    1  0.723891  0.001249\n",
      "2      low   6025   87  0.174164  0.004680\n",
      "3   lowest  27538  504 -0.062855  0.003133\n",
      "4   medium   1639   20  0.342508  0.004542\n",
      "            variable        IV\n",
      "3         OWN REALTY  0.028349\n",
      "10  DAYS SINCE BIRTH  0.024542\n",
      "11     DAYS EMPLOYED  0.020009\n",
      "1             GENDER  0.013581\n",
      "5       INCOME TOTAL  0.003572\n",
      "12        WORK PHONE  0.001865\n",
      "2            OWN CAR  0.001144\n",
      "4           CHILDREN  0.000748\n",
      "14             EMAIL  0.000366\n",
      "13             PHONE   0.00015\n",
      "0                _id      None\n",
      "6        INCOME TYPE      None\n",
      "7     EDUCATION TYPE      None\n",
      "8      FAMILY STATUS      None\n",
      "9       HOUSING TYPE      None\n",
      "15              TYPE      None\n",
      "16       FAM MEMBERS      None\n"
     ]
    }
   ],
   "source": [
    "# Step 1: Create work experience categories for 'DAYS_EMPLOYED'\n",
    "new_data['worktm'] = -(new_data['DAYS EMPLOYED']) // 365\n",
    "new_data.loc[new_data['worktm'] < 0, 'worktm'] = np.nan\n",
    "new_data['worktm'] = new_data['worktm'].fillna(new_data['worktm'].mean())\n",
    "new_data = get_category(new_data, 'worktm', 5, [\"lowest\", \"low\", \"medium\", \"high\", \"highest\"])\n",
    "\n",
    "# Step 2: Calculate IV for gp_worktm\n",
    "iv, data = calc_iv(new_data, 'gp_worktm', 'target')\n",
    "print(\"IV Data for gp_worktm:\")\n",
    "print(data[['Value', 'Good', 'Bad', 'WoE', 'IV']])\n",
    "\n",
    "# Step 3: Update the IV table for DAYS_EMPLOYED\n",
    "if 'DAYS EMPLOYED' not in ivtable['variable'].values:\n",
    "    new_row = pd.DataFrame({'variable': ['DAYS EMPLOYED'], 'IV': [0]})\n",
    "    ivtable = pd.concat([ivtable, new_row], ignore_index=True)\n",
    "ivtable.loc[ivtable['variable'] == 'DAYS EMPLOYED', 'IV'] = iv\n",
    "\n",
    "# Step 4: Convert gp_worktm to dummy variables\n",
    "new_data = convert_dummy(new_data, 'gp_worktm')\n",
    "\n",
    "# Step 5: Sort and display IV table\n",
    "ivtable = ivtable.sort_values(by='IV', ascending=False)\n",
    "print(ivtable)\n"
   ]
  },
  {
   "cell_type": "code",
   "execution_count": 43,
   "metadata": {},
   "outputs": [
    {
     "data": {
      "text/plain": [
       "FAM MEMBERS\n",
       "2.0     19463\n",
       "1.0      6987\n",
       "5.0       397\n",
       "3.0      6421\n",
       "4.0      3106\n",
       "6.0        58\n",
       "15.0        3\n",
       "7.0        19\n",
       "20.0        1\n",
       "9.0         2\n",
       "Name: count, dtype: int64"
      ]
     },
     "execution_count": 43,
     "metadata": {},
     "output_type": "execute_result"
    }
   ],
   "source": [
    "new_data['FAM MEMBERS'].value_counts(sort=False)"
   ]
  },
  {
   "cell_type": "code",
   "execution_count": 44,
   "metadata": {},
   "outputs": [
    {
     "name": "stdout",
     "output_type": "stream",
     "text": [
      "This variable's IV is: 0.0073300685974907916\n",
      "FAM MEMBERS GP\n",
      "2        19463\n",
      "3more    10007\n",
      "1         6987\n",
      "Name: count, dtype: int64\n",
      "         Variable  Value    All   Good  Bad     Share  Bad Rate  \\\n",
      "0  FAM MEMBERS GP      1   6987   6848  139  0.191650  0.019894   \n",
      "1  FAM MEMBERS GP      2  19463  19150  313  0.533862  0.016082   \n",
      "2  FAM MEMBERS GP  3more  10007   9843  164  0.274488  0.016389   \n",
      "\n",
      "   Distribution Good  Distribution Bad       WoE        IV  \n",
      "0           0.191066          0.225649 -0.166363  0.005753  \n",
      "1           0.534304          0.508117  0.050254  0.001316  \n",
      "2           0.274630          0.266234  0.031049  0.000261  \n"
     ]
    }
   ],
   "source": [
    "# Replace NaN or inf values in 'FAM MEMBERS' with a default value (e.g., 0) or handle them\n",
    "new_data['FAM MEMBERS'] = new_data['FAM MEMBERS'].fillna(0).replace([np.inf, -np.inf], 0).astype(int)\n",
    "\n",
    "# Create a new grouped column for 'FAM MEMBERS'\n",
    "new_data['FAM MEMBERS GP'] = new_data['FAM MEMBERS'].astype(object)\n",
    "\n",
    "# Group families with 3 or more members into a single category\n",
    "new_data.loc[new_data['FAM MEMBERS GP'] >= 3, 'FAM MEMBERS GP'] = '3more'\n",
    "\n",
    "# Calculate IV for 'FAM MEMBERS GP'\n",
    "iv, data = calc_iv(new_data, 'FAM MEMBERS GP', 'target')\n",
    "\n",
    "# Update IV table for 'FAM MEMBERS'\n",
    "ivtable.loc[ivtable['variable'] == 'FAM MEMBERS', 'IV'] = iv\n",
    "\n",
    "# Display the first few rows of the IV DataFrame\n",
    "print(data.head())"
   ]
  },
  {
   "cell_type": "code",
   "execution_count": 45,
   "metadata": {},
   "outputs": [],
   "source": [
    "new_data = convert_dummy(new_data,'FAM MEMBERS GP')"
   ]
  },
  {
   "cell_type": "code",
   "execution_count": 46,
   "metadata": {},
   "outputs": [
    {
     "name": "stdout",
     "output_type": "stream",
     "text": [
      "Index(['_id', 'ID', 'GENDER', 'OWN CAR', 'OWN REALTY', 'INCOME TOTAL',\n",
      "       'INCOME TYPE', 'EDUCATION TYPE', 'FAMILY STATUS', 'HOUSING TYPE',\n",
      "       'DAYS SINCE BIRTH', 'DAYS EMPLOYED', 'MOBIL', 'WORK PHONE', 'PHONE',\n",
      "       'EMAIL', 'TYPE', 'FAM MEMBERS', 'begin_month', 'past_due', 'target',\n",
      "       'CHILDREN_1', 'CHILDREN_2More', 'gp_inc_medium', 'gp_inc_high',\n",
      "       'gp_inc_NULL', 'Age', 'gp_Age_low', 'gp_Age_medium', 'gp_Age_high',\n",
      "       'gp_Age_highest', 'gp_Age_NULL', 'worktm', 'gp_worktm_high',\n",
      "       'gp_worktm_highest', 'gp_worktm_low', 'gp_worktm_medium',\n",
      "       'FAM MEMBERS GP_1', 'FAM MEMBERS GP_3more'],\n",
      "      dtype='object')\n"
     ]
    }
   ],
   "source": [
    "print(new_data.columns)\n"
   ]
  },
  {
   "cell_type": "markdown",
   "metadata": {},
   "source": [
    "Income Type"
   ]
  },
  {
   "cell_type": "code",
   "execution_count": 47,
   "metadata": {},
   "outputs": [
    {
     "name": "stdout",
     "output_type": "stream",
     "text": [
      "Value counts (unsorted):\n",
      "INCOME TYPE\n",
      "Working                 18819\n",
      "Commercial associate     8490\n",
      "Pensioner                6152\n",
      "State servant            2985\n",
      "Student                    11\n",
      "Name: count, dtype: int64\n",
      "Normalized value counts (unsorted):\n",
      "INCOME TYPE\n",
      "Working                 0.516197\n",
      "Commercial associate    0.232877\n",
      "Pensioner               0.168747\n",
      "State servant           0.081877\n",
      "Student                 0.000302\n",
      "Name: proportion, dtype: float64\n",
      "This variable's IV is: 0.002390476976123468\n",
      "INCOME TYPE\n",
      "Working                 18819\n",
      "State servant            9148\n",
      "Commercial associate     8490\n",
      "Name: count, dtype: int64\n",
      "First few rows of data after IV calculation:\n",
      "      Variable                 Value    All   Good  Bad     Share  Bad Rate  \\\n",
      "0  INCOME TYPE  Commercial associate   8490   8347  143  0.232877  0.016843   \n",
      "1  INCOME TYPE         State servant   9148   8981  167  0.250926  0.018255   \n",
      "2  INCOME TYPE               Working  18819  18513  306  0.516197  0.016260   \n",
      "\n",
      "   Distribution Good  Distribution Bad       WoE        IV  \n",
      "0           0.232890          0.232143  0.003212  0.000002  \n",
      "1           0.250579          0.271104 -0.078728  0.001616  \n",
      "2           0.516531          0.496753  0.039043  0.000772  \n"
     ]
    }
   ],
   "source": [
    "# Display value counts for 'INCOME TYPE' without sorting\n",
    "income_type_counts = new_data['INCOME TYPE'].value_counts(sort=False)\n",
    "print(\"Value counts (unsorted):\")\n",
    "print(income_type_counts)\n",
    "\n",
    "# Display normalized value counts for 'INCOME TYPE' without sorting\n",
    "income_type_normalized_counts = new_data['INCOME TYPE'].value_counts(normalize=True, sort=False)\n",
    "print(\"Normalized value counts (unsorted):\")\n",
    "print(income_type_normalized_counts)\n",
    "\n",
    "# Consolidate categories for 'INCOME TYPE'\n",
    "new_data['INCOME TYPE'] = new_data['INCOME TYPE'].replace({'Pensioner': 'State servant', 'Student': 'State servant'})\n",
    "\n",
    "# Calculate IV for 'INCOME TYPE'\n",
    "iv, data = calc_iv(new_data, 'INCOME TYPE', 'target')\n",
    "\n",
    "# Update the IV table\n",
    "ivtable.loc[ivtable['variable'] == 'INCOME TYPE', 'IV'] = iv\n",
    "\n",
    "# Display the first few rows of the resulting data\n",
    "print(\"First few rows of data after IV calculation:\")\n",
    "print(data.head())\n"
   ]
  },
  {
   "cell_type": "code",
   "execution_count": 48,
   "metadata": {},
   "outputs": [],
   "source": [
    "new_data = convert_dummy(new_data,'INCOME TYPE')"
   ]
  },
  {
   "cell_type": "code",
   "execution_count": 49,
   "metadata": {},
   "outputs": [
    {
     "name": "stdout",
     "output_type": "stream",
     "text": [
      "TYPE\n",
      "             11323\n",
      "Laborwk      10496\n",
      "officewk     10183\n",
      "hightecwk     4455\n",
      "Name: count, dtype: int64\n",
      "This variable's IV is: 0.003404148236123658\n",
      "TYPE\n",
      "             11323\n",
      "Laborwk      10496\n",
      "officewk     10183\n",
      "hightecwk     4455\n",
      "Name: count, dtype: int64\n",
      "  Variable      Value    All   Good  Bad     Share  Bad Rate  \\\n",
      "0     TYPE             11323  11129  194  0.310585  0.017133   \n",
      "1     TYPE    Laborwk  10496  10311  185  0.287901  0.017626   \n",
      "2     TYPE  hightecwk   4455   4375   80  0.122199  0.017957   \n",
      "3     TYPE   officewk  10183  10026  157  0.279315  0.015418   \n",
      "\n",
      "   Distribution Good  Distribution Bad       WoE        IV  \n",
      "0           0.310510          0.314935 -0.014149  0.000063  \n",
      "1           0.287687          0.300325 -0.042990  0.000543  \n",
      "2           0.122067          0.129870 -0.061966  0.000484  \n",
      "3           0.279735          0.254870  0.093090  0.002315  \n"
     ]
    }
   ],
   "source": [
    "# Group occupations into broader categories\n",
    "new_data.loc[(new_data['TYPE'] == 'Cleaning staff') | \n",
    "             (new_data['TYPE'] == 'Cooking staff') | \n",
    "             (new_data['TYPE'] == 'Drivers') | \n",
    "             (new_data['TYPE'] == 'Laborers') | \n",
    "             (new_data['TYPE'] == 'Low-skill Laborers') | \n",
    "             (new_data['TYPE'] == 'Security staff') | \n",
    "             (new_data['TYPE'] == 'Waiters/barmen staff'), 'TYPE'] = 'Laborwk'\n",
    "\n",
    "new_data.loc[(new_data['TYPE'] == 'Accountants') | \n",
    "             (new_data['TYPE'] == 'Core staff') | \n",
    "             (new_data['TYPE'] == 'HR staff') | \n",
    "             (new_data['TYPE'] == 'Medicine staff') | \n",
    "             (new_data['TYPE'] == 'Private service staff') | \n",
    "             (new_data['TYPE'] == 'Realty agents') | \n",
    "             (new_data['TYPE'] == 'Sales staff') | \n",
    "             (new_data['TYPE'] == 'Secretaries'), 'TYPE'] = 'officewk'\n",
    "\n",
    "new_data.loc[(new_data['TYPE'] == 'Managers') | \n",
    "             (new_data['TYPE'] == 'High skill tech staff') | \n",
    "             (new_data['TYPE'] == 'IT staff'), 'TYPE'] = 'hightecwk'\n",
    "\n",
    "# Print the value counts for the TYPE column\n",
    "print(new_data['TYPE'].value_counts())\n",
    "\n",
    "# Calculate IV for 'TYPE'\n",
    "iv, data = calc_iv(new_data, 'TYPE', 'target')\n",
    "\n",
    "# Update the IV table for 'TYPE'\n",
    "ivtable.loc[ivtable['variable'] == 'TYPE', 'IV'] = iv\n",
    "\n",
    "# Display the first few rows of the IV DataFrame\n",
    "print(data.head())\n"
   ]
  },
  {
   "cell_type": "code",
   "execution_count": 50,
   "metadata": {},
   "outputs": [],
   "source": [
    "new_data = convert_dummy(new_data,'TYPE')"
   ]
  },
  {
   "cell_type": "markdown",
   "metadata": {},
   "source": [
    "House Type"
   ]
  },
  {
   "cell_type": "code",
   "execution_count": 51,
   "metadata": {},
   "outputs": [
    {
     "name": "stdout",
     "output_type": "stream",
     "text": [
      "This variable's IV is: 0.015711059415892167\n",
      "HOUSING TYPE\n",
      "House / apartment      32548\n",
      "With parents            1776\n",
      "Municipal apartment     1128\n",
      "Rented apartment         575\n",
      "Office apartment         262\n",
      "Co-op apartment          168\n",
      "Name: count, dtype: int64\n"
     ]
    },
    {
     "data": {
      "text/html": [
       "<div>\n",
       "<style scoped>\n",
       "    .dataframe tbody tr th:only-of-type {\n",
       "        vertical-align: middle;\n",
       "    }\n",
       "\n",
       "    .dataframe tbody tr th {\n",
       "        vertical-align: top;\n",
       "    }\n",
       "\n",
       "    .dataframe thead th {\n",
       "        text-align: right;\n",
       "    }\n",
       "</style>\n",
       "<table border=\"1\" class=\"dataframe\">\n",
       "  <thead>\n",
       "    <tr style=\"text-align: right;\">\n",
       "      <th></th>\n",
       "      <th>Variable</th>\n",
       "      <th>Value</th>\n",
       "      <th>All</th>\n",
       "      <th>Good</th>\n",
       "      <th>Bad</th>\n",
       "      <th>Share</th>\n",
       "      <th>Bad Rate</th>\n",
       "      <th>Distribution Good</th>\n",
       "      <th>Distribution Bad</th>\n",
       "      <th>WoE</th>\n",
       "      <th>IV</th>\n",
       "    </tr>\n",
       "  </thead>\n",
       "  <tbody>\n",
       "    <tr>\n",
       "      <th>0</th>\n",
       "      <td>HOUSING TYPE</td>\n",
       "      <td>Co-op apartment</td>\n",
       "      <td>168</td>\n",
       "      <td>165</td>\n",
       "      <td>3</td>\n",
       "      <td>0.004608</td>\n",
       "      <td>0.017857</td>\n",
       "      <td>0.004604</td>\n",
       "      <td>0.004870</td>\n",
       "      <td>-0.056268</td>\n",
       "      <td>0.000015</td>\n",
       "    </tr>\n",
       "    <tr>\n",
       "      <th>1</th>\n",
       "      <td>HOUSING TYPE</td>\n",
       "      <td>House / apartment</td>\n",
       "      <td>32548</td>\n",
       "      <td>32008</td>\n",
       "      <td>540</td>\n",
       "      <td>0.892778</td>\n",
       "      <td>0.016591</td>\n",
       "      <td>0.893055</td>\n",
       "      <td>0.876623</td>\n",
       "      <td>0.018571</td>\n",
       "      <td>0.000305</td>\n",
       "    </tr>\n",
       "    <tr>\n",
       "      <th>2</th>\n",
       "      <td>HOUSING TYPE</td>\n",
       "      <td>Municipal apartment</td>\n",
       "      <td>1128</td>\n",
       "      <td>1098</td>\n",
       "      <td>30</td>\n",
       "      <td>0.030941</td>\n",
       "      <td>0.026596</td>\n",
       "      <td>0.030635</td>\n",
       "      <td>0.048701</td>\n",
       "      <td>-0.463553</td>\n",
       "      <td>0.008375</td>\n",
       "    </tr>\n",
       "    <tr>\n",
       "      <th>3</th>\n",
       "      <td>HOUSING TYPE</td>\n",
       "      <td>Office apartment</td>\n",
       "      <td>262</td>\n",
       "      <td>253</td>\n",
       "      <td>9</td>\n",
       "      <td>0.007187</td>\n",
       "      <td>0.034351</td>\n",
       "      <td>0.007059</td>\n",
       "      <td>0.014610</td>\n",
       "      <td>-0.727436</td>\n",
       "      <td>0.005493</td>\n",
       "    </tr>\n",
       "    <tr>\n",
       "      <th>4</th>\n",
       "      <td>HOUSING TYPE</td>\n",
       "      <td>Rented apartment</td>\n",
       "      <td>575</td>\n",
       "      <td>567</td>\n",
       "      <td>8</td>\n",
       "      <td>0.015772</td>\n",
       "      <td>0.013913</td>\n",
       "      <td>0.015820</td>\n",
       "      <td>0.012987</td>\n",
       "      <td>0.197317</td>\n",
       "      <td>0.000559</td>\n",
       "    </tr>\n",
       "  </tbody>\n",
       "</table>\n",
       "</div>"
      ],
      "text/plain": [
       "       Variable                Value    All   Good  Bad     Share  Bad Rate  \\\n",
       "0  HOUSING TYPE      Co-op apartment    168    165    3  0.004608  0.017857   \n",
       "1  HOUSING TYPE    House / apartment  32548  32008  540  0.892778  0.016591   \n",
       "2  HOUSING TYPE  Municipal apartment   1128   1098   30  0.030941  0.026596   \n",
       "3  HOUSING TYPE     Office apartment    262    253    9  0.007187  0.034351   \n",
       "4  HOUSING TYPE     Rented apartment    575    567    8  0.015772  0.013913   \n",
       "\n",
       "   Distribution Good  Distribution Bad       WoE        IV  \n",
       "0           0.004604          0.004870 -0.056268  0.000015  \n",
       "1           0.893055          0.876623  0.018571  0.000305  \n",
       "2           0.030635          0.048701 -0.463553  0.008375  \n",
       "3           0.007059          0.014610 -0.727436  0.005493  \n",
       "4           0.015820          0.012987  0.197317  0.000559  "
      ]
     },
     "execution_count": 51,
     "metadata": {},
     "output_type": "execute_result"
    }
   ],
   "source": [
    "iv, data=calc_iv(new_data,'HOUSING TYPE','target')\n",
    "ivtable.loc[ivtable['variable']=='HOUSING TYPE','IV']=iv\n",
    "data.head()"
   ]
  },
  {
   "cell_type": "markdown",
   "metadata": {},
   "source": [
    "Education"
   ]
  },
  {
   "cell_type": "code",
   "execution_count": 52,
   "metadata": {},
   "outputs": [
    {
     "name": "stdout",
     "output_type": "stream",
     "text": [
      "This variable's IV is: 0.009164838497922656\n",
      "EDUCATION TYPE\n",
      "Secondary / secondary special    24777\n",
      "Higher education                  9896\n",
      "Incomplete higher                 1410\n",
      "Lower secondary                    374\n",
      "Name: count, dtype: int64\n",
      "First few rows of data after IV calculation:\n",
      "         Variable                          Value    All   Good  Bad     Share  \\\n",
      "0  EDUCATION TYPE               Higher education   9896   9725  171  0.271443   \n",
      "1  EDUCATION TYPE              Incomplete higher   1410   1377   33  0.038676   \n",
      "2  EDUCATION TYPE                Lower secondary    374    364   10  0.010259   \n",
      "3  EDUCATION TYPE  Secondary / secondary special  24777  24375  402  0.679623   \n",
      "\n",
      "   Bad Rate  Distribution Good  Distribution Bad       WoE        IV  \n",
      "0  0.017280           0.271337          0.277597 -0.022809  0.000143  \n",
      "1  0.023404           0.038420          0.053571 -0.332446  0.005037  \n",
      "2  0.026738           0.010156          0.016234 -0.469032  0.002851  \n",
      "3  0.016225           0.680087          0.652597  0.041260  0.001134  \n"
     ]
    }
   ],
   "source": [
    "# Consolidate categories for 'EDUCATION TYPE'\n",
    "new_data.loc[new_data['EDUCATION TYPE'] == 'Academic degree', 'EDUCATION TYPE'] = 'Higher education'\n",
    "\n",
    "# Calculate IV for 'EDUCATION TYPE'\n",
    "iv, data = calc_iv(new_data, 'EDUCATION TYPE', 'target')\n",
    "\n",
    "# Update the IV table\n",
    "ivtable.loc[ivtable['variable'] == 'EDUCATION TYPE', 'IV'] = iv\n",
    "\n",
    "# Display the first few rows of the resulting data\n",
    "print(\"First few rows of data after IV calculation:\")\n",
    "print(data.head())\n"
   ]
  },
  {
   "cell_type": "code",
   "execution_count": 53,
   "metadata": {},
   "outputs": [],
   "source": [
    "new_data = convert_dummy(new_data,'EDUCATION TYPE')"
   ]
  },
  {
   "cell_type": "markdown",
   "metadata": {},
   "source": [
    "Marriage Condition"
   ]
  },
  {
   "cell_type": "code",
   "execution_count": 54,
   "metadata": {},
   "outputs": [
    {
     "name": "stdout",
     "output_type": "stream",
     "text": [
      "Normalized value counts (unsorted):\n",
      "FAMILY STATUS\n",
      "Civil marriage          0.080780\n",
      "Single / not married    0.132457\n",
      "Married                 0.687056\n",
      "Separated               0.057684\n",
      "Widow                   0.042022\n",
      "Name: proportion, dtype: float64\n"
     ]
    }
   ],
   "source": [
    "# Display normalized value counts for 'FAMILY STATUS' without sorting\n",
    "family_status_normalized_counts = new_data['FAMILY STATUS'].value_counts(normalize=True, sort=False)\n",
    "\n",
    "# Print the results\n",
    "print(\"Normalized value counts (unsorted):\")\n",
    "print(family_status_normalized_counts)\n"
   ]
  },
  {
   "cell_type": "code",
   "execution_count": 55,
   "metadata": {},
   "outputs": [
    {
     "name": "stdout",
     "output_type": "stream",
     "text": [
      "This variable's IV is: 0.030119259732338716\n",
      "FAMILY STATUS\n",
      "Married                 25048\n",
      "Single / not married     4829\n",
      "Civil marriage           2945\n",
      "Separated                2103\n",
      "Widow                    1532\n",
      "Name: count, dtype: int64\n"
     ]
    },
    {
     "data": {
      "text/html": [
       "<div>\n",
       "<style scoped>\n",
       "    .dataframe tbody tr th:only-of-type {\n",
       "        vertical-align: middle;\n",
       "    }\n",
       "\n",
       "    .dataframe tbody tr th {\n",
       "        vertical-align: top;\n",
       "    }\n",
       "\n",
       "    .dataframe thead th {\n",
       "        text-align: right;\n",
       "    }\n",
       "</style>\n",
       "<table border=\"1\" class=\"dataframe\">\n",
       "  <thead>\n",
       "    <tr style=\"text-align: right;\">\n",
       "      <th></th>\n",
       "      <th>Variable</th>\n",
       "      <th>Value</th>\n",
       "      <th>All</th>\n",
       "      <th>Good</th>\n",
       "      <th>Bad</th>\n",
       "      <th>Share</th>\n",
       "      <th>Bad Rate</th>\n",
       "      <th>Distribution Good</th>\n",
       "      <th>Distribution Bad</th>\n",
       "      <th>WoE</th>\n",
       "      <th>IV</th>\n",
       "    </tr>\n",
       "  </thead>\n",
       "  <tbody>\n",
       "    <tr>\n",
       "      <th>0</th>\n",
       "      <td>FAMILY STATUS</td>\n",
       "      <td>Civil marriage</td>\n",
       "      <td>2945</td>\n",
       "      <td>2899</td>\n",
       "      <td>46</td>\n",
       "      <td>0.080780</td>\n",
       "      <td>0.015620</td>\n",
       "      <td>0.080885</td>\n",
       "      <td>0.074675</td>\n",
       "      <td>0.079879</td>\n",
       "      <td>0.000496</td>\n",
       "    </tr>\n",
       "    <tr>\n",
       "      <th>1</th>\n",
       "      <td>FAMILY STATUS</td>\n",
       "      <td>Married</td>\n",
       "      <td>25048</td>\n",
       "      <td>24655</td>\n",
       "      <td>393</td>\n",
       "      <td>0.687056</td>\n",
       "      <td>0.015690</td>\n",
       "      <td>0.687899</td>\n",
       "      <td>0.637987</td>\n",
       "      <td>0.075325</td>\n",
       "      <td>0.003760</td>\n",
       "    </tr>\n",
       "    <tr>\n",
       "      <th>2</th>\n",
       "      <td>FAMILY STATUS</td>\n",
       "      <td>Separated</td>\n",
       "      <td>2103</td>\n",
       "      <td>2072</td>\n",
       "      <td>31</td>\n",
       "      <td>0.057684</td>\n",
       "      <td>0.014741</td>\n",
       "      <td>0.057811</td>\n",
       "      <td>0.050325</td>\n",
       "      <td>0.138682</td>\n",
       "      <td>0.001038</td>\n",
       "    </tr>\n",
       "    <tr>\n",
       "      <th>3</th>\n",
       "      <td>FAMILY STATUS</td>\n",
       "      <td>Single / not married</td>\n",
       "      <td>4829</td>\n",
       "      <td>4728</td>\n",
       "      <td>101</td>\n",
       "      <td>0.132457</td>\n",
       "      <td>0.020915</td>\n",
       "      <td>0.131916</td>\n",
       "      <td>0.163961</td>\n",
       "      <td>-0.217464</td>\n",
       "      <td>0.006969</td>\n",
       "    </tr>\n",
       "    <tr>\n",
       "      <th>4</th>\n",
       "      <td>FAMILY STATUS</td>\n",
       "      <td>Widow</td>\n",
       "      <td>1532</td>\n",
       "      <td>1487</td>\n",
       "      <td>45</td>\n",
       "      <td>0.042022</td>\n",
       "      <td>0.029373</td>\n",
       "      <td>0.041489</td>\n",
       "      <td>0.073052</td>\n",
       "      <td>-0.565747</td>\n",
       "      <td>0.017857</td>\n",
       "    </tr>\n",
       "  </tbody>\n",
       "</table>\n",
       "</div>"
      ],
      "text/plain": [
       "        Variable                 Value    All   Good  Bad     Share  Bad Rate  \\\n",
       "0  FAMILY STATUS        Civil marriage   2945   2899   46  0.080780  0.015620   \n",
       "1  FAMILY STATUS               Married  25048  24655  393  0.687056  0.015690   \n",
       "2  FAMILY STATUS             Separated   2103   2072   31  0.057684  0.014741   \n",
       "3  FAMILY STATUS  Single / not married   4829   4728  101  0.132457  0.020915   \n",
       "4  FAMILY STATUS                 Widow   1532   1487   45  0.042022  0.029373   \n",
       "\n",
       "   Distribution Good  Distribution Bad       WoE        IV  \n",
       "0           0.080885          0.074675  0.079879  0.000496  \n",
       "1           0.687899          0.637987  0.075325  0.003760  \n",
       "2           0.057811          0.050325  0.138682  0.001038  \n",
       "3           0.131916          0.163961 -0.217464  0.006969  \n",
       "4           0.041489          0.073052 -0.565747  0.017857  "
      ]
     },
     "execution_count": 55,
     "metadata": {},
     "output_type": "execute_result"
    }
   ],
   "source": [
    "iv, data=calc_iv(new_data,'FAMILY STATUS','target')\n",
    "ivtable.loc[ivtable['variable']=='FAMILY STATUS','IV']=iv\n",
    "data.head()"
   ]
  },
  {
   "cell_type": "code",
   "execution_count": 56,
   "metadata": {},
   "outputs": [],
   "source": [
    "new_data = convert_dummy(new_data,'FAMILY STATUS')"
   ]
  },
  {
   "cell_type": "code",
   "execution_count": 57,
   "metadata": {},
   "outputs": [
    {
     "data": {
      "text/html": [
       "<div>\n",
       "<style scoped>\n",
       "    .dataframe tbody tr th:only-of-type {\n",
       "        vertical-align: middle;\n",
       "    }\n",
       "\n",
       "    .dataframe tbody tr th {\n",
       "        vertical-align: top;\n",
       "    }\n",
       "\n",
       "    .dataframe thead th {\n",
       "        text-align: right;\n",
       "    }\n",
       "</style>\n",
       "<table border=\"1\" class=\"dataframe\">\n",
       "  <thead>\n",
       "    <tr style=\"text-align: right;\">\n",
       "      <th></th>\n",
       "      <th>_id</th>\n",
       "      <th>ID</th>\n",
       "      <th>GENDER</th>\n",
       "      <th>OWN CAR</th>\n",
       "      <th>OWN REALTY</th>\n",
       "      <th>INCOME TOTAL</th>\n",
       "      <th>HOUSING TYPE</th>\n",
       "      <th>DAYS SINCE BIRTH</th>\n",
       "      <th>DAYS EMPLOYED</th>\n",
       "      <th>MOBIL</th>\n",
       "      <th>...</th>\n",
       "      <th>TYPE_Laborwk</th>\n",
       "      <th>TYPE_hightecwk</th>\n",
       "      <th>TYPE_officewk</th>\n",
       "      <th>EDUCATION TYPE_Higher education</th>\n",
       "      <th>EDUCATION TYPE_Incomplete higher</th>\n",
       "      <th>EDUCATION TYPE_Lower secondary</th>\n",
       "      <th>FAMILY STATUS_Civil marriage</th>\n",
       "      <th>FAMILY STATUS_Separated</th>\n",
       "      <th>FAMILY STATUS_Single / not married</th>\n",
       "      <th>FAMILY STATUS_Widow</th>\n",
       "    </tr>\n",
       "  </thead>\n",
       "  <tbody>\n",
       "    <tr>\n",
       "      <th>0</th>\n",
       "      <td>675cc99f31970e97e31acd29</td>\n",
       "      <td>5008804</td>\n",
       "      <td>1</td>\n",
       "      <td>1</td>\n",
       "      <td>1</td>\n",
       "      <td>0.004275</td>\n",
       "      <td>Rented apartment</td>\n",
       "      <td>-12005</td>\n",
       "      <td>-4542</td>\n",
       "      <td>1</td>\n",
       "      <td>...</td>\n",
       "      <td>False</td>\n",
       "      <td>False</td>\n",
       "      <td>False</td>\n",
       "      <td>True</td>\n",
       "      <td>False</td>\n",
       "      <td>False</td>\n",
       "      <td>True</td>\n",
       "      <td>False</td>\n",
       "      <td>False</td>\n",
       "      <td>False</td>\n",
       "    </tr>\n",
       "    <tr>\n",
       "      <th>1</th>\n",
       "      <td>675cc99f31970e97e31acd2a</td>\n",
       "      <td>5008805</td>\n",
       "      <td>1</td>\n",
       "      <td>1</td>\n",
       "      <td>1</td>\n",
       "      <td>0.004275</td>\n",
       "      <td>Rented apartment</td>\n",
       "      <td>-12005</td>\n",
       "      <td>-4542</td>\n",
       "      <td>1</td>\n",
       "      <td>...</td>\n",
       "      <td>False</td>\n",
       "      <td>False</td>\n",
       "      <td>False</td>\n",
       "      <td>True</td>\n",
       "      <td>False</td>\n",
       "      <td>False</td>\n",
       "      <td>True</td>\n",
       "      <td>False</td>\n",
       "      <td>False</td>\n",
       "      <td>False</td>\n",
       "    </tr>\n",
       "    <tr>\n",
       "      <th>2</th>\n",
       "      <td>675cc99f31970e97e31acd2b</td>\n",
       "      <td>5008808</td>\n",
       "      <td>0</td>\n",
       "      <td>0</td>\n",
       "      <td>1</td>\n",
       "      <td>0.002700</td>\n",
       "      <td>House / apartment</td>\n",
       "      <td>-19110</td>\n",
       "      <td>-3051</td>\n",
       "      <td>1</td>\n",
       "      <td>...</td>\n",
       "      <td>False</td>\n",
       "      <td>False</td>\n",
       "      <td>True</td>\n",
       "      <td>False</td>\n",
       "      <td>False</td>\n",
       "      <td>False</td>\n",
       "      <td>False</td>\n",
       "      <td>False</td>\n",
       "      <td>True</td>\n",
       "      <td>False</td>\n",
       "    </tr>\n",
       "    <tr>\n",
       "      <th>3</th>\n",
       "      <td>675cc99f31970e97e31acd2c</td>\n",
       "      <td>5008806</td>\n",
       "      <td>1</td>\n",
       "      <td>1</td>\n",
       "      <td>1</td>\n",
       "      <td>0.001125</td>\n",
       "      <td>House / apartment</td>\n",
       "      <td>-21474</td>\n",
       "      <td>-1134</td>\n",
       "      <td>1</td>\n",
       "      <td>...</td>\n",
       "      <td>True</td>\n",
       "      <td>False</td>\n",
       "      <td>False</td>\n",
       "      <td>False</td>\n",
       "      <td>False</td>\n",
       "      <td>False</td>\n",
       "      <td>False</td>\n",
       "      <td>False</td>\n",
       "      <td>False</td>\n",
       "      <td>False</td>\n",
       "    </tr>\n",
       "    <tr>\n",
       "      <th>4</th>\n",
       "      <td>675cc99f31970e97e31acd2d</td>\n",
       "      <td>5008809</td>\n",
       "      <td>0</td>\n",
       "      <td>0</td>\n",
       "      <td>1</td>\n",
       "      <td>0.002700</td>\n",
       "      <td>House / apartment</td>\n",
       "      <td>-19110</td>\n",
       "      <td>-3051</td>\n",
       "      <td>1</td>\n",
       "      <td>...</td>\n",
       "      <td>False</td>\n",
       "      <td>False</td>\n",
       "      <td>True</td>\n",
       "      <td>False</td>\n",
       "      <td>False</td>\n",
       "      <td>False</td>\n",
       "      <td>False</td>\n",
       "      <td>False</td>\n",
       "      <td>True</td>\n",
       "      <td>False</td>\n",
       "    </tr>\n",
       "  </tbody>\n",
       "</table>\n",
       "<p>5 rows × 47 columns</p>\n",
       "</div>"
      ],
      "text/plain": [
       "                        _id       ID  GENDER  OWN CAR  OWN REALTY  \\\n",
       "0  675cc99f31970e97e31acd29  5008804       1        1           1   \n",
       "1  675cc99f31970e97e31acd2a  5008805       1        1           1   \n",
       "2  675cc99f31970e97e31acd2b  5008808       0        0           1   \n",
       "3  675cc99f31970e97e31acd2c  5008806       1        1           1   \n",
       "4  675cc99f31970e97e31acd2d  5008809       0        0           1   \n",
       "\n",
       "   INCOME TOTAL       HOUSING TYPE  DAYS SINCE BIRTH  DAYS EMPLOYED  MOBIL  \\\n",
       "0      0.004275   Rented apartment            -12005          -4542      1   \n",
       "1      0.004275   Rented apartment            -12005          -4542      1   \n",
       "2      0.002700  House / apartment            -19110          -3051      1   \n",
       "3      0.001125  House / apartment            -21474          -1134      1   \n",
       "4      0.002700  House / apartment            -19110          -3051      1   \n",
       "\n",
       "   ... TYPE_Laborwk TYPE_hightecwk TYPE_officewk  \\\n",
       "0  ...        False          False         False   \n",
       "1  ...        False          False         False   \n",
       "2  ...        False          False          True   \n",
       "3  ...         True          False         False   \n",
       "4  ...        False          False          True   \n",
       "\n",
       "   EDUCATION TYPE_Higher education  EDUCATION TYPE_Incomplete higher  \\\n",
       "0                             True                             False   \n",
       "1                             True                             False   \n",
       "2                            False                             False   \n",
       "3                            False                             False   \n",
       "4                            False                             False   \n",
       "\n",
       "  EDUCATION TYPE_Lower secondary  FAMILY STATUS_Civil marriage  \\\n",
       "0                          False                          True   \n",
       "1                          False                          True   \n",
       "2                          False                         False   \n",
       "3                          False                         False   \n",
       "4                          False                         False   \n",
       "\n",
       "   FAMILY STATUS_Separated  FAMILY STATUS_Single / not married  \\\n",
       "0                    False                               False   \n",
       "1                    False                               False   \n",
       "2                    False                                True   \n",
       "3                    False                               False   \n",
       "4                    False                                True   \n",
       "\n",
       "   FAMILY STATUS_Widow  \n",
       "0                False  \n",
       "1                False  \n",
       "2                False  \n",
       "3                False  \n",
       "4                False  \n",
       "\n",
       "[5 rows x 47 columns]"
      ]
     },
     "execution_count": 57,
     "metadata": {},
     "output_type": "execute_result"
    }
   ],
   "source": [
    "new_data.head()"
   ]
  },
  {
   "cell_type": "code",
   "execution_count": 58,
   "metadata": {},
   "outputs": [
    {
     "data": {
      "text/plain": [
       "Index(['_id', 'ID', 'GENDER', 'OWN CAR', 'OWN REALTY', 'INCOME TOTAL',\n",
       "       'HOUSING TYPE', 'DAYS SINCE BIRTH', 'DAYS EMPLOYED', 'MOBIL',\n",
       "       'WORK PHONE', 'PHONE', 'EMAIL', 'FAM MEMBERS', 'begin_month',\n",
       "       'past_due', 'target', 'CHILDREN_1', 'CHILDREN_2More', 'gp_inc_medium',\n",
       "       'gp_inc_high', 'gp_inc_NULL', 'Age', 'gp_Age_low', 'gp_Age_medium',\n",
       "       'gp_Age_high', 'gp_Age_highest', 'gp_Age_NULL', 'worktm',\n",
       "       'gp_worktm_high', 'gp_worktm_highest', 'gp_worktm_low',\n",
       "       'gp_worktm_medium', 'FAM MEMBERS GP_1', 'FAM MEMBERS GP_3more',\n",
       "       'INCOME TYPE_Commercial associate', 'INCOME TYPE_State servant',\n",
       "       'TYPE_Laborwk', 'TYPE_hightecwk', 'TYPE_officewk',\n",
       "       'EDUCATION TYPE_Higher education', 'EDUCATION TYPE_Incomplete higher',\n",
       "       'EDUCATION TYPE_Lower secondary', 'FAMILY STATUS_Civil marriage',\n",
       "       'FAMILY STATUS_Separated', 'FAMILY STATUS_Single / not married',\n",
       "       'FAMILY STATUS_Widow'],\n",
       "      dtype='object')"
      ]
     },
     "execution_count": 58,
     "metadata": {},
     "output_type": "execute_result"
    }
   ],
   "source": [
    "new_data.columns"
   ]
  },
  {
   "cell_type": "code",
   "execution_count": 59,
   "metadata": {},
   "outputs": [
    {
     "name": "stderr",
     "output_type": "stream",
     "text": [
      "C:\\Users\\Laura\\AppData\\Local\\Temp\\ipykernel_23004\\2078466997.py:1: FutureWarning: Downcasting object dtype arrays on .fillna, .ffill, .bfill is deprecated and will change in a future version. Call result.infer_objects(copy=False) instead. To opt-in to the future behavior, set `pd.set_option('future.no_silent_downcasting', True)`\n",
      "  ivtable['IV'] = ivtable['IV'].fillna(0)\n"
     ]
    }
   ],
   "source": [
    "ivtable['IV'] = ivtable['IV'].fillna(0)\n"
   ]
  },
  {
   "cell_type": "markdown",
   "metadata": {},
   "source": [
    "# IV Table results"
   ]
  },
  {
   "cell_type": "code",
   "execution_count": 60,
   "metadata": {},
   "outputs": [
    {
     "name": "stdout",
     "output_type": "stream",
     "text": [
      "            variable        IV\n",
      "10  DAYS SINCE BIRTH  0.030119\n",
      "8      FAMILY STATUS  0.030119\n",
      "3         OWN REALTY  0.028349\n",
      "11    DAYS EMPLOYEED  0.020009\n",
      "9       HOUSING TYPE  0.015711\n",
      "1             GENDER  0.013581\n",
      "7     EDUCATION TYPE  0.009165\n",
      "16       FAM MEMBERS  0.007330\n",
      "5       INCOME TOTAL  0.003572\n",
      "15              TYPE  0.003404\n",
      "6        INCOME TYPE  0.002390\n",
      "12        WORK PHONE  0.001865\n",
      "2            OWN CAR  0.001144\n",
      "4           CHILDREN  0.000748\n",
      "14             EMAIL  0.000366\n",
      "13             PHONE  0.000150\n",
      "0                _id  0.000000\n"
     ]
    }
   ],
   "source": [
    "# Rename variables in ivtable\n",
    "ivtable.loc[ivtable['variable'] == 'DAYS SINCE BIRTH', 'IV'] = iv\n",
    "ivtable.loc[ivtable['variable'] == 'DAYS EMPLOYED', 'variable'] = 'DAYS EMPLOYEED'\n",
    "ivtable.loc[ivtable['variable'] == 'inc', 'variable'] = 'incgp'\n",
    "\n",
    "# Sort ivtable by IV\n",
    "ivtable = ivtable.sort_values(by='IV', ascending=False)\n",
    "\n",
    "# Verify ivtable\n",
    "print(ivtable)\n"
   ]
  },
  {
   "cell_type": "markdown",
   "metadata": {},
   "source": [
    "# Logistic Regression"
   ]
  },
  {
   "cell_type": "code",
   "execution_count": 61,
   "metadata": {},
   "outputs": [
    {
     "name": "stdout",
     "output_type": "stream",
     "text": [
      "Selected Features: Index(['GENDER', 'OWN CAR', 'OWN REALTY', 'INCOME TOTAL', 'FAM MEMBERS',\n",
      "       'DAYS SINCE BIRTH', 'DAYS EMPLOYED', 'Age'],\n",
      "      dtype='object')\n",
      "Accuracy Score is 0.68119\n",
      "Confusion Matrix:\n",
      "       0     1\n",
      "0  7339  3414\n",
      "1  3442  7310\n"
     ]
    },
    {
     "data": {
      "image/png": "[encoded data removed]",
      "text/plain": [
       "<Figure size 640x480 with 2 Axes>"
      ]
     },
     "metadata": {},
     "output_type": "display_data"
    }
   ],
   "source": [
    "# Define target (Y) and features (X)\n",
    "Y = new_data['target'].astype('int')\n",
    "selected_columns = ['GENDER', 'OWN CAR', 'OWN REALTY', 'INCOME TOTAL', 'FAM MEMBERS',\n",
    "       'DAYS SINCE BIRTH', 'DAYS EMPLOYED', 'Age']\n",
    "X = new_data[selected_columns].fillna(0)  \n",
    "\n",
    "# Check and ensure all columns in X are numeric\n",
    "numeric_columns = X.select_dtypes(include=['number']).columns\n",
    "X = X[numeric_columns]\n",
    "\n",
    "# Apply SMOTE to balance the dataset\n",
    "sm = SMOTE(random_state=42)\n",
    "X_balance, Y_balance = sm.fit_resample(X, Y)\n",
    "\n",
    "# Convert X_balance back to a DataFrame\n",
    "X_balance = pd.DataFrame(X_balance, columns=X.columns)\n",
    "\n",
    "# Split the data into train and test sets\n",
    "X_train, X_test, y_train, y_test = train_test_split(X_balance, Y_balance, \n",
    "                                                    stratify=Y_balance, \n",
    "                                                    test_size=0.3, \n",
    "                                                    random_state=10086)\n",
    "\n",
    "# Feature Selection: Recursive Feature Elimination (RFE)\n",
    "model = LogisticRegression(C=0.8, random_state=0, solver='lbfgs', max_iter=1000)\n",
    "rfe = RFE(estimator=model, n_features_to_select=10)  # Select top 10 features\n",
    "rfe.fit(X_train, y_train)\n",
    "selected_features = X_train.columns[rfe.support_]\n",
    "print(\"Selected Features:\", selected_features)\n",
    "\n",
    "# Reduce dataset to selected features\n",
    "X_train = X_train[selected_features]\n",
    "X_test = X_test[selected_features]\n",
    "\n",
    "# Train Logistic Regression Model\n",
    "model = LogisticRegression(C=0.8, random_state=0, solver='lbfgs', max_iter=1000)\n",
    "model.fit(X_train, y_train)\n",
    "\n",
    "# Make predictions on the test set\n",
    "y_predict = model.predict(X_test)\n",
    "\n",
    "# Evaluate the model\n",
    "accuracy = accuracy_score(y_test, y_predict)\n",
    "print('Accuracy Score is {:.5f}'.format(accuracy))\n",
    "print(\"Confusion Matrix:\\n\", pd.DataFrame(confusion_matrix(y_test, y_predict)))\n",
    "\n",
    "# Plot the Confusion Matrix\n",
    "def plot_confusion_matrix(cm, classes, normalize=False, title='Confusion Matrix', cmap='coolwarm'):\n",
    "    if normalize:\n",
    "        cm = cm.astype('float') / cm.sum(axis=1)[:, np.newaxis]\n",
    "    sns.heatmap(cm, annot=True, fmt=\".2f\" if normalize else \"d\", cmap=cmap,\n",
    "                xticklabels=classes, yticklabels=classes)\n",
    "    plt.title(title)\n",
    "    plt.ylabel('True label')\n",
    "    plt.xlabel('Predicted label')\n",
    "    plt.show()\n",
    "\n",
    "cm = confusion_matrix(y_test, y_predict)\n",
    "class_names = ['0', '1']  # Replace with your actual class labels if necessary\n",
    "plot_confusion_matrix(cm, class_names, normalize=True, \n",
    "                      title='Normalized Confusion Matrix: Logistic Regression')\n"
   ]
  },
  {
   "cell_type": "code",
   "execution_count": 62,
   "metadata": {},
   "outputs": [
    {
     "name": "stdout",
     "output_type": "stream",
     "text": [
      "Logistic Regression Accuracy: 0.68142\n",
      "XGBoost Accuracy: 0.95889\n",
      "Voting Classifier Accuracy (Logistic Regression + XGBoost): 0.94615\n",
      "\n",
      "Classification Report for Voting Classifier:\n",
      "              precision    recall  f1-score   support\n",
      "\n",
      "           0       0.95      0.94      0.95     10753\n",
      "           1       0.94      0.95      0.95     10752\n",
      "\n",
      "    accuracy                           0.95     21505\n",
      "   macro avg       0.95      0.95      0.95     21505\n",
      "weighted avg       0.95      0.95      0.95     21505\n",
      "\n"
     ]
    },
    {
     "data": {
      "image/png": "[encoded data removed]",
      "text/plain": [
       "<Figure size 640x480 with 2 Axes>"
      ]
     },
     "metadata": {},
     "output_type": "display_data"
    }
   ],
   "source": [
    "# 1. Logistic Regression Model\n",
    "lr_model = LogisticRegression(max_iter=1000, random_state=42)\n",
    "lr_model.fit(X_train, y_train)\n",
    "lr_pred = lr_model.predict(X_test)\n",
    "lr_accuracy = accuracy_score(y_test, lr_pred)\n",
    "print(f\"Logistic Regression Accuracy: {lr_accuracy:.5f}\")\n",
    "\n",
    "# 2. XGBoost Model\n",
    "xgb_model = XGBClassifier(random_state=42, eval_metric='logloss')\n",
    "xgb_model.fit(X_train, y_train)\n",
    "xgb_pred = xgb_model.predict(X_test)\n",
    "xgb_accuracy = accuracy_score(y_test, xgb_pred)\n",
    "print(f\"XGBoost Accuracy: {xgb_accuracy:.5f}\")\n",
    "\n",
    "# 3. Ensemble Voting Classifier with Logistic Regression and XGBoost\n",
    "voting_model = VotingClassifier(estimators=[\n",
    "    ('lr', lr_model),   # Logistic Regression\n",
    "    ('xgb', xgb_model)  # XGBoost\n",
    "], voting='soft')  # 'soft' uses predicted probabilities\n",
    "\n",
    "# Train Voting Classifier\n",
    "voting_model.fit(X_train, y_train)\n",
    "voting_pred = voting_model.predict(X_test)\n",
    "voting_accuracy = accuracy_score(y_test, voting_pred)\n",
    "print(f\"Voting Classifier Accuracy (Logistic Regression + XGBoost): {voting_accuracy:.5f}\")\n",
    "\n",
    "# Evaluate Voting Classifier\n",
    "print(\"\\nClassification Report for Voting Classifier:\")\n",
    "print(classification_report(y_test, voting_pred))\n",
    "\n",
    "# Confusion Matrix\n",
    "cm = confusion_matrix(y_test, voting_pred)\n",
    "def plot_confusion_matrix(cm, classes, normalize=False, title='Confusion Matrix', cmap='coolwarm'):\n",
    "    if normalize:\n",
    "        cm = cm.astype('float') / cm.sum(axis=1)[:, np.newaxis]\n",
    "    sns.heatmap(cm, annot=True, fmt=\".2f\" if normalize else \"d\", cmap=cmap,\n",
    "                xticklabels=classes, yticklabels=classes)\n",
    "    plt.title(title)\n",
    "    plt.ylabel('True label')\n",
    "    plt.xlabel('Predicted label')\n",
    "    plt.show()\n",
    "\n",
    "class_names = ['0', '1']  # Replace with actual class labels if necessary\n",
    "plot_confusion_matrix(cm, class_names, normalize=True, \n",
    "                      title='Normalized Confusion Matrix: Voting Classifier')"
   ]
  },
  {
   "cell_type": "code",
   "execution_count": 63,
   "metadata": {},
   "outputs": [
    {
     "data": {
      "image/png": "[encoded data removed]",
      "text/plain": [
       "<Figure size 1800x600 with 6 Axes>"
      ]
     },
     "metadata": {},
     "output_type": "display_data"
    }
   ],
   "source": [
    "def plot_confusion_matrix(cm, title, ax, cmap, classes=['0', '1']):\n",
    "    sns.heatmap(cm, annot=True, fmt=\".2f\", cmap=cmap, xticklabels=classes, yticklabels=classes, ax=ax)\n",
    "    ax.set_title(title)\n",
    "    ax.set_xlabel('Predicted label')\n",
    "    ax.set_ylabel('True label')\n",
    "\n",
    "# Predictions for all models\n",
    "lr_pred = lr_model.predict(X_test)\n",
    "xgb_pred = xgb_model.predict(X_test)\n",
    "voting_pred = voting_model.predict(X_test)\n",
    "\n",
    "# Confusion Matrices\n",
    "cm_lr = confusion_matrix(y_test, lr_pred)\n",
    "cm_xgb = confusion_matrix(y_test, xgb_pred)\n",
    "cm_voting = confusion_matrix(y_test, voting_pred)\n",
    "\n",
    "# Normalize the confusion matrices\n",
    "cm_lr_norm = cm_lr.astype('float') / cm_lr.sum(axis=1)[:, np.newaxis]\n",
    "cm_xgb_norm = cm_xgb.astype('float') / cm_xgb.sum(axis=1)[:, np.newaxis]\n",
    "cm_voting_norm = cm_voting.astype('float') / cm_voting.sum(axis=1)[:, np.newaxis]\n",
    "\n",
    "# Plot all confusion matrices together\n",
    "fig, axes = plt.subplots(1, 3, figsize=(18, 6))\n",
    "\n",
    "plot_confusion_matrix(cm_lr_norm, \"Logistic Regression\", axes[0], cmap='PuOr')\n",
    "plot_confusion_matrix(cm_xgb_norm, \"XGBoost\", axes[1], cmap='tab20c')\n",
    "plot_confusion_matrix(cm_voting_norm, \"Voting Classifier\", axes[2], cmap='coolwarm')\n",
    "\n",
    "plt.tight_layout()\n",
    "plt.show()"
   ]
  },
  {
   "cell_type": "code",
   "execution_count": 64,
   "metadata": {},
   "outputs": [
    {
     "name": "stdout",
     "output_type": "stream",
     "text": [
      "Explained Variance Ratio: [0.17042867 0.09806918 0.08210803]\n",
      "Total Explained Variance: 0.3506058815783775\n"
     ]
    },
    {
     "data": {
      "text/html": [
       "<iframe\n",
       "    scrolling=\"no\"\n",
       "    width=\"100%\"\n",
       "    height=\"545px\"\n",
       "    src=\"iframe_figures/figure_64.html\"\n",
       "    frameborder=\"0\"\n",
       "    allowfullscreen\n",
       "></iframe>\n"
      ]
     },
     "metadata": {},
     "output_type": "display_data"
    }
   ],
   "source": [
    "pio.renderers.default = \"iframe_connected\"  \n",
    "selected_columns = ['GENDER', 'OWN CAR', 'OWN REALTY', 'INCOME TOTAL',\n",
    "         'FAM MEMBERS', 'CHILDREN_1', 'CHILDREN_2More', 'gp_inc_medium', 'gp_inc_high',\n",
    "       'gp_inc_NULL', 'FAM MEMBERS GP_1',\n",
    "       'FAM MEMBERS GP_3more', 'INCOME TYPE_Commercial associate',\n",
    "        'INCOME TYPE_State servant',\n",
    "        'TYPE_Laborwk', 'TYPE_hightecwk',\n",
    "       'TYPE_officewk', \n",
    "       'EDUCATION TYPE_Higher education', 'EDUCATION TYPE_Incomplete higher',\n",
    "       'EDUCATION TYPE_Lower secondary','DAYS SINCE BIRTH','FAMILY STATUS_Civil marriage','FAMILY STATUS_Separated' ,'FAMILY STATUS_Single / not married',\n",
    "                    'FAMILY STATUS_Widow' ,'DAYS EMPLOYED','Age']\n",
    "X = new_data[selected_columns].fillna(0)  \n",
    "Y = new_data['target']\n",
    "\n",
    "scaler = StandardScaler()\n",
    "X_scaled = scaler.fit_transform(X)\n",
    "\n",
    "pca = PCA(n_components=3)\n",
    "X_pca = pca.fit_transform(X_scaled)\n",
    "\n",
    "pca_df = pd.DataFrame(X_pca, columns=['PCA1', 'PCA2', 'PCA3'])\n",
    "pca_df['target'] = Y\n",
    "\n",
    "explained_variance = pca.explained_variance_ratio_\n",
    "print(f\"Explained Variance Ratio: {explained_variance}\")\n",
    "print(f\"Total Explained Variance: {np.sum(explained_variance)}\")\n",
    "\n",
    "fig = px.scatter_3d(\n",
    "    pca_df,\n",
    "    x='PCA1',\n",
    "    y='PCA2',\n",
    "    z='PCA3',\n",
    "    color='target',\n",
    "    title=\"PCA 3D Visualization\"\n",
    ")\n",
    "fig.update_traces(marker=dict(opacity=0.5))  \n",
    "\n",
    "fig.show()"
   ]
  },
  {
   "cell_type": "markdown",
   "metadata": {},
   "source": [
    "# Running Neural Networks with only values high on the IV chart"
   ]
  },
  {
   "cell_type": "code",
   "execution_count": 65,
   "metadata": {},
   "outputs": [
    {
     "name": "stderr",
     "output_type": "stream",
     "text": [
      "d:\\Anaconda\\Lib\\site-packages\\keras\\src\\layers\\core\\dense.py:87: UserWarning:\n",
      "\n",
      "Do not pass an `input_shape`/`input_dim` argument to a layer. When using Sequential models, prefer using an `Input(shape)` object as the first layer in the model instead.\n",
      "\n"
     ]
    },
    {
     "data": {
      "text/html": [
       "<pre style=\"white-space:pre;overflow-x:auto;line-height:normal;font-family:Menlo,'DejaVu Sans Mono',consolas,'Courier New',monospace\"><span style=\"font-weight: bold\">Model: \"sequential\"</span>\n",
       "</pre>\n"
      ],
      "text/plain": [
       "\u001b[1mModel: \"sequential\"\u001b[0m\n"
      ]
     },
     "metadata": {},
     "output_type": "display_data"
    },
    {
     "data": {
      "text/html": [
       "<pre style=\"white-space:pre;overflow-x:auto;line-height:normal;font-family:Menlo,'DejaVu Sans Mono',consolas,'Courier New',monospace\">┏━━━━━━━━━━━━━━━━━━━━━━━━━━━━━━━━━┳━━━━━━━━━━━━━━━━━━━━━━━━┳━━━━━━━━━━━━━━━┓\n",
       "┃<span style=\"font-weight: bold\"> Layer (type)                    </span>┃<span style=\"font-weight: bold\"> Output Shape           </span>┃<span style=\"font-weight: bold\">       Param # </span>┃\n",
       "┡━━━━━━━━━━━━━━━━━━━━━━━━━━━━━━━━━╇━━━━━━━━━━━━━━━━━━━━━━━━╇━━━━━━━━━━━━━━━┩\n",
       "│ dense (<span style=\"color: #0087ff; text-decoration-color: #0087ff\">Dense</span>)                   │ (<span style=\"color: #00d7ff; text-decoration-color: #00d7ff\">None</span>, <span style=\"color: #00af00; text-decoration-color: #00af00\">80</span>)             │         <span style=\"color: #00af00; text-decoration-color: #00af00\">1,200</span> │\n",
       "├─────────────────────────────────┼────────────────────────┼───────────────┤\n",
       "│ dense_1 (<span style=\"color: #0087ff; text-decoration-color: #0087ff\">Dense</span>)                 │ (<span style=\"color: #00d7ff; text-decoration-color: #00d7ff\">None</span>, <span style=\"color: #00af00; text-decoration-color: #00af00\">30</span>)             │         <span style=\"color: #00af00; text-decoration-color: #00af00\">2,430</span> │\n",
       "├─────────────────────────────────┼────────────────────────┼───────────────┤\n",
       "│ dense_2 (<span style=\"color: #0087ff; text-decoration-color: #0087ff\">Dense</span>)                 │ (<span style=\"color: #00d7ff; text-decoration-color: #00d7ff\">None</span>, <span style=\"color: #00af00; text-decoration-color: #00af00\">10</span>)             │           <span style=\"color: #00af00; text-decoration-color: #00af00\">310</span> │\n",
       "├─────────────────────────────────┼────────────────────────┼───────────────┤\n",
       "│ dense_3 (<span style=\"color: #0087ff; text-decoration-color: #0087ff\">Dense</span>)                 │ (<span style=\"color: #00d7ff; text-decoration-color: #00d7ff\">None</span>, <span style=\"color: #00af00; text-decoration-color: #00af00\">1</span>)              │            <span style=\"color: #00af00; text-decoration-color: #00af00\">11</span> │\n",
       "└─────────────────────────────────┴────────────────────────┴───────────────┘\n",
       "</pre>\n"
      ],
      "text/plain": [
       "┏━━━━━━━━━━━━━━━━━━━━━━━━━━━━━━━━━┳━━━━━━━━━━━━━━━━━━━━━━━━┳━━━━━━━━━━━━━━━┓\n",
       "┃\u001b[1m \u001b[0m\u001b[1mLayer (type)                   \u001b[0m\u001b[1m \u001b[0m┃\u001b[1m \u001b[0m\u001b[1mOutput Shape          \u001b[0m\u001b[1m \u001b[0m┃\u001b[1m \u001b[0m\u001b[1m      Param #\u001b[0m\u001b[1m \u001b[0m┃\n",
       "┡━━━━━━━━━━━━━━━━━━━━━━━━━━━━━━━━━╇━━━━━━━━━━━━━━━━━━━━━━━━╇━━━━━━━━━━━━━━━┩\n",
       "│ dense (\u001b[38;5;33mDense\u001b[0m)                   │ (\u001b[38;5;45mNone\u001b[0m, \u001b[38;5;34m80\u001b[0m)             │         \u001b[38;5;34m1,200\u001b[0m │\n",
       "├─────────────────────────────────┼────────────────────────┼───────────────┤\n",
       "│ dense_1 (\u001b[38;5;33mDense\u001b[0m)                 │ (\u001b[38;5;45mNone\u001b[0m, \u001b[38;5;34m30\u001b[0m)             │         \u001b[38;5;34m2,430\u001b[0m │\n",
       "├─────────────────────────────────┼────────────────────────┼───────────────┤\n",
       "│ dense_2 (\u001b[38;5;33mDense\u001b[0m)                 │ (\u001b[38;5;45mNone\u001b[0m, \u001b[38;5;34m10\u001b[0m)             │           \u001b[38;5;34m310\u001b[0m │\n",
       "├─────────────────────────────────┼────────────────────────┼───────────────┤\n",
       "│ dense_3 (\u001b[38;5;33mDense\u001b[0m)                 │ (\u001b[38;5;45mNone\u001b[0m, \u001b[38;5;34m1\u001b[0m)              │            \u001b[38;5;34m11\u001b[0m │\n",
       "└─────────────────────────────────┴────────────────────────┴───────────────┘\n"
      ]
     },
     "metadata": {},
     "output_type": "display_data"
    },
    {
     "data": {
      "text/html": [
       "<pre style=\"white-space:pre;overflow-x:auto;line-height:normal;font-family:Menlo,'DejaVu Sans Mono',consolas,'Courier New',monospace\"><span style=\"font-weight: bold\"> Total params: </span><span style=\"color: #00af00; text-decoration-color: #00af00\">3,951</span> (15.43 KB)\n",
       "</pre>\n"
      ],
      "text/plain": [
       "\u001b[1m Total params: \u001b[0m\u001b[38;5;34m3,951\u001b[0m (15.43 KB)\n"
      ]
     },
     "metadata": {},
     "output_type": "display_data"
    },
    {
     "data": {
      "text/html": [
       "<pre style=\"white-space:pre;overflow-x:auto;line-height:normal;font-family:Menlo,'DejaVu Sans Mono',consolas,'Courier New',monospace\"><span style=\"font-weight: bold\"> Trainable params: </span><span style=\"color: #00af00; text-decoration-color: #00af00\">3,951</span> (15.43 KB)\n",
       "</pre>\n"
      ],
      "text/plain": [
       "\u001b[1m Trainable params: \u001b[0m\u001b[38;5;34m3,951\u001b[0m (15.43 KB)\n"
      ]
     },
     "metadata": {},
     "output_type": "display_data"
    },
    {
     "data": {
      "text/html": [
       "<pre style=\"white-space:pre;overflow-x:auto;line-height:normal;font-family:Menlo,'DejaVu Sans Mono',consolas,'Courier New',monospace\"><span style=\"font-weight: bold\"> Non-trainable params: </span><span style=\"color: #00af00; text-decoration-color: #00af00\">0</span> (0.00 B)\n",
       "</pre>\n"
      ],
      "text/plain": [
       "\u001b[1m Non-trainable params: \u001b[0m\u001b[38;5;34m0\u001b[0m (0.00 B)\n"
      ]
     },
     "metadata": {},
     "output_type": "display_data"
    },
    {
     "name": "stdout",
     "output_type": "stream",
     "text": [
      "Epoch 1/15\n",
      "\u001b[1m1569/1569\u001b[0m \u001b[32m━━━━━━━━━━━━━━━━━━━━\u001b[0m\u001b[37m\u001b[0m \u001b[1m3s\u001b[0m 822us/step - accuracy: 0.6100 - loss: 0.6558\n",
      "Epoch 2/15\n",
      "\u001b[1m1569/1569\u001b[0m \u001b[32m━━━━━━━━━━━━━━━━━━━━\u001b[0m\u001b[37m\u001b[0m \u001b[1m1s\u001b[0m 807us/step - accuracy: 0.6377 - loss: 0.6264\n",
      "Epoch 3/15\n",
      "\u001b[1m1569/1569\u001b[0m \u001b[32m━━━━━━━━━━━━━━━━━━━━\u001b[0m\u001b[37m\u001b[0m \u001b[1m1s\u001b[0m 775us/step - accuracy: 0.6461 - loss: 0.6184\n",
      "Epoch 4/15\n",
      "\u001b[1m1569/1569\u001b[0m \u001b[32m━━━━━━━━━━━━━━━━━━━━\u001b[0m\u001b[37m\u001b[0m \u001b[1m1s\u001b[0m 762us/step - accuracy: 0.6450 - loss: 0.6135\n",
      "Epoch 5/15\n",
      "\u001b[1m1569/1569\u001b[0m \u001b[32m━━━━━━━━━━━━━━━━━━━━\u001b[0m\u001b[37m\u001b[0m \u001b[1m1s\u001b[0m 786us/step - accuracy: 0.6486 - loss: 0.6087\n",
      "Epoch 6/15\n",
      "\u001b[1m1569/1569\u001b[0m \u001b[32m━━━━━━━━━━━━━━━━━━━━\u001b[0m\u001b[37m\u001b[0m \u001b[1m1s\u001b[0m 792us/step - accuracy: 0.6518 - loss: 0.6055\n",
      "Epoch 7/15\n",
      "\u001b[1m1569/1569\u001b[0m \u001b[32m━━━━━━━━━━━━━━━━━━━━\u001b[0m\u001b[37m\u001b[0m \u001b[1m1s\u001b[0m 812us/step - accuracy: 0.6482 - loss: 0.6078\n",
      "Epoch 8/15\n",
      "\u001b[1m1569/1569\u001b[0m \u001b[32m━━━━━━━━━━━━━━━━━━━━\u001b[0m\u001b[37m\u001b[0m \u001b[1m1s\u001b[0m 812us/step - accuracy: 0.6495 - loss: 0.6056\n",
      "Epoch 9/15\n",
      "\u001b[1m1569/1569\u001b[0m \u001b[32m━━━━━━━━━━━━━━━━━━━━\u001b[0m\u001b[37m\u001b[0m \u001b[1m1s\u001b[0m 829us/step - accuracy: 0.6515 - loss: 0.6069\n",
      "Epoch 10/15\n",
      "\u001b[1m1569/1569\u001b[0m \u001b[32m━━━━━━━━━━━━━━━━━━━━\u001b[0m\u001b[37m\u001b[0m \u001b[1m1s\u001b[0m 830us/step - accuracy: 0.6481 - loss: 0.6046\n",
      "Epoch 11/15\n",
      "\u001b[1m1569/1569\u001b[0m \u001b[32m━━━━━━━━━━━━━━━━━━━━\u001b[0m\u001b[37m\u001b[0m \u001b[1m1s\u001b[0m 800us/step - accuracy: 0.6451 - loss: 0.6068\n",
      "Epoch 12/15\n",
      "\u001b[1m1569/1569\u001b[0m \u001b[32m━━━━━━━━━━━━━━━━━━━━\u001b[0m\u001b[37m\u001b[0m \u001b[1m1s\u001b[0m 833us/step - accuracy: 0.6515 - loss: 0.6040\n",
      "Epoch 13/15\n",
      "\u001b[1m1569/1569\u001b[0m \u001b[32m━━━━━━━━━━━━━━━━━━━━\u001b[0m\u001b[37m\u001b[0m \u001b[1m1s\u001b[0m 821us/step - accuracy: 0.6493 - loss: 0.6045\n",
      "Epoch 14/15\n",
      "\u001b[1m1569/1569\u001b[0m \u001b[32m━━━━━━━━━━━━━━━━━━━━\u001b[0m\u001b[37m\u001b[0m \u001b[1m1s\u001b[0m 860us/step - accuracy: 0.6500 - loss: 0.6030\n",
      "Epoch 15/15\n",
      "\u001b[1m1569/1569\u001b[0m \u001b[32m━━━━━━━━━━━━━━━━━━━━\u001b[0m\u001b[37m\u001b[0m \u001b[1m1s\u001b[0m 815us/step - accuracy: 0.6512 - loss: 0.6029\n",
      "673/673 - 1s - 820us/step - accuracy: 0.6527 - loss: 0.6015\n",
      "Loss: 0.6014701128005981, Accuracy: 0.6527318954467773\n"
     ]
    }
   ],
   "source": [
    "# Manually specify the selected columns\n",
    "selected_columns = [\n",
    "    'GENDER',\n",
    "    'OWN REALTY',\n",
    "    'gp_Age_low',\n",
    "    'gp_Age_medium',\n",
    "    'gp_Age_high',\n",
    "    'gp_Age_highest',\n",
    "    'gp_worktm_high',\n",
    "    'gp_worktm_highest',\n",
    "    'gp_worktm_low',\n",
    "    'gp_worktm_medium',\n",
    "    'FAMILY STATUS_Civil marriage',\n",
    "    'FAMILY STATUS_Separated',\n",
    "    'FAMILY STATUS_Single / not married',\n",
    "    'FAMILY STATUS_Widow'\n",
    "]\n",
    "\n",
    "# we select the high iv columns\n",
    "Y = new_data['target']\n",
    "X = new_data[selected_columns]\n",
    "\n",
    "Y = Y.astype('int')\n",
    "X_balance,Y_balance = SMOTE().fit_resample(X,Y)\n",
    "X_balance = pd.DataFrame(X_balance, columns = X.columns)\n",
    "\n",
    "X_train, X_test, y_train, y_test = train_test_split(X_balance,Y_balance, \n",
    "                                                    stratify=Y_balance, test_size=0.3,\n",
    "                                                    random_state = 10086)\n",
    "\t\t\t\t\t\t\t\t\t\t\t\t\t\n",
    "# Create a StandardScaler instances\n",
    "scaler = StandardScaler()\n",
    "\n",
    "# Fit the StandardScaler\n",
    "X_scaler = scaler.fit(X_train)\n",
    "\n",
    "# Scale the data\n",
    "X_train_scaled = X_scaler.transform(X_train)\n",
    "X_test_scaled = X_scaler.transform(X_test)\n",
    "\n",
    "# Define the model - deep neural net, i.e., the number of input features and hidden nodes for each layer.\n",
    "number_input_features = X_train_scaled.shape[1]  # Correct the number of features\n",
    "hidden_nodes_layer1 = 80\n",
    "hidden_nodes_layer2 = 30\n",
    "hidden_nodes_layer3 = 10\n",
    "\n",
    "nn = tf.keras.models.Sequential()\n",
    "\n",
    "# First hidden layer\n",
    "nn.add(tf.keras.layers.Dense(units=hidden_nodes_layer1, input_dim=number_input_features, activation='relu'))\n",
    "\n",
    "# Second hidden layer\n",
    "nn.add(tf.keras.layers.Dense(units=hidden_nodes_layer2, activation='relu'))\n",
    "\n",
    "# Third hidden layer\n",
    "nn.add(tf.keras.layers.Dense(units=hidden_nodes_layer3, activation='sigmoid'))\n",
    "\n",
    "# Output layer\n",
    "nn.add(tf.keras.layers.Dense(units=1, activation='sigmoid'))\n",
    "\n",
    "# Check the structure of the model\n",
    "nn.summary()\n",
    "\n",
    "# Compile the model\n",
    "nn.compile(loss='binary_crossentropy', optimizer='adam', metrics=['accuracy'])\n",
    "\n",
    "# Train the model\n",
    "fit_model = nn.fit(X_train_scaled, y_train, epochs=15)\n",
    "\n",
    "# Evaluate the model using the test data\n",
    "model_loss, model_accuracy = nn.evaluate(X_test_scaled,y_test,verbose=2)\n",
    "print(f\"Loss: {model_loss}, Accuracy: {model_accuracy}\")"
   ]
  },
  {
   "cell_type": "code",
   "execution_count": 66,
   "metadata": {},
   "outputs": [
    {
     "name": "stdout",
     "output_type": "stream",
     "text": [
      "\u001b[1m673/673\u001b[0m \u001b[32m━━━━━━━━━━━━━━━━━━━━\u001b[0m\u001b[37m\u001b[0m \u001b[1m1s\u001b[0m 712us/step\n",
      "              precision    recall  f1-score   support\n",
      "\n",
      "           0       0.67      0.59      0.63     10753\n",
      "           1       0.64      0.71      0.67     10752\n",
      "\n",
      "    accuracy                           0.65     21505\n",
      "   macro avg       0.66      0.65      0.65     21505\n",
      "weighted avg       0.66      0.65      0.65     21505\n",
      "\n"
     ]
    }
   ],
   "source": [
    "# Predict probabilities\n",
    "y_pred_prob = nn.predict(X_test_scaled)\n",
    "\n",
    "# Convert probabilities to class predictions (e.g., threshold of 0.5)\n",
    "y_pred = (y_pred_prob > 0.5).astype(int)\n",
    "\n",
    "# Print the classification report\n",
    "print(classification_report(y_test, y_pred))"
   ]
  },
  {
   "cell_type": "markdown",
   "metadata": {},
   "source": [
    "Performance Interpretation for High-Risk vs. No-Risk\n",
    "Current Accuracy (65.31%):\n",
    "Suggests that ~35% of samples are misclassified, but it doesn't reveal if high-risk cases are disproportionately affected.\n",
    "If high-risk cases are a minority, the model may overfit to predicting the majority (no-risk), inflating accuracy but underperforming where it matters.\n",
    "Loss (0.6021):\n",
    "Indicates moderate uncertainty in predictions; may suggest overlap between high- and no-risk feature distributions."
   ]
  },
  {
   "cell_type": "markdown",
   "metadata": {},
   "source": [
    "# All columns except target and objects"
   ]
  },
  {
   "cell_type": "code",
   "execution_count": 67,
   "metadata": {},
   "outputs": [
    {
     "name": "stdout",
     "output_type": "stream",
     "text": [
      "Object columns in the DataFrame:\n",
      "['_id', 'HOUSING TYPE', 'WORK PHONE', 'PHONE', 'EMAIL', 'past_due']\n"
     ]
    }
   ],
   "source": [
    "# Select all columns with object data type\n",
    "object_columns = new_data.select_dtypes(include=['object']).columns\n",
    "\n",
    "# Print the list of object columns\n",
    "print(\"Object columns in the DataFrame:\")\n",
    "print(object_columns.tolist())"
   ]
  },
  {
   "cell_type": "code",
   "execution_count": 68,
   "metadata": {},
   "outputs": [
    {
     "name": "stdout",
     "output_type": "stream",
     "text": [
      "['ID', 'GENDER', 'OWN CAR', 'OWN REALTY', 'INCOME TOTAL', 'DAYS SINCE BIRTH', 'DAYS EMPLOYED', 'MOBIL', 'FAM MEMBERS', 'begin_month', 'CHILDREN_1', 'CHILDREN_2More', 'gp_inc_medium', 'gp_inc_high', 'gp_inc_NULL', 'Age', 'gp_Age_low', 'gp_Age_medium', 'gp_Age_high', 'gp_Age_highest', 'gp_Age_NULL', 'worktm', 'gp_worktm_high', 'gp_worktm_highest', 'gp_worktm_low', 'gp_worktm_medium', 'FAM MEMBERS GP_1', 'FAM MEMBERS GP_3more', 'INCOME TYPE_Commercial associate', 'INCOME TYPE_State servant', 'TYPE_Laborwk', 'TYPE_hightecwk', 'TYPE_officewk', 'EDUCATION TYPE_Higher education', 'EDUCATION TYPE_Incomplete higher', 'EDUCATION TYPE_Lower secondary', 'FAMILY STATUS_Civil marriage', 'FAMILY STATUS_Separated', 'FAMILY STATUS_Single / not married', 'FAMILY STATUS_Widow']\n"
     ]
    },
    {
     "name": "stderr",
     "output_type": "stream",
     "text": [
      "d:\\Anaconda\\Lib\\site-packages\\keras\\src\\layers\\core\\dense.py:87: UserWarning:\n",
      "\n",
      "Do not pass an `input_shape`/`input_dim` argument to a layer. When using Sequential models, prefer using an `Input(shape)` object as the first layer in the model instead.\n",
      "\n"
     ]
    },
    {
     "data": {
      "text/html": [
       "<pre style=\"white-space:pre;overflow-x:auto;line-height:normal;font-family:Menlo,'DejaVu Sans Mono',consolas,'Courier New',monospace\"><span style=\"font-weight: bold\">Model: \"sequential_1\"</span>\n",
       "</pre>\n"
      ],
      "text/plain": [
       "\u001b[1mModel: \"sequential_1\"\u001b[0m\n"
      ]
     },
     "metadata": {},
     "output_type": "display_data"
    },
    {
     "data": {
      "text/html": [
       "<pre style=\"white-space:pre;overflow-x:auto;line-height:normal;font-family:Menlo,'DejaVu Sans Mono',consolas,'Courier New',monospace\">┏━━━━━━━━━━━━━━━━━━━━━━━━━━━━━━━━━┳━━━━━━━━━━━━━━━━━━━━━━━━┳━━━━━━━━━━━━━━━┓\n",
       "┃<span style=\"font-weight: bold\"> Layer (type)                    </span>┃<span style=\"font-weight: bold\"> Output Shape           </span>┃<span style=\"font-weight: bold\">       Param # </span>┃\n",
       "┡━━━━━━━━━━━━━━━━━━━━━━━━━━━━━━━━━╇━━━━━━━━━━━━━━━━━━━━━━━━╇━━━━━━━━━━━━━━━┩\n",
       "│ dense_4 (<span style=\"color: #0087ff; text-decoration-color: #0087ff\">Dense</span>)                 │ (<span style=\"color: #00d7ff; text-decoration-color: #00d7ff\">None</span>, <span style=\"color: #00af00; text-decoration-color: #00af00\">80</span>)             │         <span style=\"color: #00af00; text-decoration-color: #00af00\">3,280</span> │\n",
       "├─────────────────────────────────┼────────────────────────┼───────────────┤\n",
       "│ dense_5 (<span style=\"color: #0087ff; text-decoration-color: #0087ff\">Dense</span>)                 │ (<span style=\"color: #00d7ff; text-decoration-color: #00d7ff\">None</span>, <span style=\"color: #00af00; text-decoration-color: #00af00\">30</span>)             │         <span style=\"color: #00af00; text-decoration-color: #00af00\">2,430</span> │\n",
       "├─────────────────────────────────┼────────────────────────┼───────────────┤\n",
       "│ dense_6 (<span style=\"color: #0087ff; text-decoration-color: #0087ff\">Dense</span>)                 │ (<span style=\"color: #00d7ff; text-decoration-color: #00d7ff\">None</span>, <span style=\"color: #00af00; text-decoration-color: #00af00\">10</span>)             │           <span style=\"color: #00af00; text-decoration-color: #00af00\">310</span> │\n",
       "├─────────────────────────────────┼────────────────────────┼───────────────┤\n",
       "│ dense_7 (<span style=\"color: #0087ff; text-decoration-color: #0087ff\">Dense</span>)                 │ (<span style=\"color: #00d7ff; text-decoration-color: #00d7ff\">None</span>, <span style=\"color: #00af00; text-decoration-color: #00af00\">1</span>)              │            <span style=\"color: #00af00; text-decoration-color: #00af00\">11</span> │\n",
       "└─────────────────────────────────┴────────────────────────┴───────────────┘\n",
       "</pre>\n"
      ],
      "text/plain": [
       "┏━━━━━━━━━━━━━━━━━━━━━━━━━━━━━━━━━┳━━━━━━━━━━━━━━━━━━━━━━━━┳━━━━━━━━━━━━━━━┓\n",
       "┃\u001b[1m \u001b[0m\u001b[1mLayer (type)                   \u001b[0m\u001b[1m \u001b[0m┃\u001b[1m \u001b[0m\u001b[1mOutput Shape          \u001b[0m\u001b[1m \u001b[0m┃\u001b[1m \u001b[0m\u001b[1m      Param #\u001b[0m\u001b[1m \u001b[0m┃\n",
       "┡━━━━━━━━━━━━━━━━━━━━━━━━━━━━━━━━━╇━━━━━━━━━━━━━━━━━━━━━━━━╇━━━━━━━━━━━━━━━┩\n",
       "│ dense_4 (\u001b[38;5;33mDense\u001b[0m)                 │ (\u001b[38;5;45mNone\u001b[0m, \u001b[38;5;34m80\u001b[0m)             │         \u001b[38;5;34m3,280\u001b[0m │\n",
       "├─────────────────────────────────┼────────────────────────┼───────────────┤\n",
       "│ dense_5 (\u001b[38;5;33mDense\u001b[0m)                 │ (\u001b[38;5;45mNone\u001b[0m, \u001b[38;5;34m30\u001b[0m)             │         \u001b[38;5;34m2,430\u001b[0m │\n",
       "├─────────────────────────────────┼────────────────────────┼───────────────┤\n",
       "│ dense_6 (\u001b[38;5;33mDense\u001b[0m)                 │ (\u001b[38;5;45mNone\u001b[0m, \u001b[38;5;34m10\u001b[0m)             │           \u001b[38;5;34m310\u001b[0m │\n",
       "├─────────────────────────────────┼────────────────────────┼───────────────┤\n",
       "│ dense_7 (\u001b[38;5;33mDense\u001b[0m)                 │ (\u001b[38;5;45mNone\u001b[0m, \u001b[38;5;34m1\u001b[0m)              │            \u001b[38;5;34m11\u001b[0m │\n",
       "└─────────────────────────────────┴────────────────────────┴───────────────┘\n"
      ]
     },
     "metadata": {},
     "output_type": "display_data"
    },
    {
     "data": {
      "text/html": [
       "<pre style=\"white-space:pre;overflow-x:auto;line-height:normal;font-family:Menlo,'DejaVu Sans Mono',consolas,'Courier New',monospace\"><span style=\"font-weight: bold\"> Total params: </span><span style=\"color: #00af00; text-decoration-color: #00af00\">6,031</span> (23.56 KB)\n",
       "</pre>\n"
      ],
      "text/plain": [
       "\u001b[1m Total params: \u001b[0m\u001b[38;5;34m6,031\u001b[0m (23.56 KB)\n"
      ]
     },
     "metadata": {},
     "output_type": "display_data"
    },
    {
     "data": {
      "text/html": [
       "<pre style=\"white-space:pre;overflow-x:auto;line-height:normal;font-family:Menlo,'DejaVu Sans Mono',consolas,'Courier New',monospace\"><span style=\"font-weight: bold\"> Trainable params: </span><span style=\"color: #00af00; text-decoration-color: #00af00\">6,031</span> (23.56 KB)\n",
       "</pre>\n"
      ],
      "text/plain": [
       "\u001b[1m Trainable params: \u001b[0m\u001b[38;5;34m6,031\u001b[0m (23.56 KB)\n"
      ]
     },
     "metadata": {},
     "output_type": "display_data"
    },
    {
     "data": {
      "text/html": [
       "<pre style=\"white-space:pre;overflow-x:auto;line-height:normal;font-family:Menlo,'DejaVu Sans Mono',consolas,'Courier New',monospace\"><span style=\"font-weight: bold\"> Non-trainable params: </span><span style=\"color: #00af00; text-decoration-color: #00af00\">0</span> (0.00 B)\n",
       "</pre>\n"
      ],
      "text/plain": [
       "\u001b[1m Non-trainable params: \u001b[0m\u001b[38;5;34m0\u001b[0m (0.00 B)\n"
      ]
     },
     "metadata": {},
     "output_type": "display_data"
    },
    {
     "name": "stdout",
     "output_type": "stream",
     "text": [
      "Epoch 1/15\n",
      "\u001b[1m1569/1569\u001b[0m \u001b[32m━━━━━━━━━━━━━━━━━━━━\u001b[0m\u001b[37m\u001b[0m \u001b[1m3s\u001b[0m 817us/step - accuracy: 0.8170 - loss: 0.4219\n",
      "Epoch 2/15\n",
      "\u001b[1m1569/1569\u001b[0m \u001b[32m━━━━━━━━━━━━━━━━━━━━\u001b[0m\u001b[37m\u001b[0m \u001b[1m1s\u001b[0m 872us/step - accuracy: 0.9357 - loss: 0.1764\n",
      "Epoch 3/15\n",
      "\u001b[1m1569/1569\u001b[0m \u001b[32m━━━━━━━━━━━━━━━━━━━━\u001b[0m\u001b[37m\u001b[0m \u001b[1m1s\u001b[0m 799us/step - accuracy: 0.9539 - loss: 0.1273\n",
      "Epoch 4/15\n",
      "\u001b[1m1569/1569\u001b[0m \u001b[32m━━━━━━━━━━━━━━━━━━━━\u001b[0m\u001b[37m\u001b[0m \u001b[1m1s\u001b[0m 840us/step - accuracy: 0.9622 - loss: 0.1057\n",
      "Epoch 5/15\n",
      "\u001b[1m1569/1569\u001b[0m \u001b[32m━━━━━━━━━━━━━━━━━━━━\u001b[0m\u001b[37m\u001b[0m \u001b[1m1s\u001b[0m 814us/step - accuracy: 0.9680 - loss: 0.0945\n",
      "Epoch 6/15\n",
      "\u001b[1m1569/1569\u001b[0m \u001b[32m━━━━━━━━━━━━━━━━━━━━\u001b[0m\u001b[37m\u001b[0m \u001b[1m1s\u001b[0m 863us/step - accuracy: 0.9700 - loss: 0.0871\n",
      "Epoch 7/15\n",
      "\u001b[1m1569/1569\u001b[0m \u001b[32m━━━━━━━━━━━━━━━━━━━━\u001b[0m\u001b[37m\u001b[0m \u001b[1m1s\u001b[0m 874us/step - accuracy: 0.9718 - loss: 0.0841\n",
      "Epoch 8/15\n",
      "\u001b[1m1569/1569\u001b[0m \u001b[32m━━━━━━━━━━━━━━━━━━━━\u001b[0m\u001b[37m\u001b[0m \u001b[1m1s\u001b[0m 832us/step - accuracy: 0.9737 - loss: 0.0769\n",
      "Epoch 9/15\n",
      "\u001b[1m1569/1569\u001b[0m \u001b[32m━━━━━━━━━━━━━━━━━━━━\u001b[0m\u001b[37m\u001b[0m \u001b[1m1s\u001b[0m 854us/step - accuracy: 0.9741 - loss: 0.0758\n",
      "Epoch 10/15\n",
      "\u001b[1m1569/1569\u001b[0m \u001b[32m━━━━━━━━━━━━━━━━━━━━\u001b[0m\u001b[37m\u001b[0m \u001b[1m1s\u001b[0m 844us/step - accuracy: 0.9753 - loss: 0.0724\n",
      "Epoch 11/15\n",
      "\u001b[1m1569/1569\u001b[0m \u001b[32m━━━━━━━━━━━━━━━━━━━━\u001b[0m\u001b[37m\u001b[0m \u001b[1m1s\u001b[0m 855us/step - accuracy: 0.9777 - loss: 0.0695\n",
      "Epoch 12/15\n",
      "\u001b[1m1569/1569\u001b[0m \u001b[32m━━━━━━━━━━━━━━━━━━━━\u001b[0m\u001b[37m\u001b[0m \u001b[1m1s\u001b[0m 787us/step - accuracy: 0.9790 - loss: 0.0669\n",
      "Epoch 13/15\n",
      "\u001b[1m1569/1569\u001b[0m \u001b[32m━━━━━━━━━━━━━━━━━━━━\u001b[0m\u001b[37m\u001b[0m \u001b[1m1s\u001b[0m 792us/step - accuracy: 0.9789 - loss: 0.0638\n",
      "Epoch 14/15\n",
      "\u001b[1m1569/1569\u001b[0m \u001b[32m━━━━━━━━━━━━━━━━━━━━\u001b[0m\u001b[37m\u001b[0m \u001b[1m1s\u001b[0m 814us/step - accuracy: 0.9808 - loss: 0.0620\n",
      "Epoch 15/15\n",
      "\u001b[1m1569/1569\u001b[0m \u001b[32m━━━━━━━━━━━━━━━━━━━━\u001b[0m\u001b[37m\u001b[0m \u001b[1m1s\u001b[0m 807us/step - accuracy: 0.9812 - loss: 0.0594\n",
      "673/673 - 1s - 746us/step - accuracy: 0.9780 - loss: 0.0734\n",
      "Loss: 0.07338987290859222, Accuracy: 0.977958619594574\n"
     ]
    }
   ],
   "source": [
    "# Select all columns excluding object data types and the 'target' column\n",
    "selected_columns = new_data.select_dtypes(exclude=['object']).drop(columns=['target']).columns.tolist()\n",
    "\n",
    "# View the resulting list of columns\n",
    "print(selected_columns)\n",
    "\n",
    "# we select the high iv columns\n",
    "Y = new_data['target']\n",
    "X = new_data[selected_columns]\n",
    "\n",
    "Y = Y.astype('int')\n",
    "X_balance,Y_balance = SMOTE().fit_resample(X,Y)\n",
    "X_balance = pd.DataFrame(X_balance, columns = X.columns)\n",
    "\n",
    "X_train, X_test, y_train, y_test = train_test_split(X_balance,Y_balance, \n",
    "                                                    stratify=Y_balance, test_size=0.3,\n",
    "                                                    random_state = 10086)\n",
    "\n",
    "# Create a StandardScaler instances\n",
    "scaler = StandardScaler()\n",
    "\n",
    "# Fit the StandardScaler\n",
    "X_scaler = scaler.fit(X_train)\n",
    "\n",
    "# Scale the data\n",
    "X_train_scaled = X_scaler.transform(X_train)\n",
    "X_test_scaled = X_scaler.transform(X_test)\n",
    "\n",
    "# Define the model - deep neural net, i.e., the number of input features and hidden nodes for each layer.\n",
    "number_input_features = X_train_scaled.shape[1]  # Correct the number of features\n",
    "hidden_nodes_layer1 = 80\n",
    "hidden_nodes_layer2 = 30\n",
    "hidden_nodes_layer3 = 10\n",
    "\n",
    "nn = tf.keras.models.Sequential()\n",
    "\n",
    "# First hidden layer\n",
    "nn.add(tf.keras.layers.Dense(units=hidden_nodes_layer1, input_dim=number_input_features, activation='relu'))\n",
    "\n",
    "# Second hidden layer\n",
    "nn.add(tf.keras.layers.Dense(units=hidden_nodes_layer2, activation='relu'))\n",
    "\n",
    "# Third hidden layer\n",
    "nn.add(tf.keras.layers.Dense(units=hidden_nodes_layer3, activation='sigmoid'))\n",
    "\n",
    "# Output layer\n",
    "nn.add(tf.keras.layers.Dense(units=1, activation='sigmoid'))\n",
    "\n",
    "# Check the structure of the model\n",
    "nn.summary()\n",
    "\n",
    "# Compile the model\n",
    "nn.compile(loss='binary_crossentropy', optimizer='adam', metrics=['accuracy'])\n",
    "\n",
    "# Train the model\n",
    "fit_model = nn.fit(X_train_scaled, y_train, epochs=15)\n",
    "\n",
    "# Evaluate the model using the test data\n",
    "model_loss, model_accuracy = nn.evaluate(X_test_scaled,y_test,verbose=2)\n",
    "print(f\"Loss: {model_loss}, Accuracy: {model_accuracy}\")"
   ]
  },
  {
   "cell_type": "code",
   "execution_count": 69,
   "metadata": {},
   "outputs": [
    {
     "name": "stdout",
     "output_type": "stream",
     "text": [
      "\u001b[1m673/673\u001b[0m \u001b[32m━━━━━━━━━━━━━━━━━━━━\u001b[0m\u001b[37m\u001b[0m \u001b[1m1s\u001b[0m 671us/step\n",
      "              precision    recall  f1-score   support\n",
      "\n",
      "           0       0.97      0.98      0.98     10753\n",
      "           1       0.98      0.97      0.98     10752\n",
      "\n",
      "    accuracy                           0.98     21505\n",
      "   macro avg       0.98      0.98      0.98     21505\n",
      "weighted avg       0.98      0.98      0.98     21505\n",
      "\n"
     ]
    }
   ],
   "source": [
    "# Predict probabilities\n",
    "y_pred_prob = nn.predict(X_test_scaled)\n",
    "\n",
    "# Convert probabilities to class predictions (e.g., threshold of 0.5)\n",
    "y_pred = (y_pred_prob > 0.5).astype(int)\n",
    "\n",
    "# Print the classification report\n",
    "print(classification_report(y_test, y_pred))"
   ]
  },
  {
   "cell_type": "markdown",
   "metadata": {},
   "source": [
    "Why Such a Large Improvement?\n",
    "The improvement can be attributed to the inclusion of more features, providing the model with richer information to make decisions:\n",
    "\n",
    "Feature Completeness:\n",
    "By excluding only object columns and the target, the model now has access to more relevant numerical and categorical data (potentially after encoding), which contributes to its ability to capture patterns in the data.\n",
    "Complex Relationships:\n",
    "More features allow the model to learn complex interactions between variables that were missing when only 5 high-IV features were used.\n",
    "Diminished Feature Selection Bias:\n",
    "Relying only on high-IV features may exclude some important interactions or complementary features. Including all numeric columns mitigates this bias.\n",
    "\n",
    "Accuracy: 97.72%\n",
    "What is it?\n",
    "Accuracy measures the proportion of correct predictions (both high-risk and no-risk) relative to the total predictions.\n",
    "Interpretation:\n",
    "An accuracy of 97.72% indicates that the model predicts the correct class for most of the samples.\n",
    "This is a substantial improvement over the previous accuracy of 65.31%, highlighting that the additional features provide more comprehensive information for the model to learn from."
   ]
  },
  {
   "cell_type": "markdown",
   "metadata": {},
   "source": []
  }
 ],
 "metadata": {
  "kernelspec": {
   "display_name": "base",
   "language": "python",
   "name": "python3"
  },
  "language_info": {
   "codemirror_mode": {
    "name": "ipython",
    "version": 3
   },
   "file_extension": ".py",
   "mimetype": "text/x-python",
   "name": "python",
   "nbconvert_exporter": "python",
   "pygments_lexer": "ipython3",
   "version": "3.12.5"
  }
 },
 "nbformat": 4,
 "nbformat_minor": 2
}
