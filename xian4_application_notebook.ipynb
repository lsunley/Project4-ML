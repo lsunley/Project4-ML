{
 "cells": [
  {
   "cell_type": "code",
   "execution_count": 11,
   "metadata": {},
   "outputs": [],
   "source": [
    "# Import our dependencies\n",
    "from pymongo import MongoClient\n",
    "from pprint import pprint\n",
    "from tabulate import tabulate\n",
    "from sklearn.neighbors import KNeighborsClassifier\n",
    "from sklearn.metrics import classification_report\n",
    "from sklearn.model_selection import train_test_split\n",
    "from sklearn.preprocessing import StandardScaler\n",
    "import pandas as pd\n",
    "import tensorflow as tf\n",
    "import pandas as pd\n",
    "import matplotlib.pyplot as plt\n",
    "import numpy as np\n",
    "from imblearn.over_sampling import SMOTE"
   ]
  },
  {
   "cell_type": "code",
   "execution_count": 12,
   "metadata": {},
   "outputs": [],
   "source": [
    "# Connect to MongoDB Atlas\n",
    "client = MongoClient(\"mongodb://localhost:27017/\")\n",
    "\n",
    "# Access the 'remote' database\n",
    "db = client['remote']\n",
    "\n",
    "# Fetch data from the 'record_df_df_dfs' collection\n",
    "data_cursor = db['records'].find()\n",
    "data_list = list(data_cursor)\n",
    "data_df = pd.DataFrame(data_list)  # Convert to DataFrame\n",
    "\n",
    "# Fetch data from the 'credit' collection\n",
    "record_cursor = db['credit'].find()\n",
    "record_list = list(record_cursor)\n",
    "record_df = pd.DataFrame(record_list)  # Convert to DataFrame\n"
   ]
  },
  {
   "cell_type": "code",
   "execution_count": 13,
   "metadata": {},
   "outputs": [
    {
     "data": {
      "text/html": [
       "<div>\n",
       "<style scoped>\n",
       "    .dataframe tbody tr th:only-of-type {\n",
       "        vertical-align: middle;\n",
       "    }\n",
       "\n",
       "    .dataframe tbody tr th {\n",
       "        vertical-align: top;\n",
       "    }\n",
       "\n",
       "    .dataframe thead th {\n",
       "        text-align: right;\n",
       "    }\n",
       "</style>\n",
       "<table border=\"1\" class=\"dataframe\">\n",
       "  <thead>\n",
       "    <tr style=\"text-align: right;\">\n",
       "      <th></th>\n",
       "      <th>_id</th>\n",
       "      <th>ID</th>\n",
       "      <th>CODE_GENDER</th>\n",
       "      <th>FLAG_OWN_CAR</th>\n",
       "      <th>FLAG_OWN_REALTY</th>\n",
       "      <th>CNT_CHILDREN</th>\n",
       "      <th>AMT_INCOME_TOTAL</th>\n",
       "      <th>NAME_INCOME_TYPE</th>\n",
       "      <th>NAME_EDUCATION_TYPE</th>\n",
       "      <th>NAME_FAMILY_STATUS</th>\n",
       "      <th>NAME_HOUSING_TYPE</th>\n",
       "      <th>DAYS_BIRTH</th>\n",
       "      <th>DAYS_EMPLOYED</th>\n",
       "      <th>FLAG_MOBIL</th>\n",
       "      <th>FLAG_WORK_PHONE</th>\n",
       "      <th>FLAG_PHONE</th>\n",
       "      <th>FLAG_EMAIL</th>\n",
       "      <th>CNT_FAM_MEMBERS</th>\n",
       "      <th>OCCUPATION_TYPE</th>\n",
       "    </tr>\n",
       "  </thead>\n",
       "  <tbody>\n",
       "    <tr>\n",
       "      <th>0</th>\n",
       "      <td>675f8698c31b872d695d0afe</td>\n",
       "      <td>5008804</td>\n",
       "      <td>M</td>\n",
       "      <td>Y</td>\n",
       "      <td>Y</td>\n",
       "      <td>0</td>\n",
       "      <td>427500.0</td>\n",
       "      <td>Working</td>\n",
       "      <td>Higher education</td>\n",
       "      <td>Civil marriage</td>\n",
       "      <td>Rented apartment</td>\n",
       "      <td>-12005</td>\n",
       "      <td>-4542</td>\n",
       "      <td>1</td>\n",
       "      <td>1</td>\n",
       "      <td>0</td>\n",
       "      <td>0</td>\n",
       "      <td>2.0</td>\n",
       "      <td>NaN</td>\n",
       "    </tr>\n",
       "    <tr>\n",
       "      <th>1</th>\n",
       "      <td>675f8698c31b872d695d0aff</td>\n",
       "      <td>5008805</td>\n",
       "      <td>M</td>\n",
       "      <td>Y</td>\n",
       "      <td>Y</td>\n",
       "      <td>0</td>\n",
       "      <td>427500.0</td>\n",
       "      <td>Working</td>\n",
       "      <td>Higher education</td>\n",
       "      <td>Civil marriage</td>\n",
       "      <td>Rented apartment</td>\n",
       "      <td>-12005</td>\n",
       "      <td>-4542</td>\n",
       "      <td>1</td>\n",
       "      <td>1</td>\n",
       "      <td>0</td>\n",
       "      <td>0</td>\n",
       "      <td>2.0</td>\n",
       "      <td>NaN</td>\n",
       "    </tr>\n",
       "    <tr>\n",
       "      <th>2</th>\n",
       "      <td>675f8698c31b872d695d0b00</td>\n",
       "      <td>5008806</td>\n",
       "      <td>M</td>\n",
       "      <td>Y</td>\n",
       "      <td>Y</td>\n",
       "      <td>0</td>\n",
       "      <td>112500.0</td>\n",
       "      <td>Working</td>\n",
       "      <td>Secondary / secondary special</td>\n",
       "      <td>Married</td>\n",
       "      <td>House / apartment</td>\n",
       "      <td>-21474</td>\n",
       "      <td>-1134</td>\n",
       "      <td>1</td>\n",
       "      <td>0</td>\n",
       "      <td>0</td>\n",
       "      <td>0</td>\n",
       "      <td>2.0</td>\n",
       "      <td>Security staff</td>\n",
       "    </tr>\n",
       "    <tr>\n",
       "      <th>3</th>\n",
       "      <td>675f8698c31b872d695d0b01</td>\n",
       "      <td>5008808</td>\n",
       "      <td>F</td>\n",
       "      <td>N</td>\n",
       "      <td>Y</td>\n",
       "      <td>0</td>\n",
       "      <td>270000.0</td>\n",
       "      <td>Commercial associate</td>\n",
       "      <td>Secondary / secondary special</td>\n",
       "      <td>Single / not married</td>\n",
       "      <td>House / apartment</td>\n",
       "      <td>-19110</td>\n",
       "      <td>-3051</td>\n",
       "      <td>1</td>\n",
       "      <td>0</td>\n",
       "      <td>1</td>\n",
       "      <td>1</td>\n",
       "      <td>1.0</td>\n",
       "      <td>Sales staff</td>\n",
       "    </tr>\n",
       "    <tr>\n",
       "      <th>4</th>\n",
       "      <td>675f8698c31b872d695d0b02</td>\n",
       "      <td>5008809</td>\n",
       "      <td>F</td>\n",
       "      <td>N</td>\n",
       "      <td>Y</td>\n",
       "      <td>0</td>\n",
       "      <td>270000.0</td>\n",
       "      <td>Commercial associate</td>\n",
       "      <td>Secondary / secondary special</td>\n",
       "      <td>Single / not married</td>\n",
       "      <td>House / apartment</td>\n",
       "      <td>-19110</td>\n",
       "      <td>-3051</td>\n",
       "      <td>1</td>\n",
       "      <td>0</td>\n",
       "      <td>1</td>\n",
       "      <td>1</td>\n",
       "      <td>1.0</td>\n",
       "      <td>Sales staff</td>\n",
       "    </tr>\n",
       "  </tbody>\n",
       "</table>\n",
       "</div>"
      ],
      "text/plain": [
       "                        _id       ID CODE_GENDER FLAG_OWN_CAR FLAG_OWN_REALTY  \\\n",
       "0  675f8698c31b872d695d0afe  5008804           M            Y               Y   \n",
       "1  675f8698c31b872d695d0aff  5008805           M            Y               Y   \n",
       "2  675f8698c31b872d695d0b00  5008806           M            Y               Y   \n",
       "3  675f8698c31b872d695d0b01  5008808           F            N               Y   \n",
       "4  675f8698c31b872d695d0b02  5008809           F            N               Y   \n",
       "\n",
       "   CNT_CHILDREN  AMT_INCOME_TOTAL      NAME_INCOME_TYPE  \\\n",
       "0             0          427500.0               Working   \n",
       "1             0          427500.0               Working   \n",
       "2             0          112500.0               Working   \n",
       "3             0          270000.0  Commercial associate   \n",
       "4             0          270000.0  Commercial associate   \n",
       "\n",
       "             NAME_EDUCATION_TYPE    NAME_FAMILY_STATUS  NAME_HOUSING_TYPE  \\\n",
       "0               Higher education        Civil marriage   Rented apartment   \n",
       "1               Higher education        Civil marriage   Rented apartment   \n",
       "2  Secondary / secondary special               Married  House / apartment   \n",
       "3  Secondary / secondary special  Single / not married  House / apartment   \n",
       "4  Secondary / secondary special  Single / not married  House / apartment   \n",
       "\n",
       "   DAYS_BIRTH  DAYS_EMPLOYED  FLAG_MOBIL  FLAG_WORK_PHONE  FLAG_PHONE  \\\n",
       "0      -12005          -4542           1                1           0   \n",
       "1      -12005          -4542           1                1           0   \n",
       "2      -21474          -1134           1                0           0   \n",
       "3      -19110          -3051           1                0           1   \n",
       "4      -19110          -3051           1                0           1   \n",
       "\n",
       "   FLAG_EMAIL  CNT_FAM_MEMBERS OCCUPATION_TYPE  \n",
       "0           0              2.0             NaN  \n",
       "1           0              2.0             NaN  \n",
       "2           0              2.0  Security staff  \n",
       "3           1              1.0     Sales staff  \n",
       "4           1              1.0     Sales staff  "
      ]
     },
     "execution_count": 13,
     "metadata": {},
     "output_type": "execute_result"
    }
   ],
   "source": [
    "data_df.head()"
   ]
  },
  {
   "cell_type": "code",
   "execution_count": 14,
   "metadata": {},
   "outputs": [
    {
     "data": {
      "text/html": [
       "<div>\n",
       "<style scoped>\n",
       "    .dataframe tbody tr th:only-of-type {\n",
       "        vertical-align: middle;\n",
       "    }\n",
       "\n",
       "    .dataframe tbody tr th {\n",
       "        vertical-align: top;\n",
       "    }\n",
       "\n",
       "    .dataframe thead th {\n",
       "        text-align: right;\n",
       "    }\n",
       "</style>\n",
       "<table border=\"1\" class=\"dataframe\">\n",
       "  <thead>\n",
       "    <tr style=\"text-align: right;\">\n",
       "      <th></th>\n",
       "      <th>_id</th>\n",
       "      <th>ID</th>\n",
       "      <th>MONTHS_BALANCE</th>\n",
       "      <th>STATUS</th>\n",
       "    </tr>\n",
       "  </thead>\n",
       "  <tbody>\n",
       "    <tr>\n",
       "      <th>0</th>\n",
       "      <td>675f86dbc31b872d6963bc21</td>\n",
       "      <td>5001711</td>\n",
       "      <td>0</td>\n",
       "      <td>X</td>\n",
       "    </tr>\n",
       "    <tr>\n",
       "      <th>1</th>\n",
       "      <td>675f86dbc31b872d6963bc22</td>\n",
       "      <td>5001711</td>\n",
       "      <td>-1</td>\n",
       "      <td>0</td>\n",
       "    </tr>\n",
       "    <tr>\n",
       "      <th>2</th>\n",
       "      <td>675f86dbc31b872d6963bc23</td>\n",
       "      <td>5001711</td>\n",
       "      <td>-2</td>\n",
       "      <td>0</td>\n",
       "    </tr>\n",
       "    <tr>\n",
       "      <th>3</th>\n",
       "      <td>675f86dbc31b872d6963bc24</td>\n",
       "      <td>5001711</td>\n",
       "      <td>-3</td>\n",
       "      <td>0</td>\n",
       "    </tr>\n",
       "    <tr>\n",
       "      <th>4</th>\n",
       "      <td>675f86dbc31b872d6963bc25</td>\n",
       "      <td>5001712</td>\n",
       "      <td>0</td>\n",
       "      <td>C</td>\n",
       "    </tr>\n",
       "  </tbody>\n",
       "</table>\n",
       "</div>"
      ],
      "text/plain": [
       "                        _id       ID  MONTHS_BALANCE STATUS\n",
       "0  675f86dbc31b872d6963bc21  5001711               0      X\n",
       "1  675f86dbc31b872d6963bc22  5001711              -1      0\n",
       "2  675f86dbc31b872d6963bc23  5001711              -2      0\n",
       "3  675f86dbc31b872d6963bc24  5001711              -3      0\n",
       "4  675f86dbc31b872d6963bc25  5001712               0      C"
      ]
     },
     "execution_count": 14,
     "metadata": {},
     "output_type": "execute_result"
    }
   ],
   "source": [
    "record_df.head()"
   ]
  },
  {
   "cell_type": "code",
   "execution_count": 15,
   "metadata": {},
   "outputs": [
    {
     "name": "stdout",
     "output_type": "stream",
     "text": [
      "                        _id       ID CODE_GENDER FLAG_OWN_CAR FLAG_OWN_REALTY  \\\n",
      "0  675f8698c31b872d695d0afe  5008804           M            Y               Y   \n",
      "1  675f8698c31b872d695d0aff  5008805           M            Y               Y   \n",
      "2  675f8698c31b872d695d0b00  5008806           M            Y               Y   \n",
      "3  675f8698c31b872d695d0b01  5008808           F            N               Y   \n",
      "4  675f8698c31b872d695d0b02  5008809           F            N               Y   \n",
      "\n",
      "   CNT_CHILDREN  AMT_INCOME_TOTAL      NAME_INCOME_TYPE  \\\n",
      "0             0          427500.0               Working   \n",
      "1             0          427500.0               Working   \n",
      "2             0          112500.0               Working   \n",
      "3             0          270000.0  Commercial associate   \n",
      "4             0          270000.0  Commercial associate   \n",
      "\n",
      "             NAME_EDUCATION_TYPE    NAME_FAMILY_STATUS  NAME_HOUSING_TYPE  \\\n",
      "0               Higher education        Civil marriage   Rented apartment   \n",
      "1               Higher education        Civil marriage   Rented apartment   \n",
      "2  Secondary / secondary special               Married  House / apartment   \n",
      "3  Secondary / secondary special  Single / not married  House / apartment   \n",
      "4  Secondary / secondary special  Single / not married  House / apartment   \n",
      "\n",
      "   DAYS_BIRTH  DAYS_EMPLOYED  FLAG_MOBIL  FLAG_WORK_PHONE  FLAG_PHONE  \\\n",
      "0      -12005          -4542           1                1           0   \n",
      "1      -12005          -4542           1                1           0   \n",
      "2      -21474          -1134           1                0           0   \n",
      "3      -19110          -3051           1                0           1   \n",
      "4      -19110          -3051           1                0           1   \n",
      "\n",
      "   FLAG_EMAIL  CNT_FAM_MEMBERS OCCUPATION_TYPE  begin_month  \n",
      "0           0              2.0             NaN        -15.0  \n",
      "1           0              2.0             NaN        -14.0  \n",
      "2           0              2.0  Security staff        -29.0  \n",
      "3           1              1.0     Sales staff         -4.0  \n",
      "4           1              1.0     Sales staff        -26.0  \n"
     ]
    },
    {
     "name": "stderr",
     "output_type": "stream",
     "text": [
      "C:\\Users\\Administrator\\AppData\\Local\\Temp\\ipykernel_5500\\2429288361.py:2: FutureWarning: The provided callable <built-in function min> is currently using SeriesGroupBy.min. In a future version of pandas, the provided callable will be used directly. To keep current behavior pass the string \"min\" instead.\n",
      "  begin_month = record_df.groupby(\"ID\")[\"MONTHS_BALANCE\"].agg(min).reset_index()\n"
     ]
    }
   ],
   "source": [
    "# Group and process the 'credit' collection DataFrame\n",
    "begin_month = record_df.groupby(\"ID\")[\"MONTHS_BALANCE\"].agg(min).reset_index()\n",
    "begin_month = begin_month.rename(columns={'MONTHS_BALANCE': 'begin_month'})\n",
    "\n",
    "# Merge the DataFrames on the 'ID' column\n",
    "merged_df = pd.merge(data_df, begin_month, how=\"left\", on=\"ID\")\n",
    "merged_df = pd.DataFrame(merged_df)\n",
    "\n",
    "# Show the first few rows of the merged DataFrame\n",
    "print(merged_df.head())"
   ]
  },
  {
   "cell_type": "code",
   "execution_count": 16,
   "metadata": {},
   "outputs": [
    {
     "name": "stdout",
     "output_type": "stream",
     "text": [
      "<class 'pandas.core.frame.DataFrame'>\n",
      "RangeIndex: 438557 entries, 0 to 438556\n",
      "Data columns (total 20 columns):\n",
      " #   Column               Non-Null Count   Dtype  \n",
      "---  ------               --------------   -----  \n",
      " 0   _id                  438557 non-null  object \n",
      " 1   ID                   438557 non-null  int64  \n",
      " 2   CODE_GENDER          438557 non-null  object \n",
      " 3   FLAG_OWN_CAR         438557 non-null  object \n",
      " 4   FLAG_OWN_REALTY      438557 non-null  object \n",
      " 5   CNT_CHILDREN         438557 non-null  int64  \n",
      " 6   AMT_INCOME_TOTAL     438557 non-null  float64\n",
      " 7   NAME_INCOME_TYPE     438557 non-null  object \n",
      " 8   NAME_EDUCATION_TYPE  438557 non-null  object \n",
      " 9   NAME_FAMILY_STATUS   438557 non-null  object \n",
      " 10  NAME_HOUSING_TYPE    438557 non-null  object \n",
      " 11  DAYS_BIRTH           438557 non-null  int64  \n",
      " 12  DAYS_EMPLOYED        438557 non-null  int64  \n",
      " 13  FLAG_MOBIL           438557 non-null  int64  \n",
      " 14  FLAG_WORK_PHONE      438557 non-null  int64  \n",
      " 15  FLAG_PHONE           438557 non-null  int64  \n",
      " 16  FLAG_EMAIL           438557 non-null  int64  \n",
      " 17  CNT_FAM_MEMBERS      438557 non-null  float64\n",
      " 18  OCCUPATION_TYPE      304354 non-null  object \n",
      " 19  begin_month          36457 non-null   float64\n",
      "dtypes: float64(3), int64(8), object(9)\n",
      "memory usage: 66.9+ MB\n",
      "None\n"
     ]
    }
   ],
   "source": [
    "print(merged_df.info())"
   ]
  },
  {
   "cell_type": "code",
   "execution_count": 17,
   "metadata": {},
   "outputs": [],
   "source": [
    "# Find all users' account open month\n",
    "begin_month = record_df.groupby(\"ID\", as_index=False)[\"MONTHS_BALANCE\"].agg(\"min\")\n",
    "begin_month = begin_month.rename(columns={\"MONTHS_BALANCE\": \"begin_month\"})\n",
    "\n",
    "# Merge with the main dataset\n",
    "new_data = pd.merge(data_df, begin_month, how=\"left\", on=\"ID\")"
   ]
  },
  {
   "cell_type": "code",
   "execution_count": 18,
   "metadata": {},
   "outputs": [
    {
     "name": "stdout",
     "output_type": "stream",
     "text": [
      "risk_factor columns: Index(['ID', 'past_due'], dtype='object')\n",
      "        ID past_due\n",
      "0  5001711       No\n",
      "1  5001712       No\n",
      "2  5001713       No\n",
      "3  5001714       No\n",
      "4  5001715       No\n",
      "new_data columns: Index(['_id', 'ID', 'CODE_GENDER', 'FLAG_OWN_CAR', 'FLAG_OWN_REALTY',\n",
      "       'CNT_CHILDREN', 'AMT_INCOME_TOTAL', 'NAME_INCOME_TYPE',\n",
      "       'NAME_EDUCATION_TYPE', 'NAME_FAMILY_STATUS', 'NAME_HOUSING_TYPE',\n",
      "       'DAYS_BIRTH', 'DAYS_EMPLOYED', 'FLAG_MOBIL', 'FLAG_WORK_PHONE',\n",
      "       'FLAG_PHONE', 'FLAG_EMAIL', 'CNT_FAM_MEMBERS', 'OCCUPATION_TYPE',\n",
      "       'begin_month', 'past_due'],\n",
      "      dtype='object')\n",
      "                        _id       ID CODE_GENDER FLAG_OWN_CAR FLAG_OWN_REALTY  \\\n",
      "0  675f8698c31b872d695d0afe  5008804           M            Y               Y   \n",
      "1  675f8698c31b872d695d0aff  5008805           M            Y               Y   \n",
      "2  675f8698c31b872d695d0b00  5008806           M            Y               Y   \n",
      "3  675f8698c31b872d695d0b01  5008808           F            N               Y   \n",
      "4  675f8698c31b872d695d0b02  5008809           F            N               Y   \n",
      "\n",
      "   CNT_CHILDREN  AMT_INCOME_TOTAL      NAME_INCOME_TYPE  \\\n",
      "0             0          427500.0               Working   \n",
      "1             0          427500.0               Working   \n",
      "2             0          112500.0               Working   \n",
      "3             0          270000.0  Commercial associate   \n",
      "4             0          270000.0  Commercial associate   \n",
      "\n",
      "             NAME_EDUCATION_TYPE    NAME_FAMILY_STATUS  ... DAYS_BIRTH  \\\n",
      "0               Higher education        Civil marriage  ...     -12005   \n",
      "1               Higher education        Civil marriage  ...     -12005   \n",
      "2  Secondary / secondary special               Married  ...     -21474   \n",
      "3  Secondary / secondary special  Single / not married  ...     -19110   \n",
      "4  Secondary / secondary special  Single / not married  ...     -19110   \n",
      "\n",
      "   DAYS_EMPLOYED  FLAG_MOBIL  FLAG_WORK_PHONE  FLAG_PHONE  FLAG_EMAIL  \\\n",
      "0          -4542           1                1           0           0   \n",
      "1          -4542           1                1           0           0   \n",
      "2          -1134           1                0           0           0   \n",
      "3          -3051           1                0           1           1   \n",
      "4          -3051           1                0           1           1   \n",
      "\n",
      "   CNT_FAM_MEMBERS  OCCUPATION_TYPE begin_month  past_due  \n",
      "0              2.0              NaN       -15.0        No  \n",
      "1              2.0              NaN       -14.0        No  \n",
      "2              2.0   Security staff       -29.0        No  \n",
      "3              1.0      Sales staff        -4.0        No  \n",
      "4              1.0      Sales staff       -26.0        No  \n",
      "\n",
      "[5 rows x 21 columns]\n"
     ]
    }
   ],
   "source": [
    "# Add a column to identify past due payments\n",
    "record_df['past_due'] = 'No'  # Default to 'No'\n",
    "record_df.loc[record_df['STATUS'].isin([2, 3, 4, 5]), 'past_due'] = 'Yes'\n",
    "\n",
    "# Group by 'ID' to determine if any record is past due\n",
    "risk_factor = record_df.groupby('ID', as_index=False)['past_due'].agg(\n",
    "    lambda x: 'Yes' if 'Yes' in x.values else 'No'\n",
    ")\n",
    "\n",
    "# Debug: Ensure 'cpunt' contains 'past_due'\n",
    "print(\"risk_factor columns:\", risk_factor.columns)\n",
    "print(risk_factor.head())\n",
    "\n",
    "# Merge with new_data\n",
    "new_data = pd.merge(new_data, risk_factor, how='inner', on='ID')\n",
    "\n",
    "# Debug: Ensure 'past_due' exists in new_data\n",
    "print(\"new_data columns:\", new_data.columns)\n",
    "print(new_data.head())\n",
    "\n",
    "# Map 'Yes' and 'No' to numeric targets\n",
    "if 'past_due' in new_data.columns:\n",
    "    new_data['target'] = new_data['past_due'].map({'Yes': 1, 'No': 0})\n",
    "else:\n",
    "    print(\"Error: 'past_due' column is missing in new_data.\")\n"
   ]
  },
  {
   "cell_type": "code",
   "execution_count": 19,
   "metadata": {},
   "outputs": [
    {
     "name": "stdout",
     "output_type": "stream",
     "text": [
      "past_due\n",
      "No     45318\n",
      "Yes      667\n",
      "Name: count, dtype: int64\n"
     ]
    },
    {
     "data": {
      "text/plain": [
       "past_due\n",
       "No     0.985495\n",
       "Yes    0.014505\n",
       "Name: proportion, dtype: float64"
      ]
     },
     "execution_count": 19,
     "metadata": {},
     "output_type": "execute_result"
    }
   ],
   "source": [
    "print(risk_factor['past_due'].value_counts())\n",
    "risk_factor['past_due'].value_counts(normalize=True)"
   ]
  },
  {
   "cell_type": "code",
   "execution_count": 20,
   "metadata": {},
   "outputs": [
    {
     "name": "stdout",
     "output_type": "stream",
     "text": [
      "past_due\n",
      "No     1045471\n",
      "Yes       3104\n",
      "Name: count, dtype: int64\n"
     ]
    }
   ],
   "source": [
    "print(record_df['past_due'].value_counts())"
   ]
  },
  {
   "cell_type": "code",
   "execution_count": 21,
   "metadata": {},
   "outputs": [
    {
     "name": "stdout",
     "output_type": "stream",
     "text": [
      "target\n",
      "0    35841\n",
      "1      616\n",
      "Name: count, dtype: int64\n"
     ]
    }
   ],
   "source": [
    "# Create a binary target variable (1 for high-risk customers, 0 otherwise)\n",
    "print(new_data['target'].value_counts())"
   ]
  },
  {
   "cell_type": "code",
   "execution_count": 22,
   "metadata": {},
   "outputs": [
    {
     "name": "stdout",
     "output_type": "stream",
     "text": [
      "int64\n",
      "int64\n"
     ]
    }
   ],
   "source": [
    "risk_factor = record_df.groupby('ID', as_index=False)['past_due'].agg(\n",
    "    lambda x: 'Yes' if 'Yes' in x.values else 'No'\n",
    ")\n",
    "print(new_data['ID'].dtype)\n",
    "print(risk_factor['ID'].dtype)"
   ]
  },
  {
   "cell_type": "markdown",
   "metadata": {},
   "source": [
    "# Check for missing values in 'past_due'\n",
    "na_count = new_data['past_due'].isna().sum()\n",
    "print(f\"Number of missing values in 'past_due': {na_count}\")"
   ]
  },
  {
   "cell_type": "code",
   "execution_count": 24,
   "metadata": {},
   "outputs": [
    {
     "name": "stdout",
     "output_type": "stream",
     "text": [
      "Yes: 667\n",
      "No: 45318\n"
     ]
    }
   ],
   "source": [
    "yes_count = (risk_factor['past_due'] == 'Yes').sum()\n",
    "no_count = (risk_factor['past_due'] == 'No').sum()\n",
    "\n",
    "print(f\"Yes: {yes_count}\")\n",
    "print(f\"No: {no_count}\")"
   ]
  },
  {
   "cell_type": "code",
   "execution_count": 25,
   "metadata": {},
   "outputs": [],
   "source": [
    "new_data = new_data.rename(columns={\n",
    "    \"ID\": \"ID\",\n",
    "    \"CODE_GENDER\": \"GENDER\",\n",
    "    \"FLAG_OWN_CAR\": \"OWN CAR\",\n",
    "    \"FLAG_OWN_REALTY\": \"OWN REALTY\",\n",
    "    \"CNT_CHILDREN\": \"CHILDREN\",\n",
    "    \"AMT_INCOME_TOTAL\": \"INCOME TOTAL\",\n",
    "    \"NAME_INCOME_TYPE\": \"INCOME TYPE\",\n",
    "    \"NAME_EDUCATION_TYPE\": \"EDUCATION TYPE\",\n",
    "    \"NAME_FAMILY_STATUS\": \"FAMILY STATUS\",\n",
    "    \"NAME_HOUSING_TYPE\": \"HOUSING TYPE\",\n",
    "    \"DAYS_BIRTH\": \"DAYS SINCE BIRTH\",\n",
    "    \"DAYS_EMPLOYED\": \"DAYS EMPLOYED\",\n",
    "    \"FLAG_MOBIL\": \"MOBIL\",\n",
    "    \"FLAG_WORK_PHONE\": \"WORK PHONE\",\n",
    "    \"FLAG_PHONE\": \"PHONE\",\n",
    "    \"FLAG_EMAIL\": \"EMAIL\",\n",
    "    \"OCCUPATION_TYPE\": \"TYPE\",\n",
    "    \"CNT_FAM_MEMBERS\": \"FAM MEMBERS\"\n",
    "})"
   ]
  },
  {
   "cell_type": "code",
   "execution_count": 26,
   "metadata": {},
   "outputs": [
    {
     "name": "stdout",
     "output_type": "stream",
     "text": [
      "Index(['_id', 'ID', 'GENDER', 'OWN CAR', 'OWN REALTY', 'CHILDREN',\n",
      "       'INCOME TOTAL', 'INCOME TYPE', 'EDUCATION TYPE', 'FAMILY STATUS',\n",
      "       'HOUSING TYPE', 'DAYS SINCE BIRTH', 'DAYS EMPLOYED', 'MOBIL',\n",
      "       'WORK PHONE', 'PHONE', 'EMAIL', 'FAM MEMBERS', 'TYPE', 'begin_month',\n",
      "       'past_due', 'target'],\n",
      "      dtype='object')\n"
     ]
    }
   ],
   "source": [
    "print(new_data.columns)"
   ]
  },
  {
   "cell_type": "code",
   "execution_count": 27,
   "metadata": {},
   "outputs": [],
   "source": [
    "new_data.dropna()\n",
    "new_data = new_data.mask(new_data == 'NULL').dropna()"
   ]
  },
  {
   "cell_type": "code",
   "execution_count": 28,
   "metadata": {},
   "outputs": [
    {
     "name": "stdout",
     "output_type": "stream",
     "text": [
      "<class 'pandas.core.frame.DataFrame'>\n",
      "Index: 25134 entries, 2 to 36456\n",
      "Data columns (total 22 columns):\n",
      " #   Column            Non-Null Count  Dtype  \n",
      "---  ------            --------------  -----  \n",
      " 0   _id               25134 non-null  object \n",
      " 1   ID                25134 non-null  int64  \n",
      " 2   GENDER            25134 non-null  object \n",
      " 3   OWN CAR           25134 non-null  object \n",
      " 4   OWN REALTY        25134 non-null  object \n",
      " 5   CHILDREN          25134 non-null  int64  \n",
      " 6   INCOME TOTAL      25134 non-null  float64\n",
      " 7   INCOME TYPE       25134 non-null  object \n",
      " 8   EDUCATION TYPE    25134 non-null  object \n",
      " 9   FAMILY STATUS     25134 non-null  object \n",
      " 10  HOUSING TYPE      25134 non-null  object \n",
      " 11  DAYS SINCE BIRTH  25134 non-null  int64  \n",
      " 12  DAYS EMPLOYED     25134 non-null  int64  \n",
      " 13  MOBIL             25134 non-null  int64  \n",
      " 14  WORK PHONE        25134 non-null  int64  \n",
      " 15  PHONE             25134 non-null  int64  \n",
      " 16  EMAIL             25134 non-null  int64  \n",
      " 17  FAM MEMBERS       25134 non-null  float64\n",
      " 18  TYPE              25134 non-null  object \n",
      " 19  begin_month       25134 non-null  float64\n",
      " 20  past_due          25134 non-null  object \n",
      " 21  target            25134 non-null  int64  \n",
      "dtypes: float64(3), int64(9), object(10)\n",
      "memory usage: 4.4+ MB\n"
     ]
    }
   ],
   "source": [
    "new_data.info()"
   ]
  },
  {
   "cell_type": "code",
   "execution_count": 29,
   "metadata": {},
   "outputs": [],
   "source": [
    "# Create a DataFrame with column names and initialize 'IV' with None\n",
    "ivtable = pd.DataFrame({'variable': new_data.columns, 'IV': None})\n",
    "\n",
    "# List of variables to exclude\n",
    "namelist = ['MOBIL', 'begin_month', 'past_due', 'target', 'ID']\n",
    "\n",
    "# Drop rows where the 'variable' is in the namelist\n",
    "ivtable = ivtable[~ivtable['variable'].isin(namelist)].reset_index(drop=True)\n"
   ]
  },
  {
   "cell_type": "markdown",
   "metadata": {},
   "source": [
    "The function calculates the Information Value (IV) of a feature relative to a target variable. Information Value is a measure used in predictive modeling to evaluate the predictive power of a feature. It is commonly used in credit scoring and binary classification problems.\n",
    "\n",
    "Function Workflow:\n",
    "Input Parameters:\n",
    "\n",
    "df: The DataFrame containing the feature and target variable.<br>\n",
    "feature: The column name of the feature for which IV is being calculated.<br>\n",
    "target: The column name of the target variable (binary: 0 or 1).<br>\n",
    "pr: A boolean flag to print intermediate data and the IV score."
   ]
  },
  {
   "cell_type": "code",
   "execution_count": 31,
   "metadata": {},
   "outputs": [],
   "source": [
    "# Updated Function\n",
    "def calc_iv(df, feature, target, pr=False):\n",
    "    # Handle missing values in a way compatible with categorical data\n",
    "    if df[feature].dtype.name == \"category\":\n",
    "        # Add \"NULL\" as a category if not already present\n",
    "        if \"NULL\" not in df[feature].cat.categories:\n",
    "            df[feature] = df[feature].cat.add_categories(\"NULL\")\n",
    "    # Replace missing values with \"NULL\"\n",
    "    df[feature] = df[feature].fillna(\"NULL\")\n",
    "\n",
    "    lst = []\n",
    "\n",
    "    # Iterate over unique feature values\n",
    "    for val in df[feature].unique():\n",
    "        all_count = df[df[feature] == val].shape[0]\n",
    "        good_count = df[(df[feature] == val) & (df[target] == 0)].shape[0]  # Good (e.g., target == 0)\n",
    "        bad_count = df[(df[feature] == val) & (df[target] == 1)].shape[0]   # Bad (e.g., target == 1)\n",
    "\n",
    "        lst.append([feature, val, all_count, good_count, bad_count])\n",
    "\n",
    "    # Convert to DataFrame\n",
    "    data = pd.DataFrame(lst, columns=['Variable', 'Value', 'All', 'Good', 'Bad'])\n",
    "\n",
    "    # Calculate shares and distributions\n",
    "    total_good = data['Good'].sum()\n",
    "    total_bad = data['Bad'].sum()\n",
    "    epsilon = 1e-10  # Small constant to prevent division by zero\n",
    "\n",
    "    data['Share'] = data['All'] / data['All'].sum()\n",
    "    data['Bad Rate'] = data['Bad'] / (data['All'] + epsilon)\n",
    "    data['Distribution Good'] = data['Good'] / (total_good + epsilon)\n",
    "    data['Distribution Bad'] = data['Bad'] / (total_bad + epsilon)\n",
    "\n",
    "    # Calculate Weight of Evidence (WoE)\n",
    "    data['WoE'] = np.log((data['Distribution Good'] + epsilon) / (data['Distribution Bad'] + epsilon))\n",
    "    data.replace({'WoE': {np.inf: 0, -np.inf: 0}}, inplace=True)  # Replace infinite values with 0\n",
    "\n",
    "    # Calculate Information Value (IV)\n",
    "    data['IV'] = (data['Distribution Good'] - data['Distribution Bad']) * data['WoE']\n",
    "\n",
    "    # Sort data\n",
    "    data = data.sort_values(by=['Variable', 'Value'], ascending=[True, True]).reset_index(drop=True)\n",
    "\n",
    "    # Print results if needed\n",
    "    if pr:\n",
    "        print(data)\n",
    "        print('IV = ', data['IV'].sum())\n",
    "\n",
    "    # Calculate total IV\n",
    "    iv = data['IV'].sum()\n",
    "    print('This variable\\'s IV is:', iv)\n",
    "    print(df[feature].value_counts())\n",
    "\n",
    "    return iv, data\n"
   ]
  },
  {
   "cell_type": "code",
   "execution_count": 32,
   "metadata": {},
   "outputs": [
    {
     "name": "stdout",
     "output_type": "stream",
     "text": [
      "Yes: 667\n",
      "No: 45318\n"
     ]
    }
   ],
   "source": [
    "yes_count = (risk_factor['past_due'] == 'Yes').sum()\n",
    "no_count = (risk_factor['past_due'] == 'No').sum()\n",
    "\n",
    "print(f\"Yes: {yes_count}\")\n",
    "print(f\"No: {no_count}\")"
   ]
  },
  {
   "cell_type": "code",
   "execution_count": 33,
   "metadata": {},
   "outputs": [
    {
     "name": "stdout",
     "output_type": "stream",
     "text": [
      "target\n",
      "0    24712\n",
      "1      422\n",
      "Name: count, dtype: int64\n"
     ]
    }
   ],
   "source": [
    "print(new_data['target'].value_counts())\n"
   ]
  },
  {
   "cell_type": "code",
   "execution_count": 34,
   "metadata": {},
   "outputs": [
    {
     "name": "stdout",
     "output_type": "stream",
     "text": [
      "<class 'pandas.core.frame.DataFrame'>\n",
      "Index: 25134 entries, 2 to 36456\n",
      "Data columns (total 22 columns):\n",
      " #   Column            Non-Null Count  Dtype  \n",
      "---  ------            --------------  -----  \n",
      " 0   _id               25134 non-null  object \n",
      " 1   ID                25134 non-null  int64  \n",
      " 2   GENDER            25134 non-null  object \n",
      " 3   OWN CAR           25134 non-null  object \n",
      " 4   OWN REALTY        25134 non-null  object \n",
      " 5   CHILDREN          25134 non-null  int64  \n",
      " 6   INCOME TOTAL      25134 non-null  float64\n",
      " 7   INCOME TYPE       25134 non-null  object \n",
      " 8   EDUCATION TYPE    25134 non-null  object \n",
      " 9   FAMILY STATUS     25134 non-null  object \n",
      " 10  HOUSING TYPE      25134 non-null  object \n",
      " 11  DAYS SINCE BIRTH  25134 non-null  int64  \n",
      " 12  DAYS EMPLOYED     25134 non-null  int64  \n",
      " 13  MOBIL             25134 non-null  int64  \n",
      " 14  WORK PHONE        25134 non-null  int64  \n",
      " 15  PHONE             25134 non-null  int64  \n",
      " 16  EMAIL             25134 non-null  int64  \n",
      " 17  FAM MEMBERS       25134 non-null  float64\n",
      " 18  TYPE              25134 non-null  object \n",
      " 19  begin_month       25134 non-null  float64\n",
      " 20  past_due          25134 non-null  object \n",
      " 21  target            25134 non-null  int64  \n",
      "dtypes: float64(3), int64(9), object(10)\n",
      "memory usage: 4.4+ MB\n",
      "None\n",
      "                        _id       ID GENDER OWN CAR OWN REALTY  CHILDREN  \\\n",
      "2  675f8698c31b872d695d0b00  5008806      M       Y          Y         0   \n",
      "3  675f8698c31b872d695d0b01  5008808      F       N          Y         0   \n",
      "4  675f8698c31b872d695d0b02  5008809      F       N          Y         0   \n",
      "5  675f8698c31b872d695d0b03  5008810      F       N          Y         0   \n",
      "6  675f8698c31b872d695d0b04  5008811      F       N          Y         0   \n",
      "\n",
      "   INCOME TOTAL           INCOME TYPE                 EDUCATION TYPE  \\\n",
      "2      112500.0               Working  Secondary / secondary special   \n",
      "3      270000.0  Commercial associate  Secondary / secondary special   \n",
      "4      270000.0  Commercial associate  Secondary / secondary special   \n",
      "5      270000.0  Commercial associate  Secondary / secondary special   \n",
      "6      270000.0  Commercial associate  Secondary / secondary special   \n",
      "\n",
      "          FAMILY STATUS  ... DAYS EMPLOYED  MOBIL  WORK PHONE  PHONE  EMAIL  \\\n",
      "2               Married  ...         -1134      1           0      0      0   \n",
      "3  Single / not married  ...         -3051      1           0      1      1   \n",
      "4  Single / not married  ...         -3051      1           0      1      1   \n",
      "5  Single / not married  ...         -3051      1           0      1      1   \n",
      "6  Single / not married  ...         -3051      1           0      1      1   \n",
      "\n",
      "   FAM MEMBERS            TYPE  begin_month past_due  target  \n",
      "2          2.0  Security staff        -29.0       No       0  \n",
      "3          1.0     Sales staff         -4.0       No       0  \n",
      "4          1.0     Sales staff        -26.0       No       0  \n",
      "5          1.0     Sales staff        -26.0       No       0  \n",
      "6          1.0     Sales staff        -38.0       No       0  \n",
      "\n",
      "[5 rows x 22 columns]\n"
     ]
    }
   ],
   "source": [
    "print(new_data.info())\n",
    "print(new_data.head())"
   ]
  },
  {
   "cell_type": "code",
   "execution_count": 35,
   "metadata": {},
   "outputs": [
    {
     "name": "stdout",
     "output_type": "stream",
     "text": [
      "  Variable Value    All   Good  Bad     Share  Bad Rate  Distribution Good  \\\n",
      "0   GENDER     F  15630  15400  230  0.621867  0.014715           0.623179   \n",
      "1   GENDER     M   9504   9312  192  0.378133  0.020202           0.376821   \n",
      "\n",
      "   Distribution Bad       WoE        IV  \n",
      "0          0.545024  0.134005  0.010473  \n",
      "1          0.454976 -0.188475  0.014730  \n",
      "IV =  0.025203504522086508\n",
      "This variable's IV is: 0.025203504522086508\n",
      "GENDER\n",
      "F    15630\n",
      "M     9504\n",
      "Name: count, dtype: int64\n"
     ]
    }
   ],
   "source": [
    "iv, data = calc_iv(df=new_data, feature='GENDER', target='target', pr=True)\n"
   ]
  },
  {
   "cell_type": "code",
   "execution_count": 36,
   "metadata": {},
   "outputs": [
    {
     "name": "stdout",
     "output_type": "stream",
     "text": [
      "GENDER\n",
      "0    15630\n",
      "1     9504\n",
      "Name: count, dtype: int64\n",
      "This variable's IV is: 0.025203504522086508\n",
      "GENDER\n",
      "0    15630\n",
      "1     9504\n",
      "Name: count, dtype: int64\n"
     ]
    },
    {
     "name": "stderr",
     "output_type": "stream",
     "text": [
      "C:\\Users\\Administrator\\AppData\\Local\\Temp\\ipykernel_5500\\1154117438.py:1: FutureWarning: Downcasting behavior in `replace` is deprecated and will be removed in a future version. To retain the old behavior, explicitly call `result.infer_objects(copy=False)`. To opt-in to the future behavior, set `pd.set_option('future.no_silent_downcasting', True)`\n",
      "  new_data['GENDER'] = new_data['GENDER'].replace(['F','M'],[0,1])\n"
     ]
    },
    {
     "data": {
      "text/html": [
       "<div>\n",
       "<style scoped>\n",
       "    .dataframe tbody tr th:only-of-type {\n",
       "        vertical-align: middle;\n",
       "    }\n",
       "\n",
       "    .dataframe tbody tr th {\n",
       "        vertical-align: top;\n",
       "    }\n",
       "\n",
       "    .dataframe thead th {\n",
       "        text-align: right;\n",
       "    }\n",
       "</style>\n",
       "<table border=\"1\" class=\"dataframe\">\n",
       "  <thead>\n",
       "    <tr style=\"text-align: right;\">\n",
       "      <th></th>\n",
       "      <th>Variable</th>\n",
       "      <th>Value</th>\n",
       "      <th>All</th>\n",
       "      <th>Good</th>\n",
       "      <th>Bad</th>\n",
       "      <th>Share</th>\n",
       "      <th>Bad Rate</th>\n",
       "      <th>Distribution Good</th>\n",
       "      <th>Distribution Bad</th>\n",
       "      <th>WoE</th>\n",
       "      <th>IV</th>\n",
       "    </tr>\n",
       "  </thead>\n",
       "  <tbody>\n",
       "    <tr>\n",
       "      <th>0</th>\n",
       "      <td>GENDER</td>\n",
       "      <td>0</td>\n",
       "      <td>15630</td>\n",
       "      <td>15400</td>\n",
       "      <td>230</td>\n",
       "      <td>0.621867</td>\n",
       "      <td>0.014715</td>\n",
       "      <td>0.623179</td>\n",
       "      <td>0.545024</td>\n",
       "      <td>0.134005</td>\n",
       "      <td>0.010473</td>\n",
       "    </tr>\n",
       "    <tr>\n",
       "      <th>1</th>\n",
       "      <td>GENDER</td>\n",
       "      <td>1</td>\n",
       "      <td>9504</td>\n",
       "      <td>9312</td>\n",
       "      <td>192</td>\n",
       "      <td>0.378133</td>\n",
       "      <td>0.020202</td>\n",
       "      <td>0.376821</td>\n",
       "      <td>0.454976</td>\n",
       "      <td>-0.188475</td>\n",
       "      <td>0.014730</td>\n",
       "    </tr>\n",
       "  </tbody>\n",
       "</table>\n",
       "</div>"
      ],
      "text/plain": [
       "  Variable  Value    All   Good  Bad     Share  Bad Rate  Distribution Good  \\\n",
       "0   GENDER      0  15630  15400  230  0.621867  0.014715           0.623179   \n",
       "1   GENDER      1   9504   9312  192  0.378133  0.020202           0.376821   \n",
       "\n",
       "   Distribution Bad       WoE        IV  \n",
       "0          0.545024  0.134005  0.010473  \n",
       "1          0.454976 -0.188475  0.014730  "
      ]
     },
     "execution_count": 36,
     "metadata": {},
     "output_type": "execute_result"
    }
   ],
   "source": [
    "new_data['GENDER'] = new_data['GENDER'].replace(['F','M'],[0,1])\n",
    "print(new_data['GENDER'].value_counts())\n",
    "iv, data = calc_iv(new_data,'GENDER','target')\n",
    "ivtable.loc[ivtable['variable']=='GENDER','IV']=iv\n",
    "data.head()"
   ]
  },
  {
   "cell_type": "code",
   "execution_count": 37,
   "metadata": {},
   "outputs": [],
   "source": [
    "def convert_dummy(df, feature,rank=0):\n",
    "    pos = pd.get_dummies(df[feature], prefix=feature)\n",
    "    mode = df[feature].value_counts().index[rank]\n",
    "    biggest = feature + '_' + str(mode)\n",
    "    pos.drop([biggest],axis=1,inplace=True)\n",
    "    df.drop([feature],axis=1,inplace=True)\n",
    "    df=df.join(pos)\n",
    "    return df"
   ]
  },
  {
   "cell_type": "code",
   "execution_count": 38,
   "metadata": {},
   "outputs": [],
   "source": [
    "def get_category(df, col, binsnum, labels, qcut = False):\n",
    "    if qcut:\n",
    "        localdf = pd.qcut(df[col], q = binsnum, labels = labels) # quantile cut\n",
    "    else:\n",
    "        localdf = pd.cut(df[col], bins = binsnum, labels = labels) # equal-length cut\n",
    "        \n",
    "    localdf = pd.DataFrame(localdf)\n",
    "    name = 'gp' + '_' + col\n",
    "    localdf[name] = localdf[col]\n",
    "    df = df.join(localdf[name])\n",
    "    df[name] = df[name].astype(object)\n",
    "    return df"
   ]
  },
  {
   "cell_type": "code",
   "execution_count": 39,
   "metadata": {},
   "outputs": [],
   "source": [
    "def plot_confusion_matrix(cm, classes,\n",
    "                          normalize=False,\n",
    "                          title='Confusion matrix',\n",
    "                          cmap=plt.cm.Blues):\n",
    "    if normalize:\n",
    "        cm = cm.astype('float') / cm.sum(axis=1)[:, np.newaxis]\n",
    "        \n",
    "    print(cm)\n",
    "\n",
    "    plt.imshow(cm, interpolation='nearest', cmap=cmap)\n",
    "    plt.title(title)\n",
    "    plt.colorbar()\n",
    "    tick_marks = np.arange(len(classes))\n",
    "    plt.xticks(tick_marks, classes)\n",
    "    plt.yticks(tick_marks, classes)\n",
    "\n",
    "    fmt = '.2f' if normalize else 'd'\n",
    "    thresh = cm.max() / 2.\n",
    "    for i, j in itertools.product(range(cm.shape[0]), range(cm.shape[1])):\n",
    "        plt.text(j, i, format(cm[i, j], fmt),\n",
    "                 horizontalalignment=\"center\",\n",
    "                 color=\"white\" if cm[i, j] > thresh else \"black\")\n",
    "\n",
    "    plt.tight_layout()\n",
    "    plt.ylabel('True label')\n",
    "    plt.xlabel('Predicted label')"
   ]
  },
  {
   "cell_type": "code",
   "execution_count": 40,
   "metadata": {},
   "outputs": [
    {
     "name": "stdout",
     "output_type": "stream",
     "text": [
      "OWN CAR\n",
      "0    14618\n",
      "1    10516\n",
      "Name: count, dtype: int64\n",
      "This variable's IV is: 4.542481249039114e-06\n",
      "OWN CAR\n",
      "0    14618\n",
      "1    10516\n",
      "Name: count, dtype: int64\n"
     ]
    },
    {
     "name": "stderr",
     "output_type": "stream",
     "text": [
      "C:\\Users\\Administrator\\AppData\\Local\\Temp\\ipykernel_5500\\2516153918.py:1: FutureWarning: Downcasting behavior in `replace` is deprecated and will be removed in a future version. To retain the old behavior, explicitly call `result.infer_objects(copy=False)`. To opt-in to the future behavior, set `pd.set_option('future.no_silent_downcasting', True)`\n",
      "  new_data['OWN CAR'] = new_data['OWN CAR'].replace(['N','Y'],[0,1])\n"
     ]
    },
    {
     "data": {
      "text/html": [
       "<div>\n",
       "<style scoped>\n",
       "    .dataframe tbody tr th:only-of-type {\n",
       "        vertical-align: middle;\n",
       "    }\n",
       "\n",
       "    .dataframe tbody tr th {\n",
       "        vertical-align: top;\n",
       "    }\n",
       "\n",
       "    .dataframe thead th {\n",
       "        text-align: right;\n",
       "    }\n",
       "</style>\n",
       "<table border=\"1\" class=\"dataframe\">\n",
       "  <thead>\n",
       "    <tr style=\"text-align: right;\">\n",
       "      <th></th>\n",
       "      <th>Variable</th>\n",
       "      <th>Value</th>\n",
       "      <th>All</th>\n",
       "      <th>Good</th>\n",
       "      <th>Bad</th>\n",
       "      <th>Share</th>\n",
       "      <th>Bad Rate</th>\n",
       "      <th>Distribution Good</th>\n",
       "      <th>Distribution Bad</th>\n",
       "      <th>WoE</th>\n",
       "      <th>IV</th>\n",
       "    </tr>\n",
       "  </thead>\n",
       "  <tbody>\n",
       "    <tr>\n",
       "      <th>0</th>\n",
       "      <td>OWN CAR</td>\n",
       "      <td>0</td>\n",
       "      <td>14618</td>\n",
       "      <td>14373</td>\n",
       "      <td>245</td>\n",
       "      <td>0.581603</td>\n",
       "      <td>0.016760</td>\n",
       "      <td>0.58162</td>\n",
       "      <td>0.580569</td>\n",
       "      <td>0.00181</td>\n",
       "      <td>0.000002</td>\n",
       "    </tr>\n",
       "    <tr>\n",
       "      <th>1</th>\n",
       "      <td>OWN CAR</td>\n",
       "      <td>1</td>\n",
       "      <td>10516</td>\n",
       "      <td>10339</td>\n",
       "      <td>177</td>\n",
       "      <td>0.418397</td>\n",
       "      <td>0.016831</td>\n",
       "      <td>0.41838</td>\n",
       "      <td>0.419431</td>\n",
       "      <td>-0.00251</td>\n",
       "      <td>0.000003</td>\n",
       "    </tr>\n",
       "  </tbody>\n",
       "</table>\n",
       "</div>"
      ],
      "text/plain": [
       "  Variable  Value    All   Good  Bad     Share  Bad Rate  Distribution Good  \\\n",
       "0  OWN CAR      0  14618  14373  245  0.581603  0.016760            0.58162   \n",
       "1  OWN CAR      1  10516  10339  177  0.418397  0.016831            0.41838   \n",
       "\n",
       "   Distribution Bad      WoE        IV  \n",
       "0          0.580569  0.00181  0.000002  \n",
       "1          0.419431 -0.00251  0.000003  "
      ]
     },
     "execution_count": 40,
     "metadata": {},
     "output_type": "execute_result"
    }
   ],
   "source": [
    "new_data['OWN CAR'] = new_data['OWN CAR'].replace(['N','Y'],[0,1])\n",
    "print(new_data['OWN CAR'].value_counts())\n",
    "iv, data=calc_iv(new_data,'OWN CAR','target')\n",
    "ivtable.loc[ivtable['variable']=='OWN CAR','IV']=iv\n",
    "data.head()"
   ]
  },
  {
   "cell_type": "code",
   "execution_count": 41,
   "metadata": {},
   "outputs": [
    {
     "name": "stdout",
     "output_type": "stream",
     "text": [
      "OWN REALTY\n",
      "1    16461\n",
      "0     8673\n",
      "Name: count, dtype: int64\n",
      "This variable's IV is: 0.027440703495528084\n",
      "OWN REALTY\n",
      "1    16461\n",
      "0     8673\n",
      "Name: count, dtype: int64\n"
     ]
    },
    {
     "name": "stderr",
     "output_type": "stream",
     "text": [
      "C:\\Users\\Administrator\\AppData\\Local\\Temp\\ipykernel_5500\\1287350286.py:1: FutureWarning: Downcasting behavior in `replace` is deprecated and will be removed in a future version. To retain the old behavior, explicitly call `result.infer_objects(copy=False)`. To opt-in to the future behavior, set `pd.set_option('future.no_silent_downcasting', True)`\n",
      "  new_data['OWN REALTY'] = new_data['OWN REALTY'].replace(['N','Y'],[0,1])\n"
     ]
    },
    {
     "data": {
      "text/html": [
       "<div>\n",
       "<style scoped>\n",
       "    .dataframe tbody tr th:only-of-type {\n",
       "        vertical-align: middle;\n",
       "    }\n",
       "\n",
       "    .dataframe tbody tr th {\n",
       "        vertical-align: top;\n",
       "    }\n",
       "\n",
       "    .dataframe thead th {\n",
       "        text-align: right;\n",
       "    }\n",
       "</style>\n",
       "<table border=\"1\" class=\"dataframe\">\n",
       "  <thead>\n",
       "    <tr style=\"text-align: right;\">\n",
       "      <th></th>\n",
       "      <th>Variable</th>\n",
       "      <th>Value</th>\n",
       "      <th>All</th>\n",
       "      <th>Good</th>\n",
       "      <th>Bad</th>\n",
       "      <th>Share</th>\n",
       "      <th>Bad Rate</th>\n",
       "      <th>Distribution Good</th>\n",
       "      <th>Distribution Bad</th>\n",
       "      <th>WoE</th>\n",
       "      <th>IV</th>\n",
       "    </tr>\n",
       "  </thead>\n",
       "  <tbody>\n",
       "    <tr>\n",
       "      <th>0</th>\n",
       "      <td>OWN REALTY</td>\n",
       "      <td>0</td>\n",
       "      <td>8673</td>\n",
       "      <td>8494</td>\n",
       "      <td>179</td>\n",
       "      <td>0.34507</td>\n",
       "      <td>0.020639</td>\n",
       "      <td>0.34372</td>\n",
       "      <td>0.424171</td>\n",
       "      <td>-0.210309</td>\n",
       "      <td>0.016920</td>\n",
       "    </tr>\n",
       "    <tr>\n",
       "      <th>1</th>\n",
       "      <td>OWN REALTY</td>\n",
       "      <td>1</td>\n",
       "      <td>16461</td>\n",
       "      <td>16218</td>\n",
       "      <td>243</td>\n",
       "      <td>0.65493</td>\n",
       "      <td>0.014762</td>\n",
       "      <td>0.65628</td>\n",
       "      <td>0.575829</td>\n",
       "      <td>0.130777</td>\n",
       "      <td>0.010521</td>\n",
       "    </tr>\n",
       "  </tbody>\n",
       "</table>\n",
       "</div>"
      ],
      "text/plain": [
       "     Variable  Value    All   Good  Bad    Share  Bad Rate  Distribution Good  \\\n",
       "0  OWN REALTY      0   8673   8494  179  0.34507  0.020639            0.34372   \n",
       "1  OWN REALTY      1  16461  16218  243  0.65493  0.014762            0.65628   \n",
       "\n",
       "   Distribution Bad       WoE        IV  \n",
       "0          0.424171 -0.210309  0.016920  \n",
       "1          0.575829  0.130777  0.010521  "
      ]
     },
     "execution_count": 41,
     "metadata": {},
     "output_type": "execute_result"
    }
   ],
   "source": [
    "new_data['OWN REALTY'] = new_data['OWN REALTY'].replace(['N','Y'],[0,1])\n",
    "print(new_data['OWN REALTY'].value_counts())\n",
    "iv, data=calc_iv(new_data,'OWN REALTY','target')\n",
    "ivtable.loc[ivtable['variable']=='OWN REALTY','IV']=iv\n",
    "data.head()"
   ]
  },
  {
   "cell_type": "code",
   "execution_count": 42,
   "metadata": {},
   "outputs": [
    {
     "name": "stdout",
     "output_type": "stream",
     "text": [
      "PHONE\n",
      "0    0.707209\n",
      "1    0.292791\n",
      "Name: proportion, dtype: float64\n",
      "This variable's IV is: 0.0005480495761114454\n",
      "PHONE\n",
      "0    17775\n",
      "1     7359\n",
      "Name: count, dtype: int64\n"
     ]
    },
    {
     "data": {
      "text/html": [
       "<div>\n",
       "<style scoped>\n",
       "    .dataframe tbody tr th:only-of-type {\n",
       "        vertical-align: middle;\n",
       "    }\n",
       "\n",
       "    .dataframe tbody tr th {\n",
       "        vertical-align: top;\n",
       "    }\n",
       "\n",
       "    .dataframe thead th {\n",
       "        text-align: right;\n",
       "    }\n",
       "</style>\n",
       "<table border=\"1\" class=\"dataframe\">\n",
       "  <thead>\n",
       "    <tr style=\"text-align: right;\">\n",
       "      <th></th>\n",
       "      <th>Variable</th>\n",
       "      <th>Value</th>\n",
       "      <th>All</th>\n",
       "      <th>Good</th>\n",
       "      <th>Bad</th>\n",
       "      <th>Share</th>\n",
       "      <th>Bad Rate</th>\n",
       "      <th>Distribution Good</th>\n",
       "      <th>Distribution Bad</th>\n",
       "      <th>WoE</th>\n",
       "      <th>IV</th>\n",
       "    </tr>\n",
       "  </thead>\n",
       "  <tbody>\n",
       "    <tr>\n",
       "      <th>0</th>\n",
       "      <td>PHONE</td>\n",
       "      <td>0</td>\n",
       "      <td>17775</td>\n",
       "      <td>17481</td>\n",
       "      <td>294</td>\n",
       "      <td>0.707209</td>\n",
       "      <td>0.016540</td>\n",
       "      <td>0.707389</td>\n",
       "      <td>0.696682</td>\n",
       "      <td>0.015251</td>\n",
       "      <td>0.000163</td>\n",
       "    </tr>\n",
       "    <tr>\n",
       "      <th>1</th>\n",
       "      <td>PHONE</td>\n",
       "      <td>1</td>\n",
       "      <td>7359</td>\n",
       "      <td>7231</td>\n",
       "      <td>128</td>\n",
       "      <td>0.292791</td>\n",
       "      <td>0.017394</td>\n",
       "      <td>0.292611</td>\n",
       "      <td>0.303318</td>\n",
       "      <td>-0.035937</td>\n",
       "      <td>0.000385</td>\n",
       "    </tr>\n",
       "  </tbody>\n",
       "</table>\n",
       "</div>"
      ],
      "text/plain": [
       "  Variable Value    All   Good  Bad     Share  Bad Rate  Distribution Good  \\\n",
       "0    PHONE     0  17775  17481  294  0.707209  0.016540           0.707389   \n",
       "1    PHONE     1   7359   7231  128  0.292791  0.017394           0.292611   \n",
       "\n",
       "   Distribution Bad       WoE        IV  \n",
       "0          0.696682  0.015251  0.000163  \n",
       "1          0.303318 -0.035937  0.000385  "
      ]
     },
     "execution_count": 42,
     "metadata": {},
     "output_type": "execute_result"
    }
   ],
   "source": [
    "new_data['PHONE']=new_data['PHONE'].astype(str)\n",
    "print(new_data['PHONE'].value_counts(normalize=True,sort=False))\n",
    "new_data.drop(new_data[new_data['PHONE'] == 'nan' ].index, inplace=True)\n",
    "iv, data=calc_iv(new_data,'PHONE','target')\n",
    "ivtable.loc[ivtable['variable']=='PHONE','IV']=iv\n",
    "data.head()"
   ]
  },
  {
   "cell_type": "code",
   "execution_count": 43,
   "metadata": {},
   "outputs": [
    {
     "name": "stdout",
     "output_type": "stream",
     "text": [
      "EMAIL\n",
      "0    0.89934\n",
      "1    0.10066\n",
      "Name: proportion, dtype: float64\n",
      "This variable's IV is: 1.7343581478409863e-05\n",
      "EMAIL\n",
      "0    22604\n",
      "1     2530\n",
      "Name: count, dtype: int64\n"
     ]
    },
    {
     "data": {
      "text/html": [
       "<div>\n",
       "<style scoped>\n",
       "    .dataframe tbody tr th:only-of-type {\n",
       "        vertical-align: middle;\n",
       "    }\n",
       "\n",
       "    .dataframe tbody tr th {\n",
       "        vertical-align: top;\n",
       "    }\n",
       "\n",
       "    .dataframe thead th {\n",
       "        text-align: right;\n",
       "    }\n",
       "</style>\n",
       "<table border=\"1\" class=\"dataframe\">\n",
       "  <thead>\n",
       "    <tr style=\"text-align: right;\">\n",
       "      <th></th>\n",
       "      <th>Variable</th>\n",
       "      <th>Value</th>\n",
       "      <th>All</th>\n",
       "      <th>Good</th>\n",
       "      <th>Bad</th>\n",
       "      <th>Share</th>\n",
       "      <th>Bad Rate</th>\n",
       "      <th>Distribution Good</th>\n",
       "      <th>Distribution Bad</th>\n",
       "      <th>WoE</th>\n",
       "      <th>IV</th>\n",
       "    </tr>\n",
       "  </thead>\n",
       "  <tbody>\n",
       "    <tr>\n",
       "      <th>0</th>\n",
       "      <td>EMAIL</td>\n",
       "      <td>0</td>\n",
       "      <td>22604</td>\n",
       "      <td>22225</td>\n",
       "      <td>379</td>\n",
       "      <td>0.89934</td>\n",
       "      <td>0.016767</td>\n",
       "      <td>0.899361</td>\n",
       "      <td>0.898104</td>\n",
       "      <td>0.001398</td>\n",
       "      <td>0.000002</td>\n",
       "    </tr>\n",
       "    <tr>\n",
       "      <th>1</th>\n",
       "      <td>EMAIL</td>\n",
       "      <td>1</td>\n",
       "      <td>2530</td>\n",
       "      <td>2487</td>\n",
       "      <td>43</td>\n",
       "      <td>0.10066</td>\n",
       "      <td>0.016996</td>\n",
       "      <td>0.100639</td>\n",
       "      <td>0.101896</td>\n",
       "      <td>-0.012407</td>\n",
       "      <td>0.000016</td>\n",
       "    </tr>\n",
       "  </tbody>\n",
       "</table>\n",
       "</div>"
      ],
      "text/plain": [
       "  Variable Value    All   Good  Bad    Share  Bad Rate  Distribution Good  \\\n",
       "0    EMAIL     0  22604  22225  379  0.89934  0.016767           0.899361   \n",
       "1    EMAIL     1   2530   2487   43  0.10066  0.016996           0.100639   \n",
       "\n",
       "   Distribution Bad       WoE        IV  \n",
       "0          0.898104  0.001398  0.000002  \n",
       "1          0.101896 -0.012407  0.000016  "
      ]
     },
     "execution_count": 43,
     "metadata": {},
     "output_type": "execute_result"
    }
   ],
   "source": [
    "print(new_data['EMAIL'].value_counts(normalize=True,sort=False))\n",
    "new_data['EMAIL']=new_data['EMAIL'].astype(str)\n",
    "iv, data=calc_iv(new_data,'EMAIL','target')\n",
    "ivtable.loc[ivtable['variable']=='EMAIL','IV']=iv\n",
    "data.head()"
   ]
  },
  {
   "cell_type": "code",
   "execution_count": 44,
   "metadata": {},
   "outputs": [
    {
     "name": "stdout",
     "output_type": "stream",
     "text": [
      "This variable's IV is: 0.002042429794551056\n",
      "WORK PHONE\n",
      "0    18252\n",
      "1     6882\n",
      "Name: count, dtype: int64\n"
     ]
    },
    {
     "data": {
      "text/html": [
       "<div>\n",
       "<style scoped>\n",
       "    .dataframe tbody tr th:only-of-type {\n",
       "        vertical-align: middle;\n",
       "    }\n",
       "\n",
       "    .dataframe tbody tr th {\n",
       "        vertical-align: top;\n",
       "    }\n",
       "\n",
       "    .dataframe thead th {\n",
       "        text-align: right;\n",
       "    }\n",
       "</style>\n",
       "<table border=\"1\" class=\"dataframe\">\n",
       "  <thead>\n",
       "    <tr style=\"text-align: right;\">\n",
       "      <th></th>\n",
       "      <th>Variable</th>\n",
       "      <th>Value</th>\n",
       "      <th>All</th>\n",
       "      <th>Good</th>\n",
       "      <th>Bad</th>\n",
       "      <th>Share</th>\n",
       "      <th>Bad Rate</th>\n",
       "      <th>Distribution Good</th>\n",
       "      <th>Distribution Bad</th>\n",
       "      <th>WoE</th>\n",
       "      <th>IV</th>\n",
       "    </tr>\n",
       "  </thead>\n",
       "  <tbody>\n",
       "    <tr>\n",
       "      <th>0</th>\n",
       "      <td>WORK PHONE</td>\n",
       "      <td>0</td>\n",
       "      <td>18252</td>\n",
       "      <td>17954</td>\n",
       "      <td>298</td>\n",
       "      <td>0.726188</td>\n",
       "      <td>0.016327</td>\n",
       "      <td>0.72653</td>\n",
       "      <td>0.706161</td>\n",
       "      <td>0.028436</td>\n",
       "      <td>0.000579</td>\n",
       "    </tr>\n",
       "    <tr>\n",
       "      <th>1</th>\n",
       "      <td>WORK PHONE</td>\n",
       "      <td>1</td>\n",
       "      <td>6882</td>\n",
       "      <td>6758</td>\n",
       "      <td>124</td>\n",
       "      <td>0.273812</td>\n",
       "      <td>0.018018</td>\n",
       "      <td>0.27347</td>\n",
       "      <td>0.293839</td>\n",
       "      <td>-0.071838</td>\n",
       "      <td>0.001463</td>\n",
       "    </tr>\n",
       "  </tbody>\n",
       "</table>\n",
       "</div>"
      ],
      "text/plain": [
       "     Variable Value    All   Good  Bad     Share  Bad Rate  Distribution Good  \\\n",
       "0  WORK PHONE     0  18252  17954  298  0.726188  0.016327            0.72653   \n",
       "1  WORK PHONE     1   6882   6758  124  0.273812  0.018018            0.27347   \n",
       "\n",
       "   Distribution Bad       WoE        IV  \n",
       "0          0.706161  0.028436  0.000579  \n",
       "1          0.293839 -0.071838  0.001463  "
      ]
     },
     "execution_count": 44,
     "metadata": {},
     "output_type": "execute_result"
    }
   ],
   "source": [
    "new_data['WORK PHONE']=new_data['WORK PHONE'].astype(str)\n",
    "iv, data = calc_iv(new_data,'WORK PHONE','target')\n",
    "new_data.drop(new_data[new_data['WORK PHONE'] == 'nan' ].index, inplace=True)\n",
    "ivtable.loc[ivtable['variable']=='WORK PHONE','IV']=iv\n",
    "data.head()"
   ]
  },
  {
   "cell_type": "code",
   "execution_count": 45,
   "metadata": {},
   "outputs": [
    {
     "name": "stdout",
     "output_type": "stream",
     "text": [
      "CHILDREN\n",
      "0        15908\n",
      "2More     3108\n",
      "1         6118\n",
      "Name: count, dtype: int64\n"
     ]
    },
    {
     "name": "stderr",
     "output_type": "stream",
     "text": [
      "C:\\Users\\Administrator\\AppData\\Local\\Temp\\ipykernel_5500\\342932018.py:1: FutureWarning: Setting an item of incompatible dtype is deprecated and will raise an error in a future version of pandas. Value '2More' has dtype incompatible with int64, please explicitly cast to a compatible dtype first.\n",
      "  new_data.loc[new_data['CHILDREN'] >= 2,'CHILDREN']='2More'\n"
     ]
    }
   ],
   "source": [
    "new_data.loc[new_data['CHILDREN'] >= 2,'CHILDREN']='2More'\n",
    "print(new_data['CHILDREN'].value_counts(sort=False))"
   ]
  },
  {
   "cell_type": "code",
   "execution_count": 46,
   "metadata": {},
   "outputs": [
    {
     "name": "stdout",
     "output_type": "stream",
     "text": [
      "This variable's IV is: 0.0011214542499397976\n",
      "CHILDREN\n",
      "0        15908\n",
      "1         6118\n",
      "2More     3108\n",
      "Name: count, dtype: int64\n"
     ]
    },
    {
     "data": {
      "text/html": [
       "<div>\n",
       "<style scoped>\n",
       "    .dataframe tbody tr th:only-of-type {\n",
       "        vertical-align: middle;\n",
       "    }\n",
       "\n",
       "    .dataframe tbody tr th {\n",
       "        vertical-align: top;\n",
       "    }\n",
       "\n",
       "    .dataframe thead th {\n",
       "        text-align: right;\n",
       "    }\n",
       "</style>\n",
       "<table border=\"1\" class=\"dataframe\">\n",
       "  <thead>\n",
       "    <tr style=\"text-align: right;\">\n",
       "      <th></th>\n",
       "      <th>Variable</th>\n",
       "      <th>Value</th>\n",
       "      <th>All</th>\n",
       "      <th>Good</th>\n",
       "      <th>Bad</th>\n",
       "      <th>Share</th>\n",
       "      <th>Bad Rate</th>\n",
       "      <th>Distribution Good</th>\n",
       "      <th>Distribution Bad</th>\n",
       "      <th>WoE</th>\n",
       "      <th>IV</th>\n",
       "    </tr>\n",
       "  </thead>\n",
       "  <tbody>\n",
       "    <tr>\n",
       "      <th>0</th>\n",
       "      <td>CHILDREN</td>\n",
       "      <td>0</td>\n",
       "      <td>15908</td>\n",
       "      <td>15635</td>\n",
       "      <td>273</td>\n",
       "      <td>0.632928</td>\n",
       "      <td>0.017161</td>\n",
       "      <td>0.632689</td>\n",
       "      <td>0.646919</td>\n",
       "      <td>-0.022243</td>\n",
       "      <td>0.000317</td>\n",
       "    </tr>\n",
       "    <tr>\n",
       "      <th>1</th>\n",
       "      <td>CHILDREN</td>\n",
       "      <td>1</td>\n",
       "      <td>6118</td>\n",
       "      <td>6021</td>\n",
       "      <td>97</td>\n",
       "      <td>0.243415</td>\n",
       "      <td>0.015855</td>\n",
       "      <td>0.243647</td>\n",
       "      <td>0.229858</td>\n",
       "      <td>0.058259</td>\n",
       "      <td>0.000803</td>\n",
       "    </tr>\n",
       "    <tr>\n",
       "      <th>2</th>\n",
       "      <td>CHILDREN</td>\n",
       "      <td>2More</td>\n",
       "      <td>3108</td>\n",
       "      <td>3056</td>\n",
       "      <td>52</td>\n",
       "      <td>0.123657</td>\n",
       "      <td>0.016731</td>\n",
       "      <td>0.123665</td>\n",
       "      <td>0.123223</td>\n",
       "      <td>0.003580</td>\n",
       "      <td>0.000002</td>\n",
       "    </tr>\n",
       "  </tbody>\n",
       "</table>\n",
       "</div>"
      ],
      "text/plain": [
       "   Variable  Value    All   Good  Bad     Share  Bad Rate  Distribution Good  \\\n",
       "0  CHILDREN      0  15908  15635  273  0.632928  0.017161           0.632689   \n",
       "1  CHILDREN      1   6118   6021   97  0.243415  0.015855           0.243647   \n",
       "2  CHILDREN  2More   3108   3056   52  0.123657  0.016731           0.123665   \n",
       "\n",
       "   Distribution Bad       WoE        IV  \n",
       "0          0.646919 -0.022243  0.000317  \n",
       "1          0.229858  0.058259  0.000803  \n",
       "2          0.123223  0.003580  0.000002  "
      ]
     },
     "execution_count": 46,
     "metadata": {},
     "output_type": "execute_result"
    }
   ],
   "source": [
    "iv, data=calc_iv(new_data,'CHILDREN','target')\n",
    "ivtable.loc[ivtable['variable']=='CHILDREN','IV']=iv\n",
    "data.head()"
   ]
  },
  {
   "cell_type": "code",
   "execution_count": 47,
   "metadata": {},
   "outputs": [],
   "source": [
    "new_data = convert_dummy(new_data,'CHILDREN')"
   ]
  },
  {
   "cell_type": "code",
   "execution_count": 48,
   "metadata": {},
   "outputs": [
    {
     "name": "stdout",
     "output_type": "stream",
     "text": [
      "(2.544, 18.18]      14663\n",
      "(18.18, 33.66]       8464\n",
      "(33.66, 49.14]       1637\n",
      "(49.14, 64.62]        175\n",
      "(64.62, 80.1]         124\n",
      "(80.1, 95.58]          50\n",
      "(95.58, 111.06]         4\n",
      "(111.06, 126.54]        3\n",
      "(126.54, 142.02]        6\n",
      "(142.02, 157.5]         8\n",
      "Name: count, dtype: int64\n"
     ]
    },
    {
     "data": {
      "text/plain": [
       "<Axes: ylabel='Frequency'>"
      ]
     },
     "execution_count": 48,
     "metadata": {},
     "output_type": "execute_result"
    },
    {
     "data": {
      "image/png": "[encoded data removed]",
      "text/plain": [
       "<Figure size 640x480 with 1 Axes>"
      ]
     },
     "metadata": {},
     "output_type": "display_data"
    }
   ],
   "source": [
    "new_data['INCOME TOTAL']=new_data['INCOME TOTAL'].astype(object)\n",
    "new_data['INCOME TOTAL'] = new_data['INCOME TOTAL']/10000 \n",
    "print(new_data['INCOME TOTAL'].value_counts(bins=10,sort=False))\n",
    "new_data['INCOME TOTAL'].plot(kind='hist',bins=50,density=True)"
   ]
  },
  {
   "cell_type": "code",
   "execution_count": 49,
   "metadata": {},
   "outputs": [
    {
     "name": "stdout",
     "output_type": "stream",
     "text": [
      "This variable's IV is: 0.0024219962214304678\n",
      "gp_inc\n",
      "low       8996\n",
      "high      8244\n",
      "medium    7894\n",
      "NULL         0\n",
      "Name: count, dtype: int64\n",
      "  Variable   Value   All  Good  Bad     Share  Bad Rate  Distribution Good  \\\n",
      "0   gp_inc    high  8244  8096  148  0.328002  0.017952           0.327614   \n",
      "1   gp_inc     low  8996  8849  147  0.357922  0.016341           0.358085   \n",
      "2   gp_inc  medium  7894  7767  127  0.314077  0.016088           0.314301   \n",
      "\n",
      "   Distribution Bad       WoE        IV  \n",
      "0          0.350711 -0.068126  0.001573  \n",
      "1          0.348341  0.027588  0.000269  \n",
      "2          0.300948  0.043413  0.000580  \n"
     ]
    }
   ],
   "source": [
    "# Create categories using pd.qcut\n",
    "new_data['gp_inc'] = pd.qcut(\n",
    "    new_data['INCOME TOTAL'], \n",
    "    q=3,  # Number of quantiles\n",
    "    labels=[\"low\", \"medium\", \"high\"]\n",
    ")\n",
    "\n",
    "# Calculate IV\n",
    "iv, data = calc_iv(new_data, 'gp_inc', 'target')\n",
    "\n",
    "# Update IV table\n",
    "ivtable.loc[ivtable['variable'] == 'INCOME TOTAL', 'IV'] = iv\n",
    "\n",
    "# Print results\n",
    "print(data.head())"
   ]
  },
  {
   "cell_type": "code",
   "execution_count": 50,
   "metadata": {},
   "outputs": [
    {
     "name": "stdout",
     "output_type": "stream",
     "text": [
      "(-0.000745, 0.00182]    14663\n",
      "(0.00182, 0.00337]       8464\n",
      "(0.00337, 0.00491]       1637\n",
      "(0.00491, 0.00646]        175\n",
      "(0.00646, 0.00801]        124\n",
      "(0.00801, 0.00956]         50\n",
      "(0.00956, 0.0111]           4\n",
      "(0.0111, 0.0127]            3\n",
      "(0.0127, 0.0142]            6\n",
      "(0.0142, 0.0158]            8\n",
      "Name: count, dtype: int64\n",
      "This variable's IV is: 0.0024219962214304678\n",
      "gp_inc\n",
      "low       8996\n",
      "high      8244\n",
      "medium    7894\n",
      "NULL         0\n",
      "Name: count, dtype: int64\n",
      "  Variable   Value   All  Good  Bad     Share  Bad Rate  Distribution Good  \\\n",
      "0   gp_inc    high  8244  8096  148  0.328002  0.017952           0.327614   \n",
      "1   gp_inc     low  8996  8849  147  0.357922  0.016341           0.358085   \n",
      "2   gp_inc  medium  7894  7767  127  0.314077  0.016088           0.314301   \n",
      "\n",
      "   Distribution Bad       WoE        IV  \n",
      "0          0.350711 -0.068126  0.001573  \n",
      "1          0.348341  0.027588  0.000269  \n",
      "2          0.300948  0.043413  0.000580  \n"
     ]
    },
    {
     "data": {
      "image/png": "[encoded data removed]",
      "text/plain": [
       "<Figure size 640x480 with 1 Axes>"
      ]
     },
     "metadata": {},
     "output_type": "display_data"
    }
   ],
   "source": [
    "# Convert 'INCOME TOTAL' to numeric and normalize\n",
    "new_data['INCOME TOTAL'] = new_data['INCOME TOTAL'].astype(float) / 10000\n",
    "\n",
    "# Print distribution\n",
    "print(new_data['INCOME TOTAL'].value_counts(bins=10, sort=False))\n",
    "\n",
    "# Plot histogram\n",
    "new_data['INCOME TOTAL'].plot(kind='hist', bins=50, density=True)\n",
    "\n",
    "# Create categories using pd.qcut\n",
    "new_data['gp_inc'] = pd.qcut(\n",
    "    new_data['INCOME TOTAL'], \n",
    "    q=3,  # Quantiles\n",
    "    labels=[\"low\", \"medium\", \"high\"]\n",
    ")\n",
    "\n",
    "# Add 'NULL' as a category to avoid errors when filling NaNs\n",
    "new_data['gp_inc'] = new_data['gp_inc'].cat.add_categories(\"NULL\").fillna(\"NULL\")\n",
    "\n",
    "# Calculate IV\n",
    "iv, data = calc_iv(new_data, 'gp_inc', 'target')\n",
    "\n",
    "# Update IV table\n",
    "ivtable.loc[ivtable['variable'] == 'INCOME TOTAL', 'IV'] = iv\n",
    "\n",
    "# Print results\n",
    "print(data.head())"
   ]
  },
  {
   "cell_type": "code",
   "execution_count": 51,
   "metadata": {},
   "outputs": [],
   "source": [
    "new_data = convert_dummy(new_data,'gp_inc')"
   ]
  },
  {
   "cell_type": "code",
   "execution_count": 52,
   "metadata": {},
   "outputs": [
    {
     "name": "stdout",
     "output_type": "stream",
     "text": [
      "(19.951999999999998, 24.7]    0.025066\n",
      "(24.7, 29.4]                  0.134280\n",
      "(29.4, 34.1]                  0.169770\n",
      "(34.1, 38.8]                  0.140805\n",
      "(38.8, 43.5]                  0.173072\n",
      "(43.5, 48.2]                  0.141880\n",
      "(48.2, 52.9]                  0.099069\n",
      "(52.9, 57.6]                  0.076550\n",
      "(57.6, 62.3]                  0.032585\n",
      "(62.3, 67.0]                  0.006923\n",
      "Name: proportion, dtype: float64\n",
      "This variable's IV is: 0.02629018578075899\n",
      "gp_Age\n",
      "lowest     5634\n",
      "low        5267\n",
      "high       4992\n",
      "highest    4794\n",
      "medium     4447\n",
      "NULL          0\n",
      "Name: count, dtype: int64\n",
      "IV Data for gp_Age:\n",
      "     Value  Good  Bad       WoE        IV\n",
      "0     high  4909   83  0.009946  0.000020\n",
      "1  highest  4713   81 -0.006408  0.000008\n",
      "2      low  5200   67  0.281682  0.014551\n",
      "3   lowest  5517  117 -0.216623  0.011698\n",
      "4   medium  4373   74  0.009101  0.000015\n",
      "            variable        IV\n",
      "3         OWN REALTY  0.027441\n",
      "10  DAYS SINCE BIRTH   0.02629\n",
      "1             GENDER  0.025204\n",
      "5       INCOME TOTAL  0.002422\n",
      "12        WORK PHONE  0.002042\n",
      "4           CHILDREN  0.001121\n",
      "13             PHONE  0.000548\n",
      "14             EMAIL  0.000017\n",
      "2            OWN CAR  0.000005\n",
      "0                _id      None\n",
      "6        INCOME TYPE      None\n",
      "7     EDUCATION TYPE      None\n",
      "8      FAMILY STATUS      None\n",
      "9       HOUSING TYPE      None\n",
      "11     DAYS EMPLOYED      None\n",
      "15       FAM MEMBERS      None\n",
      "16              TYPE      None\n"
     ]
    },
    {
     "data": {
      "image/png": "[encoded data removed]",
      "text/plain": [
       "<Figure size 640x480 with 1 Axes>"
      ]
     },
     "metadata": {},
     "output_type": "display_data"
    }
   ],
   "source": [
    "# Calculate Age\n",
    "new_data['Age'] = -(new_data['DAYS SINCE BIRTH']) // 365\n",
    "\n",
    "# Check distribution of Age\n",
    "print(new_data['Age'].value_counts(bins=10, normalize=True, sort=False))\n",
    "new_data['Age'].plot(kind='hist', bins=20, density=True)\n",
    "\n",
    "# Step 1: Create age categories\n",
    "new_data['gp_Age'] = pd.qcut(\n",
    "    new_data['Age'],\n",
    "    q=5,  # Number of quantiles\n",
    "    labels=[\"lowest\", \"low\", \"medium\", \"high\", \"highest\"]\n",
    ")\n",
    "\n",
    "# Step 2: Calculate IV for 'gp_Age'\n",
    "iv, data = calc_iv(new_data, 'gp_Age', 'target')\n",
    "print(\"IV Data for gp_Age:\")\n",
    "print(data[['Value', 'Good', 'Bad', 'WoE', 'IV']])\n",
    "\n",
    "# Step 3: Update the IV table for 'DAYS SINCE BIRTH'\n",
    "if 'DAYS SINCE BIRTH' not in ivtable['variable'].values:\n",
    "    # Append a new row for DAYS SINCE BIRTH if it does not exist\n",
    "    new_row = pd.DataFrame({'variable': ['DAYS SINCE BIRTH'], 'IV': [0]})\n",
    "    ivtable = pd.concat([ivtable, new_row], ignore_index=True)\n",
    "\n",
    "# Update the IV value for DAYS SINCE BIRTH\n",
    "ivtable.loc[ivtable['variable'] == 'DAYS SINCE BIRTH', 'IV'] = iv\n",
    "\n",
    "# Step 4: Convert 'gp_Age' to dummy variables\n",
    "new_data = convert_dummy(new_data, 'gp_Age')\n",
    "\n",
    "# Step 5: Sort and display the IV table\n",
    "ivtable = ivtable.sort_values(by='IV', ascending=False)\n",
    "print(ivtable)\n"
   ]
  },
  {
   "cell_type": "markdown",
   "metadata": {},
   "source": [
    "Family Size"
   ]
  },
  {
   "cell_type": "code",
   "execution_count": 54,
   "metadata": {},
   "outputs": [
    {
     "name": "stdout",
     "output_type": "stream",
     "text": [
      "This variable's IV is: 0.10363020918883244\n",
      "gp_worktm\n",
      "lowest     18254\n",
      "low         4987\n",
      "medium      1378\n",
      "high         425\n",
      "highest       90\n",
      "Name: count, dtype: int64\n",
      "IV Data for gp_worktm:\n",
      "     Value   Good  Bad        WoE        IV\n",
      "0     high    423    2   1.284186  0.015895\n",
      "1  highest     90    0  17.410616  0.063409\n",
      "2      low   4921   66   0.241573  0.010324\n",
      "3   lowest  17916  338  -0.099635  0.007568\n",
      "4   medium   1362   16   0.374082  0.006434\n",
      "            variable        IV\n",
      "11     DAYS EMPLOYED   0.10363\n",
      "3         OWN REALTY  0.027441\n",
      "10  DAYS SINCE BIRTH   0.02629\n",
      "1             GENDER  0.025204\n",
      "5       INCOME TOTAL  0.002422\n",
      "12        WORK PHONE  0.002042\n",
      "4           CHILDREN  0.001121\n",
      "13             PHONE  0.000548\n",
      "14             EMAIL  0.000017\n",
      "2            OWN CAR  0.000005\n",
      "0                _id      None\n",
      "6        INCOME TYPE      None\n",
      "7     EDUCATION TYPE      None\n",
      "8      FAMILY STATUS      None\n",
      "9       HOUSING TYPE      None\n",
      "15       FAM MEMBERS      None\n",
      "16              TYPE      None\n"
     ]
    }
   ],
   "source": [
    "# Step 1: Create work experience categories for 'DAYS_EMPLOYED'\n",
    "new_data['worktm'] = -(new_data['DAYS EMPLOYED']) // 365\n",
    "new_data.loc[new_data['worktm'] < 0, 'worktm'] = np.nan\n",
    "new_data['worktm'] = new_data['worktm'].fillna(new_data['worktm'].mean())\n",
    "new_data = get_category(new_data, 'worktm', 5, [\"lowest\", \"low\", \"medium\", \"high\", \"highest\"])\n",
    "\n",
    "# Step 2: Calculate IV for gp_worktm\n",
    "iv, data = calc_iv(new_data, 'gp_worktm', 'target')\n",
    "print(\"IV Data for gp_worktm:\")\n",
    "print(data[['Value', 'Good', 'Bad', 'WoE', 'IV']])\n",
    "\n",
    "# Step 3: Update the IV table for DAYS_EMPLOYED\n",
    "if 'DAYS EMPLOYED' not in ivtable['variable'].values:\n",
    "    new_row = pd.DataFrame({'variable': ['DAYS EMPLOYED'], 'IV': [0]})\n",
    "    ivtable = pd.concat([ivtable, new_row], ignore_index=True)\n",
    "ivtable.loc[ivtable['variable'] == 'DAYS EMPLOYED', 'IV'] = iv\n",
    "\n",
    "# Step 4: Convert gp_worktm to dummy variables\n",
    "new_data = convert_dummy(new_data, 'gp_worktm')\n",
    "\n",
    "# Step 5: Sort and display IV table\n",
    "ivtable = ivtable.sort_values(by='IV', ascending=False)\n",
    "print(ivtable)\n"
   ]
  },
  {
   "cell_type": "code",
   "execution_count": 55,
   "metadata": {},
   "outputs": [
    {
     "data": {
      "text/plain": [
       "FAM MEMBERS\n",
       "2.0     12697\n",
       "1.0      4263\n",
       "5.0       307\n",
       "3.0      5216\n",
       "4.0      2576\n",
       "6.0        51\n",
       "15.0        3\n",
       "7.0        18\n",
       "20.0        1\n",
       "9.0         2\n",
       "Name: count, dtype: int64"
      ]
     },
     "execution_count": 55,
     "metadata": {},
     "output_type": "execute_result"
    }
   ],
   "source": [
    "new_data['FAM MEMBERS'].value_counts(sort=False)"
   ]
  },
  {
   "cell_type": "code",
   "execution_count": 56,
   "metadata": {},
   "outputs": [
    {
     "name": "stdout",
     "output_type": "stream",
     "text": [
      "This variable's IV is: 0.006156138507747443\n",
      "FAM MEMBERS GP\n",
      "2        12697\n",
      "3more     8174\n",
      "1         4263\n",
      "Name: count, dtype: int64\n",
      "         Variable  Value    All   Good  Bad     Share  Bad Rate  \\\n",
      "0  FAM MEMBERS GP      1   4263   4179   84  0.169611  0.019704   \n",
      "1  FAM MEMBERS GP      2  12697  12489  208  0.505172  0.016382   \n",
      "2  FAM MEMBERS GP  3more   8174   8044  130  0.325217  0.015904   \n",
      "\n",
      "   Distribution Good  Distribution Bad       WoE        IV  \n",
      "0           0.169108          0.199052 -0.163028  0.004882  \n",
      "1           0.505382          0.492891  0.025027  0.000313  \n",
      "2           0.325510          0.308057  0.055108  0.000962  \n"
     ]
    }
   ],
   "source": [
    "# Replace NaN or inf values in 'FAM MEMBERS' with a default value (e.g., 0) or handle them\n",
    "new_data['FAM MEMBERS'] = new_data['FAM MEMBERS'].fillna(0).replace([np.inf, -np.inf], 0).astype(int)\n",
    "\n",
    "# Create a new grouped column for 'FAM MEMBERS'\n",
    "new_data['FAM MEMBERS GP'] = new_data['FAM MEMBERS'].astype(object)\n",
    "\n",
    "# Group families with 3 or more members into a single category\n",
    "new_data.loc[new_data['FAM MEMBERS GP'] >= 3, 'FAM MEMBERS GP'] = '3more'\n",
    "\n",
    "# Calculate IV for 'FAM MEMBERS GP'\n",
    "iv, data = calc_iv(new_data, 'FAM MEMBERS GP', 'target')\n",
    "\n",
    "# Update IV table for 'FAM MEMBERS'\n",
    "ivtable.loc[ivtable['variable'] == 'FAM MEMBERS', 'IV'] = iv\n",
    "\n",
    "# Display the first few rows of the IV DataFrame\n",
    "print(data.head())"
   ]
  },
  {
   "cell_type": "code",
   "execution_count": 57,
   "metadata": {},
   "outputs": [],
   "source": [
    "new_data = convert_dummy(new_data,'FAM MEMBERS GP')"
   ]
  },
  {
   "cell_type": "code",
   "execution_count": 58,
   "metadata": {},
   "outputs": [
    {
     "name": "stdout",
     "output_type": "stream",
     "text": [
      "Index(['_id', 'ID', 'GENDER', 'OWN CAR', 'OWN REALTY', 'INCOME TOTAL',\n",
      "       'INCOME TYPE', 'EDUCATION TYPE', 'FAMILY STATUS', 'HOUSING TYPE',\n",
      "       'DAYS SINCE BIRTH', 'DAYS EMPLOYED', 'MOBIL', 'WORK PHONE', 'PHONE',\n",
      "       'EMAIL', 'FAM MEMBERS', 'TYPE', 'begin_month', 'past_due', 'target',\n",
      "       'CHILDREN_1', 'CHILDREN_2More', 'gp_inc_medium', 'gp_inc_high',\n",
      "       'gp_inc_NULL', 'Age', 'gp_Age_low', 'gp_Age_medium', 'gp_Age_high',\n",
      "       'gp_Age_highest', 'gp_Age_NULL', 'worktm', 'gp_worktm_high',\n",
      "       'gp_worktm_highest', 'gp_worktm_low', 'gp_worktm_medium',\n",
      "       'FAM MEMBERS GP_1', 'FAM MEMBERS GP_3more'],\n",
      "      dtype='object')\n"
     ]
    }
   ],
   "source": [
    "print(new_data.columns)\n"
   ]
  },
  {
   "cell_type": "markdown",
   "metadata": {},
   "source": [
    "Income Type"
   ]
  },
  {
   "cell_type": "code",
   "execution_count": 60,
   "metadata": {},
   "outputs": [
    {
     "name": "stdout",
     "output_type": "stream",
     "text": [
      "Value counts (unsorted):\n",
      "INCOME TYPE\n",
      "Working                 15622\n",
      "Commercial associate     7052\n",
      "State servant            2437\n",
      "Student                    10\n",
      "Pensioner                  13\n",
      "Name: count, dtype: int64\n",
      "Normalized value counts (unsorted):\n",
      "INCOME TYPE\n",
      "Working                 0.621549\n",
      "Commercial associate    0.280576\n",
      "State servant           0.096960\n",
      "Student                 0.000398\n",
      "Pensioner               0.000517\n",
      "Name: proportion, dtype: float64\n",
      "This variable's IV is: 5.159303324442013e-05\n",
      "INCOME TYPE\n",
      "Working                 15622\n",
      "Commercial associate     7052\n",
      "State servant            2460\n",
      "Name: count, dtype: int64\n",
      "First few rows of data after IV calculation:\n",
      "      Variable                 Value    All   Good  Bad     Share  Bad Rate  \\\n",
      "0  INCOME TYPE  Commercial associate   7052   6933  119  0.280576  0.016875   \n",
      "1  INCOME TYPE         State servant   2460   2418   42  0.097875  0.017073   \n",
      "2  INCOME TYPE               Working  15622  15361  261  0.621549  0.016707   \n",
      "\n",
      "   Distribution Good  Distribution Bad       WoE        IV  \n",
      "0           0.280552          0.281991 -0.005115  0.000007  \n",
      "1           0.097847          0.099526 -0.017013  0.000029  \n",
      "2           0.621601          0.618483  0.005028  0.000016  \n"
     ]
    }
   ],
   "source": [
    "# Display value counts for 'INCOME TYPE' without sorting\n",
    "income_type_counts = new_data['INCOME TYPE'].value_counts(sort=False)\n",
    "print(\"Value counts (unsorted):\")\n",
    "print(income_type_counts)\n",
    "\n",
    "# Display normalized value counts for 'INCOME TYPE' without sorting\n",
    "income_type_normalized_counts = new_data['INCOME TYPE'].value_counts(normalize=True, sort=False)\n",
    "print(\"Normalized value counts (unsorted):\")\n",
    "print(income_type_normalized_counts)\n",
    "\n",
    "# Consolidate categories for 'INCOME TYPE'\n",
    "new_data['INCOME TYPE'] = new_data['INCOME TYPE'].replace({'Pensioner': 'State servant', 'Student': 'State servant'})\n",
    "\n",
    "# Calculate IV for 'INCOME TYPE'\n",
    "iv, data = calc_iv(new_data, 'INCOME TYPE', 'target')\n",
    "\n",
    "# Update the IV table\n",
    "ivtable.loc[ivtable['variable'] == 'INCOME TYPE', 'IV'] = iv\n",
    "\n",
    "# Display the first few rows of the resulting data\n",
    "print(\"First few rows of data after IV calculation:\")\n",
    "print(data.head())\n"
   ]
  },
  {
   "cell_type": "code",
   "execution_count": 61,
   "metadata": {},
   "outputs": [],
   "source": [
    "new_data = convert_dummy(new_data,'INCOME TYPE')"
   ]
  },
  {
   "cell_type": "code",
   "execution_count": 62,
   "metadata": {},
   "outputs": [
    {
     "name": "stdout",
     "output_type": "stream",
     "text": [
      "TYPE\n",
      "Laborwk      10496\n",
      "officewk     10183\n",
      "hightecwk     4455\n",
      "Name: count, dtype: int64\n",
      "This variable's IV is: 0.004820472061388942\n",
      "TYPE\n",
      "Laborwk      10496\n",
      "officewk     10183\n",
      "hightecwk     4455\n",
      "Name: count, dtype: int64\n",
      "  Variable      Value    All   Good  Bad     Share  Bad Rate  \\\n",
      "0     TYPE    Laborwk  10496  10311  185  0.417602  0.017626   \n",
      "1     TYPE  hightecwk   4455   4375   80  0.177250  0.017957   \n",
      "2     TYPE   officewk  10183  10026  157  0.405148  0.015418   \n",
      "\n",
      "   Distribution Good  Distribution Bad       WoE        IV  \n",
      "0           0.417247          0.438389 -0.049428  0.001045  \n",
      "1           0.177039          0.189573 -0.068404  0.000857  \n",
      "2           0.405714          0.372038  0.086652  0.002918  \n"
     ]
    }
   ],
   "source": [
    "# Group occupations into broader categories\n",
    "new_data.loc[(new_data['TYPE'] == 'Cleaning staff') | \n",
    "             (new_data['TYPE'] == 'Cooking staff') | \n",
    "             (new_data['TYPE'] == 'Drivers') | \n",
    "             (new_data['TYPE'] == 'Laborers') | \n",
    "             (new_data['TYPE'] == 'Low-skill Laborers') | \n",
    "             (new_data['TYPE'] == 'Security staff') | \n",
    "             (new_data['TYPE'] == 'Waiters/barmen staff'), 'TYPE'] = 'Laborwk'\n",
    "\n",
    "new_data.loc[(new_data['TYPE'] == 'Accountants') | \n",
    "             (new_data['TYPE'] == 'Core staff') | \n",
    "             (new_data['TYPE'] == 'HR staff') | \n",
    "             (new_data['TYPE'] == 'Medicine staff') | \n",
    "             (new_data['TYPE'] == 'Private service staff') | \n",
    "             (new_data['TYPE'] == 'Realty agents') | \n",
    "             (new_data['TYPE'] == 'Sales staff') | \n",
    "             (new_data['TYPE'] == 'Secretaries'), 'TYPE'] = 'officewk'\n",
    "\n",
    "new_data.loc[(new_data['TYPE'] == 'Managers') | \n",
    "             (new_data['TYPE'] == 'High skill tech staff') | \n",
    "             (new_data['TYPE'] == 'IT staff'), 'TYPE'] = 'hightecwk'\n",
    "\n",
    "# Print the value counts for the TYPE column\n",
    "print(new_data['TYPE'].value_counts())\n",
    "\n",
    "# Calculate IV for 'TYPE'\n",
    "iv, data = calc_iv(new_data, 'TYPE', 'target')\n",
    "\n",
    "# Update the IV table for 'TYPE'\n",
    "ivtable.loc[ivtable['variable'] == 'TYPE', 'IV'] = iv\n",
    "\n",
    "# Display the first few rows of the IV DataFrame\n",
    "print(data.head())\n"
   ]
  },
  {
   "cell_type": "code",
   "execution_count": 63,
   "metadata": {},
   "outputs": [],
   "source": [
    "new_data = convert_dummy(new_data,'TYPE')"
   ]
  },
  {
   "cell_type": "markdown",
   "metadata": {},
   "source": [
    "House Type"
   ]
  },
  {
   "cell_type": "code",
   "execution_count": 65,
   "metadata": {},
   "outputs": [
    {
     "name": "stdout",
     "output_type": "stream",
     "text": [
      "This variable's IV is: 0.007327502651951503\n",
      "HOUSING TYPE\n",
      "House / apartment      22102\n",
      "With parents            1430\n",
      "Municipal apartment      812\n",
      "Rented apartment         439\n",
      "Office apartment         199\n",
      "Co-op apartment          152\n",
      "Name: count, dtype: int64\n"
     ]
    },
    {
     "data": {
      "text/html": [
       "<div>\n",
       "<style scoped>\n",
       "    .dataframe tbody tr th:only-of-type {\n",
       "        vertical-align: middle;\n",
       "    }\n",
       "\n",
       "    .dataframe tbody tr th {\n",
       "        vertical-align: top;\n",
       "    }\n",
       "\n",
       "    .dataframe thead th {\n",
       "        text-align: right;\n",
       "    }\n",
       "</style>\n",
       "<table border=\"1\" class=\"dataframe\">\n",
       "  <thead>\n",
       "    <tr style=\"text-align: right;\">\n",
       "      <th></th>\n",
       "      <th>Variable</th>\n",
       "      <th>Value</th>\n",
       "      <th>All</th>\n",
       "      <th>Good</th>\n",
       "      <th>Bad</th>\n",
       "      <th>Share</th>\n",
       "      <th>Bad Rate</th>\n",
       "      <th>Distribution Good</th>\n",
       "      <th>Distribution Bad</th>\n",
       "      <th>WoE</th>\n",
       "      <th>IV</th>\n",
       "    </tr>\n",
       "  </thead>\n",
       "  <tbody>\n",
       "    <tr>\n",
       "      <th>0</th>\n",
       "      <td>HOUSING TYPE</td>\n",
       "      <td>Co-op apartment</td>\n",
       "      <td>152</td>\n",
       "      <td>149</td>\n",
       "      <td>3</td>\n",
       "      <td>0.006048</td>\n",
       "      <td>0.019737</td>\n",
       "      <td>0.006029</td>\n",
       "      <td>0.007109</td>\n",
       "      <td>-0.164705</td>\n",
       "      <td>0.000178</td>\n",
       "    </tr>\n",
       "    <tr>\n",
       "      <th>1</th>\n",
       "      <td>HOUSING TYPE</td>\n",
       "      <td>House / apartment</td>\n",
       "      <td>22102</td>\n",
       "      <td>21738</td>\n",
       "      <td>364</td>\n",
       "      <td>0.879367</td>\n",
       "      <td>0.016469</td>\n",
       "      <td>0.879654</td>\n",
       "      <td>0.862559</td>\n",
       "      <td>0.019624</td>\n",
       "      <td>0.000335</td>\n",
       "    </tr>\n",
       "    <tr>\n",
       "      <th>2</th>\n",
       "      <td>HOUSING TYPE</td>\n",
       "      <td>Municipal apartment</td>\n",
       "      <td>812</td>\n",
       "      <td>793</td>\n",
       "      <td>19</td>\n",
       "      <td>0.032307</td>\n",
       "      <td>0.023399</td>\n",
       "      <td>0.032090</td>\n",
       "      <td>0.045024</td>\n",
       "      <td>-0.338655</td>\n",
       "      <td>0.004380</td>\n",
       "    </tr>\n",
       "    <tr>\n",
       "      <th>3</th>\n",
       "      <td>HOUSING TYPE</td>\n",
       "      <td>Office apartment</td>\n",
       "      <td>199</td>\n",
       "      <td>194</td>\n",
       "      <td>5</td>\n",
       "      <td>0.007918</td>\n",
       "      <td>0.025126</td>\n",
       "      <td>0.007850</td>\n",
       "      <td>0.011848</td>\n",
       "      <td>-0.411619</td>\n",
       "      <td>0.001646</td>\n",
       "    </tr>\n",
       "    <tr>\n",
       "      <th>4</th>\n",
       "      <td>HOUSING TYPE</td>\n",
       "      <td>Rented apartment</td>\n",
       "      <td>439</td>\n",
       "      <td>433</td>\n",
       "      <td>6</td>\n",
       "      <td>0.017466</td>\n",
       "      <td>0.013667</td>\n",
       "      <td>0.017522</td>\n",
       "      <td>0.014218</td>\n",
       "      <td>0.208939</td>\n",
       "      <td>0.000690</td>\n",
       "    </tr>\n",
       "  </tbody>\n",
       "</table>\n",
       "</div>"
      ],
      "text/plain": [
       "       Variable                Value    All   Good  Bad     Share  Bad Rate  \\\n",
       "0  HOUSING TYPE      Co-op apartment    152    149    3  0.006048  0.019737   \n",
       "1  HOUSING TYPE    House / apartment  22102  21738  364  0.879367  0.016469   \n",
       "2  HOUSING TYPE  Municipal apartment    812    793   19  0.032307  0.023399   \n",
       "3  HOUSING TYPE     Office apartment    199    194    5  0.007918  0.025126   \n",
       "4  HOUSING TYPE     Rented apartment    439    433    6  0.017466  0.013667   \n",
       "\n",
       "   Distribution Good  Distribution Bad       WoE        IV  \n",
       "0           0.006029          0.007109 -0.164705  0.000178  \n",
       "1           0.879654          0.862559  0.019624  0.000335  \n",
       "2           0.032090          0.045024 -0.338655  0.004380  \n",
       "3           0.007850          0.011848 -0.411619  0.001646  \n",
       "4           0.017522          0.014218  0.208939  0.000690  "
      ]
     },
     "execution_count": 65,
     "metadata": {},
     "output_type": "execute_result"
    }
   ],
   "source": [
    "iv, data=calc_iv(new_data,'HOUSING TYPE','target')\n",
    "ivtable.loc[ivtable['variable']=='HOUSING TYPE','IV']=iv\n",
    "data.head()"
   ]
  },
  {
   "cell_type": "markdown",
   "metadata": {},
   "source": [
    "Education"
   ]
  },
  {
   "cell_type": "code",
   "execution_count": 67,
   "metadata": {},
   "outputs": [
    {
     "name": "stdout",
     "output_type": "stream",
     "text": [
      "This variable's IV is: 0.01036179396573589\n",
      "EDUCATION TYPE\n",
      "Secondary / secondary special    16808\n",
      "Higher education                  7146\n",
      "Incomplete higher                  993\n",
      "Lower secondary                    187\n",
      "Name: count, dtype: int64\n",
      "First few rows of data after IV calculation:\n",
      "         Variable                          Value    All   Good  Bad     Share  \\\n",
      "0  EDUCATION TYPE               Higher education   7146   7018  128  0.284316   \n",
      "1  EDUCATION TYPE              Incomplete higher    993    972   21  0.039508   \n",
      "2  EDUCATION TYPE                Lower secondary    187    181    6  0.007440   \n",
      "3  EDUCATION TYPE  Secondary / secondary special  16808  16541  267  0.668736   \n",
      "\n",
      "   Bad Rate  Distribution Good  Distribution Bad       WoE        IV  \n",
      "0  0.017912           0.283992          0.303318 -0.065836  0.001272  \n",
      "1  0.021148           0.039333          0.049763 -0.235206  0.002453  \n",
      "2  0.032086           0.007324          0.014218 -0.663301  0.004573  \n",
      "3  0.015885           0.669351          0.632701  0.056310  0.002064  \n"
     ]
    }
   ],
   "source": [
    "# Consolidate categories for 'EDUCATION TYPE'\n",
    "new_data.loc[new_data['EDUCATION TYPE'] == 'Academic degree', 'EDUCATION TYPE'] = 'Higher education'\n",
    "\n",
    "# Calculate IV for 'EDUCATION TYPE'\n",
    "iv, data = calc_iv(new_data, 'EDUCATION TYPE', 'target')\n",
    "\n",
    "# Update the IV table\n",
    "ivtable.loc[ivtable['variable'] == 'EDUCATION TYPE', 'IV'] = iv\n",
    "\n",
    "# Display the first few rows of the resulting data\n",
    "print(\"First few rows of data after IV calculation:\")\n",
    "print(data.head())\n"
   ]
  },
  {
   "cell_type": "code",
   "execution_count": 68,
   "metadata": {},
   "outputs": [],
   "source": [
    "new_data = convert_dummy(new_data,'EDUCATION TYPE')"
   ]
  },
  {
   "cell_type": "markdown",
   "metadata": {},
   "source": [
    "Marriage Condition"
   ]
  },
  {
   "cell_type": "code",
   "execution_count": 70,
   "metadata": {},
   "outputs": [
    {
     "name": "stdout",
     "output_type": "stream",
     "text": [
      "Normalized value counts (unsorted):\n",
      "FAMILY STATUS\n",
      "Married                 0.696626\n",
      "Single / not married    0.137065\n",
      "Civil marriage          0.084865\n",
      "Separated               0.058367\n",
      "Widow                   0.023076\n",
      "Name: proportion, dtype: float64\n"
     ]
    }
   ],
   "source": [
    "# Display normalized value counts for 'FAMILY STATUS' without sorting\n",
    "family_status_normalized_counts = new_data['FAMILY STATUS'].value_counts(normalize=True, sort=False)\n",
    "\n",
    "# Print the results\n",
    "print(\"Normalized value counts (unsorted):\")\n",
    "print(family_status_normalized_counts)\n"
   ]
  },
  {
   "cell_type": "code",
   "execution_count": 71,
   "metadata": {},
   "outputs": [
    {
     "name": "stdout",
     "output_type": "stream",
     "text": [
      "This variable's IV is: 0.04313711536211955\n",
      "FAMILY STATUS\n",
      "Married                 17509\n",
      "Single / not married     3445\n",
      "Civil marriage           2133\n",
      "Separated                1467\n",
      "Widow                     580\n",
      "Name: count, dtype: int64\n"
     ]
    },
    {
     "data": {
      "text/html": [
       "<div>\n",
       "<style scoped>\n",
       "    .dataframe tbody tr th:only-of-type {\n",
       "        vertical-align: middle;\n",
       "    }\n",
       "\n",
       "    .dataframe tbody tr th {\n",
       "        vertical-align: top;\n",
       "    }\n",
       "\n",
       "    .dataframe thead th {\n",
       "        text-align: right;\n",
       "    }\n",
       "</style>\n",
       "<table border=\"1\" class=\"dataframe\">\n",
       "  <thead>\n",
       "    <tr style=\"text-align: right;\">\n",
       "      <th></th>\n",
       "      <th>Variable</th>\n",
       "      <th>Value</th>\n",
       "      <th>All</th>\n",
       "      <th>Good</th>\n",
       "      <th>Bad</th>\n",
       "      <th>Share</th>\n",
       "      <th>Bad Rate</th>\n",
       "      <th>Distribution Good</th>\n",
       "      <th>Distribution Bad</th>\n",
       "      <th>WoE</th>\n",
       "      <th>IV</th>\n",
       "    </tr>\n",
       "  </thead>\n",
       "  <tbody>\n",
       "    <tr>\n",
       "      <th>0</th>\n",
       "      <td>FAMILY STATUS</td>\n",
       "      <td>Civil marriage</td>\n",
       "      <td>2133</td>\n",
       "      <td>2101</td>\n",
       "      <td>32</td>\n",
       "      <td>0.084865</td>\n",
       "      <td>0.015002</td>\n",
       "      <td>0.085019</td>\n",
       "      <td>0.075829</td>\n",
       "      <td>0.114394</td>\n",
       "      <td>0.001051</td>\n",
       "    </tr>\n",
       "    <tr>\n",
       "      <th>1</th>\n",
       "      <td>FAMILY STATUS</td>\n",
       "      <td>Married</td>\n",
       "      <td>17509</td>\n",
       "      <td>17232</td>\n",
       "      <td>277</td>\n",
       "      <td>0.696626</td>\n",
       "      <td>0.015820</td>\n",
       "      <td>0.697313</td>\n",
       "      <td>0.656398</td>\n",
       "      <td>0.060467</td>\n",
       "      <td>0.002474</td>\n",
       "    </tr>\n",
       "    <tr>\n",
       "      <th>2</th>\n",
       "      <td>FAMILY STATUS</td>\n",
       "      <td>Separated</td>\n",
       "      <td>1467</td>\n",
       "      <td>1452</td>\n",
       "      <td>15</td>\n",
       "      <td>0.058367</td>\n",
       "      <td>0.010225</td>\n",
       "      <td>0.058757</td>\n",
       "      <td>0.035545</td>\n",
       "      <td>0.502608</td>\n",
       "      <td>0.011666</td>\n",
       "    </tr>\n",
       "    <tr>\n",
       "      <th>3</th>\n",
       "      <td>FAMILY STATUS</td>\n",
       "      <td>Single / not married</td>\n",
       "      <td>3445</td>\n",
       "      <td>3362</td>\n",
       "      <td>83</td>\n",
       "      <td>0.137065</td>\n",
       "      <td>0.024093</td>\n",
       "      <td>0.136047</td>\n",
       "      <td>0.196682</td>\n",
       "      <td>-0.368588</td>\n",
       "      <td>0.022349</td>\n",
       "    </tr>\n",
       "    <tr>\n",
       "      <th>4</th>\n",
       "      <td>FAMILY STATUS</td>\n",
       "      <td>Widow</td>\n",
       "      <td>580</td>\n",
       "      <td>565</td>\n",
       "      <td>15</td>\n",
       "      <td>0.023076</td>\n",
       "      <td>0.025862</td>\n",
       "      <td>0.022863</td>\n",
       "      <td>0.035545</td>\n",
       "      <td>-0.441263</td>\n",
       "      <td>0.005596</td>\n",
       "    </tr>\n",
       "  </tbody>\n",
       "</table>\n",
       "</div>"
      ],
      "text/plain": [
       "        Variable                 Value    All   Good  Bad     Share  Bad Rate  \\\n",
       "0  FAMILY STATUS        Civil marriage   2133   2101   32  0.084865  0.015002   \n",
       "1  FAMILY STATUS               Married  17509  17232  277  0.696626  0.015820   \n",
       "2  FAMILY STATUS             Separated   1467   1452   15  0.058367  0.010225   \n",
       "3  FAMILY STATUS  Single / not married   3445   3362   83  0.137065  0.024093   \n",
       "4  FAMILY STATUS                 Widow    580    565   15  0.023076  0.025862   \n",
       "\n",
       "   Distribution Good  Distribution Bad       WoE        IV  \n",
       "0           0.085019          0.075829  0.114394  0.001051  \n",
       "1           0.697313          0.656398  0.060467  0.002474  \n",
       "2           0.058757          0.035545  0.502608  0.011666  \n",
       "3           0.136047          0.196682 -0.368588  0.022349  \n",
       "4           0.022863          0.035545 -0.441263  0.005596  "
      ]
     },
     "execution_count": 71,
     "metadata": {},
     "output_type": "execute_result"
    }
   ],
   "source": [
    "iv, data=calc_iv(new_data,'FAMILY STATUS','target')\n",
    "ivtable.loc[ivtable['variable']=='FAMILY STATUS','IV']=iv\n",
    "data.head()"
   ]
  },
  {
   "cell_type": "code",
   "execution_count": 72,
   "metadata": {},
   "outputs": [],
   "source": [
    "new_data = convert_dummy(new_data,'FAMILY STATUS')"
   ]
  },
  {
   "cell_type": "code",
   "execution_count": 73,
   "metadata": {},
   "outputs": [
    {
     "data": {
      "text/html": [
       "<div>\n",
       "<style scoped>\n",
       "    .dataframe tbody tr th:only-of-type {\n",
       "        vertical-align: middle;\n",
       "    }\n",
       "\n",
       "    .dataframe tbody tr th {\n",
       "        vertical-align: top;\n",
       "    }\n",
       "\n",
       "    .dataframe thead th {\n",
       "        text-align: right;\n",
       "    }\n",
       "</style>\n",
       "<table border=\"1\" class=\"dataframe\">\n",
       "  <thead>\n",
       "    <tr style=\"text-align: right;\">\n",
       "      <th></th>\n",
       "      <th>_id</th>\n",
       "      <th>ID</th>\n",
       "      <th>GENDER</th>\n",
       "      <th>OWN CAR</th>\n",
       "      <th>OWN REALTY</th>\n",
       "      <th>INCOME TOTAL</th>\n",
       "      <th>HOUSING TYPE</th>\n",
       "      <th>DAYS SINCE BIRTH</th>\n",
       "      <th>DAYS EMPLOYED</th>\n",
       "      <th>MOBIL</th>\n",
       "      <th>...</th>\n",
       "      <th>INCOME TYPE_State servant</th>\n",
       "      <th>TYPE_hightecwk</th>\n",
       "      <th>TYPE_officewk</th>\n",
       "      <th>EDUCATION TYPE_Higher education</th>\n",
       "      <th>EDUCATION TYPE_Incomplete higher</th>\n",
       "      <th>EDUCATION TYPE_Lower secondary</th>\n",
       "      <th>FAMILY STATUS_Civil marriage</th>\n",
       "      <th>FAMILY STATUS_Separated</th>\n",
       "      <th>FAMILY STATUS_Single / not married</th>\n",
       "      <th>FAMILY STATUS_Widow</th>\n",
       "    </tr>\n",
       "  </thead>\n",
       "  <tbody>\n",
       "    <tr>\n",
       "      <th>2</th>\n",
       "      <td>675f8698c31b872d695d0b00</td>\n",
       "      <td>5008806</td>\n",
       "      <td>1</td>\n",
       "      <td>1</td>\n",
       "      <td>1</td>\n",
       "      <td>0.001125</td>\n",
       "      <td>House / apartment</td>\n",
       "      <td>-21474</td>\n",
       "      <td>-1134</td>\n",
       "      <td>1</td>\n",
       "      <td>...</td>\n",
       "      <td>False</td>\n",
       "      <td>False</td>\n",
       "      <td>False</td>\n",
       "      <td>False</td>\n",
       "      <td>False</td>\n",
       "      <td>False</td>\n",
       "      <td>False</td>\n",
       "      <td>False</td>\n",
       "      <td>False</td>\n",
       "      <td>False</td>\n",
       "    </tr>\n",
       "    <tr>\n",
       "      <th>3</th>\n",
       "      <td>675f8698c31b872d695d0b01</td>\n",
       "      <td>5008808</td>\n",
       "      <td>0</td>\n",
       "      <td>0</td>\n",
       "      <td>1</td>\n",
       "      <td>0.002700</td>\n",
       "      <td>House / apartment</td>\n",
       "      <td>-19110</td>\n",
       "      <td>-3051</td>\n",
       "      <td>1</td>\n",
       "      <td>...</td>\n",
       "      <td>False</td>\n",
       "      <td>False</td>\n",
       "      <td>True</td>\n",
       "      <td>False</td>\n",
       "      <td>False</td>\n",
       "      <td>False</td>\n",
       "      <td>False</td>\n",
       "      <td>False</td>\n",
       "      <td>True</td>\n",
       "      <td>False</td>\n",
       "    </tr>\n",
       "    <tr>\n",
       "      <th>4</th>\n",
       "      <td>675f8698c31b872d695d0b02</td>\n",
       "      <td>5008809</td>\n",
       "      <td>0</td>\n",
       "      <td>0</td>\n",
       "      <td>1</td>\n",
       "      <td>0.002700</td>\n",
       "      <td>House / apartment</td>\n",
       "      <td>-19110</td>\n",
       "      <td>-3051</td>\n",
       "      <td>1</td>\n",
       "      <td>...</td>\n",
       "      <td>False</td>\n",
       "      <td>False</td>\n",
       "      <td>True</td>\n",
       "      <td>False</td>\n",
       "      <td>False</td>\n",
       "      <td>False</td>\n",
       "      <td>False</td>\n",
       "      <td>False</td>\n",
       "      <td>True</td>\n",
       "      <td>False</td>\n",
       "    </tr>\n",
       "    <tr>\n",
       "      <th>5</th>\n",
       "      <td>675f8698c31b872d695d0b03</td>\n",
       "      <td>5008810</td>\n",
       "      <td>0</td>\n",
       "      <td>0</td>\n",
       "      <td>1</td>\n",
       "      <td>0.002700</td>\n",
       "      <td>House / apartment</td>\n",
       "      <td>-19110</td>\n",
       "      <td>-3051</td>\n",
       "      <td>1</td>\n",
       "      <td>...</td>\n",
       "      <td>False</td>\n",
       "      <td>False</td>\n",
       "      <td>True</td>\n",
       "      <td>False</td>\n",
       "      <td>False</td>\n",
       "      <td>False</td>\n",
       "      <td>False</td>\n",
       "      <td>False</td>\n",
       "      <td>True</td>\n",
       "      <td>False</td>\n",
       "    </tr>\n",
       "    <tr>\n",
       "      <th>6</th>\n",
       "      <td>675f8698c31b872d695d0b04</td>\n",
       "      <td>5008811</td>\n",
       "      <td>0</td>\n",
       "      <td>0</td>\n",
       "      <td>1</td>\n",
       "      <td>0.002700</td>\n",
       "      <td>House / apartment</td>\n",
       "      <td>-19110</td>\n",
       "      <td>-3051</td>\n",
       "      <td>1</td>\n",
       "      <td>...</td>\n",
       "      <td>False</td>\n",
       "      <td>False</td>\n",
       "      <td>True</td>\n",
       "      <td>False</td>\n",
       "      <td>False</td>\n",
       "      <td>False</td>\n",
       "      <td>False</td>\n",
       "      <td>False</td>\n",
       "      <td>True</td>\n",
       "      <td>False</td>\n",
       "    </tr>\n",
       "  </tbody>\n",
       "</table>\n",
       "<p>5 rows × 46 columns</p>\n",
       "</div>"
      ],
      "text/plain": [
       "                        _id       ID  GENDER  OWN CAR  OWN REALTY  \\\n",
       "2  675f8698c31b872d695d0b00  5008806       1        1           1   \n",
       "3  675f8698c31b872d695d0b01  5008808       0        0           1   \n",
       "4  675f8698c31b872d695d0b02  5008809       0        0           1   \n",
       "5  675f8698c31b872d695d0b03  5008810       0        0           1   \n",
       "6  675f8698c31b872d695d0b04  5008811       0        0           1   \n",
       "\n",
       "   INCOME TOTAL       HOUSING TYPE  DAYS SINCE BIRTH  DAYS EMPLOYED  MOBIL  \\\n",
       "2      0.001125  House / apartment            -21474          -1134      1   \n",
       "3      0.002700  House / apartment            -19110          -3051      1   \n",
       "4      0.002700  House / apartment            -19110          -3051      1   \n",
       "5      0.002700  House / apartment            -19110          -3051      1   \n",
       "6      0.002700  House / apartment            -19110          -3051      1   \n",
       "\n",
       "   ... INCOME TYPE_State servant TYPE_hightecwk TYPE_officewk  \\\n",
       "2  ...                     False          False         False   \n",
       "3  ...                     False          False          True   \n",
       "4  ...                     False          False          True   \n",
       "5  ...                     False          False          True   \n",
       "6  ...                     False          False          True   \n",
       "\n",
       "   EDUCATION TYPE_Higher education  EDUCATION TYPE_Incomplete higher  \\\n",
       "2                            False                             False   \n",
       "3                            False                             False   \n",
       "4                            False                             False   \n",
       "5                            False                             False   \n",
       "6                            False                             False   \n",
       "\n",
       "  EDUCATION TYPE_Lower secondary  FAMILY STATUS_Civil marriage  \\\n",
       "2                          False                         False   \n",
       "3                          False                         False   \n",
       "4                          False                         False   \n",
       "5                          False                         False   \n",
       "6                          False                         False   \n",
       "\n",
       "   FAMILY STATUS_Separated  FAMILY STATUS_Single / not married  \\\n",
       "2                    False                               False   \n",
       "3                    False                                True   \n",
       "4                    False                                True   \n",
       "5                    False                                True   \n",
       "6                    False                                True   \n",
       "\n",
       "   FAMILY STATUS_Widow  \n",
       "2                False  \n",
       "3                False  \n",
       "4                False  \n",
       "5                False  \n",
       "6                False  \n",
       "\n",
       "[5 rows x 46 columns]"
      ]
     },
     "execution_count": 73,
     "metadata": {},
     "output_type": "execute_result"
    }
   ],
   "source": [
    "new_data.head()"
   ]
  },
  {
   "cell_type": "code",
   "execution_count": 74,
   "metadata": {},
   "outputs": [
    {
     "data": {
      "text/plain": [
       "Index(['_id', 'ID', 'GENDER', 'OWN CAR', 'OWN REALTY', 'INCOME TOTAL',\n",
       "       'HOUSING TYPE', 'DAYS SINCE BIRTH', 'DAYS EMPLOYED', 'MOBIL',\n",
       "       'WORK PHONE', 'PHONE', 'EMAIL', 'FAM MEMBERS', 'begin_month',\n",
       "       'past_due', 'target', 'CHILDREN_1', 'CHILDREN_2More', 'gp_inc_medium',\n",
       "       'gp_inc_high', 'gp_inc_NULL', 'Age', 'gp_Age_low', 'gp_Age_medium',\n",
       "       'gp_Age_high', 'gp_Age_highest', 'gp_Age_NULL', 'worktm',\n",
       "       'gp_worktm_high', 'gp_worktm_highest', 'gp_worktm_low',\n",
       "       'gp_worktm_medium', 'FAM MEMBERS GP_1', 'FAM MEMBERS GP_3more',\n",
       "       'INCOME TYPE_Commercial associate', 'INCOME TYPE_State servant',\n",
       "       'TYPE_hightecwk', 'TYPE_officewk', 'EDUCATION TYPE_Higher education',\n",
       "       'EDUCATION TYPE_Incomplete higher', 'EDUCATION TYPE_Lower secondary',\n",
       "       'FAMILY STATUS_Civil marriage', 'FAMILY STATUS_Separated',\n",
       "       'FAMILY STATUS_Single / not married', 'FAMILY STATUS_Widow'],\n",
       "      dtype='object')"
      ]
     },
     "execution_count": 74,
     "metadata": {},
     "output_type": "execute_result"
    }
   ],
   "source": [
    "new_data.columns"
   ]
  },
  {
   "cell_type": "code",
   "execution_count": 75,
   "metadata": {},
   "outputs": [
    {
     "name": "stderr",
     "output_type": "stream",
     "text": [
      "C:\\Users\\Administrator\\AppData\\Local\\Temp\\ipykernel_5500\\2078466997.py:1: FutureWarning: Downcasting object dtype arrays on .fillna, .ffill, .bfill is deprecated and will change in a future version. Call result.infer_objects(copy=False) instead. To opt-in to the future behavior, set `pd.set_option('future.no_silent_downcasting', True)`\n",
      "  ivtable['IV'] = ivtable['IV'].fillna(0)\n"
     ]
    }
   ],
   "source": [
    "ivtable['IV'] = ivtable['IV'].fillna(0)\n"
   ]
  },
  {
   "cell_type": "code",
   "execution_count": 76,
   "metadata": {},
   "outputs": [
    {
     "name": "stdout",
     "output_type": "stream",
     "text": [
      "            variable        IV\n",
      "11    DAYS EMPLOYEED  0.103630\n",
      "10  DAYS SINCE BIRTH  0.043137\n",
      "8      FAMILY STATUS  0.043137\n",
      "3         OWN REALTY  0.027441\n",
      "1             GENDER  0.025204\n",
      "7     EDUCATION TYPE  0.010362\n",
      "9       HOUSING TYPE  0.007328\n",
      "15       FAM MEMBERS  0.006156\n",
      "16              TYPE  0.004820\n",
      "5       INCOME TOTAL  0.002422\n",
      "12        WORK PHONE  0.002042\n",
      "4           CHILDREN  0.001121\n",
      "13             PHONE  0.000548\n",
      "6        INCOME TYPE  0.000052\n",
      "14             EMAIL  0.000017\n",
      "2            OWN CAR  0.000005\n",
      "0                _id  0.000000\n"
     ]
    }
   ],
   "source": [
    "# Rename variables in ivtable\n",
    "ivtable.loc[ivtable['variable'] == 'DAYS SINCE BIRTH', 'IV'] = iv\n",
    "ivtable.loc[ivtable['variable'] == 'DAYS EMPLOYED', 'variable'] = 'DAYS EMPLOYEED'\n",
    "ivtable.loc[ivtable['variable'] == 'inc', 'variable'] = 'incgp'\n",
    "\n",
    "# Sort ivtable by IV\n",
    "ivtable = ivtable.sort_values(by='IV', ascending=False)\n",
    "\n",
    "# Verify ivtable\n",
    "print(ivtable)\n"
   ]
  },
  {
   "cell_type": "code",
   "execution_count": 77,
   "metadata": {},
   "outputs": [
    {
     "name": "stderr",
     "output_type": "stream",
     "text": [
      "D:\\conda\\envs\\python3.11_env\\Lib\\site-packages\\sklearn\\feature_selection\\_rfe.py:291: UserWarning: Found n_features_to_select=10 > n_features=8. There will be no feature selection and all features will be kept.\n",
      "  warnings.warn(\n"
     ]
    },
    {
     "name": "stdout",
     "output_type": "stream",
     "text": [
      "Selected Features: Index(['GENDER', 'OWN CAR', 'OWN REALTY', 'INCOME TOTAL', 'FAM MEMBERS',\n",
      "       'DAYS SINCE BIRTH', 'DAYS EMPLOYED', 'Age'],\n",
      "      dtype='object')\n",
      "Accuracy Score is 0.70347\n",
      "Confusion Matrix:\n",
      "       0     1\n",
      "0  5196  2218\n",
      "1  2179  5235\n"
     ]
    },
    {
     "data": {
      "image/png": "[encoded data removed]",
      "text/plain": [
       "<Figure size 640x480 with 2 Axes>"
      ]
     },
     "metadata": {},
     "output_type": "display_data"
    }
   ],
   "source": [
    "from sklearn.linear_model import LogisticRegression\n",
    "import seaborn as sns\n",
    "from sklearn.metrics import accuracy_score, confusion_matrix\n",
    "from sklearn.model_selection import train_test_split\n",
    "from sklearn.feature_selection import RFE\n",
    "from imblearn.over_sampling import SMOTE\n",
    "import pandas as pd\n",
    "import matplotlib.pyplot as plt\n",
    "\n",
    "# Define target (Y) and features (X)\n",
    "Y = new_data['target'].astype('int')\n",
    "selected_columns = ['GENDER', 'OWN CAR', 'OWN REALTY', 'INCOME TOTAL', 'FAM MEMBERS',\n",
    "       'DAYS SINCE BIRTH', 'DAYS EMPLOYED', 'Age']\n",
    "X = new_data[selected_columns].fillna(0)  \n",
    "\n",
    "# Check and ensure all columns in X are numeric\n",
    "numeric_columns = X.select_dtypes(include=['number']).columns\n",
    "X = X[numeric_columns]\n",
    "\n",
    "# Apply SMOTE to balance the dataset\n",
    "sm = SMOTE(random_state=42)\n",
    "X_balance, Y_balance = sm.fit_resample(X, Y)\n",
    "\n",
    "# Convert X_balance back to a DataFrame\n",
    "X_balance = pd.DataFrame(X_balance, columns=X.columns)\n",
    "\n",
    "# Split the data into train and test sets\n",
    "X_train, X_test, y_train, y_test = train_test_split(X_balance, Y_balance, \n",
    "                                                    stratify=Y_balance, \n",
    "                                                    test_size=0.3, \n",
    "                                                    random_state=10086)\n",
    "\n",
    "# Feature Selection: Recursive Feature Elimination (RFE)\n",
    "model = LogisticRegression(C=0.8, random_state=0, solver='lbfgs', max_iter=1000)\n",
    "rfe = RFE(estimator=model, n_features_to_select=10)  # Select top 10 features\n",
    "rfe.fit(X_train, y_train)\n",
    "selected_features = X_train.columns[rfe.support_]\n",
    "print(\"Selected Features:\", selected_features)\n",
    "\n",
    "# Reduce dataset to selected features\n",
    "X_train = X_train[selected_features]\n",
    "X_test = X_test[selected_features]\n",
    "\n",
    "# Train Logistic Regression Model\n",
    "model = LogisticRegression(C=0.8, random_state=0, solver='lbfgs', max_iter=1000)\n",
    "model.fit(X_train, y_train)\n",
    "\n",
    "# Make predictions on the test set\n",
    "y_predict = model.predict(X_test)\n",
    "\n",
    "# Evaluate the model\n",
    "accuracy = accuracy_score(y_test, y_predict)\n",
    "print('Accuracy Score is {:.5f}'.format(accuracy))\n",
    "print(\"Confusion Matrix:\\n\", pd.DataFrame(confusion_matrix(y_test, y_predict)))\n",
    "\n",
    "# Plot the Confusion Matrix\n",
    "def plot_confusion_matrix(cm, classes, normalize=False, title='Confusion Matrix', cmap='coolwarm'):\n",
    "    if normalize:\n",
    "        cm = cm.astype('float') / cm.sum(axis=1)[:, np.newaxis]\n",
    "    sns.heatmap(cm, annot=True, fmt=\".2f\" if normalize else \"d\", cmap=cmap,\n",
    "                xticklabels=classes, yticklabels=classes)\n",
    "    plt.title(title)\n",
    "    plt.ylabel('True label')\n",
    "    plt.xlabel('Predicted label')\n",
    "    plt.show()\n",
    "\n",
    "cm = confusion_matrix(y_test, y_predict)\n",
    "class_names = ['0', '1']  # Replace with your actual class labels if necessary\n",
    "plot_confusion_matrix(cm, class_names, normalize=True, \n",
    "                      title='Normalized Confusion Matrix: Logistic Regression')\n",
    "\n",
    "# plot_confusion_matrix(cm, title, ax, cmap, classes=['0', '1'])"
   ]
  },
  {
   "cell_type": "code",
   "execution_count": 78,
   "metadata": {},
   "outputs": [
    {
     "name": "stdout",
     "output_type": "stream",
     "text": [
      "Logistic Regression Accuracy: 0.70347\n",
      "XGBoost Accuracy: 0.97221\n",
      "Voting Classifier Accuracy (Logistic Regression + XGBoost): 0.96068\n",
      "\n",
      "Classification Report for Voting Classifier:\n",
      "              precision    recall  f1-score   support\n",
      "\n",
      "           0       0.97      0.95      0.96      7414\n",
      "           1       0.96      0.97      0.96      7414\n",
      "\n",
      "    accuracy                           0.96     14828\n",
      "   macro avg       0.96      0.96      0.96     14828\n",
      "weighted avg       0.96      0.96      0.96     14828\n",
      "\n"
     ]
    },
    {
     "data": {
      "image/png": "[encoded data removed]",
      "text/plain": [
       "<Figure size 640x480 with 2 Axes>"
      ]
     },
     "metadata": {},
     "output_type": "display_data"
    }
   ],
   "source": [
    "from sklearn.linear_model import LogisticRegression\n",
    "from sklearn.ensemble import VotingClassifier\n",
    "from xgboost import XGBClassifier\n",
    "from sklearn.metrics import accuracy_score, confusion_matrix, classification_report\n",
    "\n",
    "# 1. Logistic Regression Model\n",
    "lr_model = LogisticRegression(max_iter=1000, random_state=42)\n",
    "lr_model.fit(X_train, y_train)\n",
    "lr_pred = lr_model.predict(X_test)\n",
    "lr_accuracy = accuracy_score(y_test, lr_pred)\n",
    "print(f\"Logistic Regression Accuracy: {lr_accuracy:.5f}\")\n",
    "\n",
    "# 2. XGBoost Model\n",
    "xgb_model = XGBClassifier(random_state=42, eval_metric='logloss')\n",
    "xgb_model.fit(X_train, y_train)\n",
    "xgb_pred = xgb_model.predict(X_test)\n",
    "xgb_accuracy = accuracy_score(y_test, xgb_pred)\n",
    "print(f\"XGBoost Accuracy: {xgb_accuracy:.5f}\")\n",
    "\n",
    "# 3. Ensemble Voting Classifier with Logistic Regression and XGBoost\n",
    "voting_model = VotingClassifier(estimators=[\n",
    "    ('lr', lr_model),   # Logistic Regression\n",
    "    ('xgb', xgb_model)  # XGBoost\n",
    "], voting='soft')  # 'soft' uses predicted probabilities\n",
    "\n",
    "# Train Voting Classifier\n",
    "voting_model.fit(X_train, y_train)\n",
    "voting_pred = voting_model.predict(X_test)\n",
    "voting_accuracy = accuracy_score(y_test, voting_pred)\n",
    "print(f\"Voting Classifier Accuracy (Logistic Regression + XGBoost): {voting_accuracy:.5f}\")\n",
    "\n",
    "# Evaluate Voting Classifier\n",
    "print(\"\\nClassification Report for Voting Classifier:\")\n",
    "print(classification_report(y_test, voting_pred))\n",
    "\n",
    "# Confusion Matrix\n",
    "cm = confusion_matrix(y_test, voting_pred)\n",
    "def plot_confusion_matrix(cm, classes, normalize=False, title='Confusion Matrix', cmap='coolwarm'):\n",
    "    if normalize:\n",
    "        cm = cm.astype('float') / cm.sum(axis=1)[:, np.newaxis]\n",
    "    sns.heatmap(cm, annot=True, fmt=\".2f\" if normalize else \"d\", cmap=cmap,\n",
    "                xticklabels=classes, yticklabels=classes)\n",
    "    plt.title(title)\n",
    "    plt.ylabel('True label')\n",
    "    plt.xlabel('Predicted label')\n",
    "    plt.show()\n",
    "\n",
    "class_names = ['0', '1']  # Replace with actual class labels if necessary\n",
    "plot_confusion_matrix(cm, class_names, normalize=True, \n",
    "                      title='Normalized Confusion Matrix: Voting Classifier')"
   ]
  },
  {
   "cell_type": "code",
   "execution_count": 79,
   "metadata": {},
   "outputs": [
    {
     "data": {
      "image/png": "[encoded data removed]",
      "text/plain": [
       "<Figure size 1800x600 with 6 Axes>"
      ]
     },
     "metadata": {},
     "output_type": "display_data"
    }
   ],
   "source": [
    "def plot_confusion_matrix(cm, title, ax, cmap, classes=['0', '1']):\n",
    "    sns.heatmap(cm, annot=True, fmt=\".2f\", cmap=cmap, xticklabels=classes, yticklabels=classes, ax=ax)\n",
    "    ax.set_title(title)\n",
    "    ax.set_xlabel('Predicted label')\n",
    "    ax.set_ylabel('True label')\n",
    "\n",
    "# Predictions for all models\n",
    "lr_pred = lr_model.predict(X_test)\n",
    "xgb_pred = xgb_model.predict(X_test)\n",
    "voting_pred = voting_model.predict(X_test)\n",
    "\n",
    "# Confusion Matrices\n",
    "cm_lr = confusion_matrix(y_test, lr_pred)\n",
    "cm_xgb = confusion_matrix(y_test, xgb_pred)\n",
    "cm_voting = confusion_matrix(y_test, voting_pred)\n",
    "\n",
    "# Normalize the confusion matrices\n",
    "cm_lr_norm = cm_lr.astype('float') / cm_lr.sum(axis=1)[:, np.newaxis]\n",
    "cm_xgb_norm = cm_xgb.astype('float') / cm_xgb.sum(axis=1)[:, np.newaxis]\n",
    "cm_voting_norm = cm_voting.astype('float') / cm_voting.sum(axis=1)[:, np.newaxis]\n",
    "\n",
    "# Plot all confusion matrices together\n",
    "fig, axes = plt.subplots(1, 3, figsize=(18, 6))\n",
    "\n",
    "plot_confusion_matrix(cm_lr_norm, \"Logistic Regression\", axes[0], cmap='PuOr')\n",
    "plot_confusion_matrix(cm_xgb_norm, \"XGBoost\", axes[1], cmap='tab20c')\n",
    "plot_confusion_matrix(cm_voting_norm, \"Voting Classifier\", axes[2], cmap='coolwarm')\n",
    "\n",
    "plt.tight_layout()\n",
    "plt.show()"
   ]
  },
  {
   "cell_type": "code",
   "execution_count": 91,
   "metadata": {},
   "outputs": [],
   "source": [
    "# from sklearn.decomposition import PCA\n",
    "# from sklearn.preprocessing import StandardScaler\n",
    "# import plotly.express as px\n",
    "# import plotly.io as pio\n",
    "# pio.renderers.default = \"iframe_connected\"  \n",
    "# selected_columns = ['GENDER', 'OWN CAR', 'OWN REALTY', 'INCOME TOTAL',\n",
    "#          'FAM MEMBERS', 'CHILDREN_1', 'CHILDREN_2More', 'gp_inc_medium', 'gp_inc_high',\n",
    "#        'gp_inc_NULL', 'FAM MEMBERS GP_1',\n",
    "#        'FAM MEMBERS GP_3more', 'INCOME TYPE_Commercial associate',\n",
    "#         'INCOME TYPE_State servant',\n",
    "#         'TYPE_Laborwk', 'TYPE_hightecwk',\n",
    "#        'TYPE_officewk', \n",
    "#        'EDUCATION TYPE_Higher education', 'EDUCATION TYPE_Incomplete higher',\n",
    "#        'EDUCATION TYPE_Lower secondary','DAYS SINCE BIRTH','FAMILY STATUS_Civil marriage','FAMILY STATUS_Separated' ,'FAMILY STATUS_Single / not married',\n",
    "#                     'FAMILY STATUS_Widow' ,'DAYS EMPLOYED','Age']\n",
    "# X = new_data[selected_columns].fillna(0)  \n",
    "# Y = new_data['target']\n",
    "\n",
    "# scaler = StandardScaler()\n",
    "# X_scaled = scaler.fit_transform(X)\n",
    "\n",
    "# pca = PCA(n_components=3)\n",
    "# X_pca = pca.fit_transform(X_scaled)\n",
    "\n",
    "# pca_df = pd.DataFrame(X_pca, columns=['PCA1', 'PCA2', 'PCA3'])\n",
    "# pca_df['target'] = Y\n",
    "\n",
    "# explained_variance = pca.explained_variance_ratio_\n",
    "# print(f\"Explained Variance Ratio: {explained_variance}\")\n",
    "# print(f\"Total Explained Variance: {np.sum(explained_variance)}\")\n",
    "\n",
    "# fig = px.scatter_3d(\n",
    "#     pca_df,\n",
    "#     x='PCA1',\n",
    "#     y='PCA2',\n",
    "#     z='PCA3',\n",
    "#     color='target',\n",
    "#     title=\"PCA 3D Visualization\"\n",
    "# )\n",
    "# fig.update_traces(marker=dict(opacity=0.5))  \n",
    "\n",
    "# fig.show()"
   ]
  },
  {
   "cell_type": "markdown",
   "metadata": {},
   "source": [
    "# Running Neural Networks with only values high on the IV chart"
   ]
  },
  {
   "cell_type": "code",
   "execution_count": null,
   "metadata": {
    "scrolled": true
   },
   "outputs": [],
   "source": [
    "# Manually specify the selected columns\n",
    "selected_columns = [\n",
    "    'GENDER',\n",
    "    'OWN REALTY',\n",
    "    'gp_Age_low',\n",
    "    'gp_Age_medium',\n",
    "    'gp_Age_high',\n",
    "    'gp_Age_highest',\n",
    "    'gp_worktm_high',\n",
    "    'gp_worktm_highest',\n",
    "    'gp_worktm_low',\n",
    "    'gp_worktm_medium',\n",
    "    'FAMILY STATUS_Civil marriage',\n",
    "    'FAMILY STATUS_Separated',\n",
    "    'FAMILY STATUS_Single / not married',\n",
    "    'FAMILY STATUS_Widow'\n",
    "]\n",
    "\n",
    "# we select the high iv columns\n",
    "Y = new_data['target']\n",
    "X = new_data[selected_columns]\n",
    "\n",
    "Y = Y.astype('int')\n",
    "X_balance,Y_balance = SMOTE().fit_resample(X,Y)\n",
    "X_balance = pd.DataFrame(X_balance, columns = X.columns)\n",
    "\n",
    "X_train, X_test, y_train, y_test = train_test_split(X_balance,Y_balance, \n",
    "                                                    stratify=Y_balance, test_size=0.3,\n",
    "                                                    random_state = 10086)\n",
    "\t\t\t\t\t\t\t\t\t\t\t\t\t\n",
    "# Create a StandardScaler instances\n",
    "scaler = StandardScaler()\n",
    "\n",
    "# Fit the StandardScaler\n",
    "X_scaler = scaler.fit(X_train)\n",
    "\n",
    "# Scale the data\n",
    "X_train_scaled = X_scaler.transform(X_train)\n",
    "X_test_scaled = X_scaler.transform(X_test)\n",
    "\n",
    "# Define the model - deep neural net, i.e., the number of input features and hidden nodes for each layer.\n",
    "number_input_features = X_train_scaled.shape[1]  # Correct the number of features\n",
    "hidden_nodes_layer1 = 80\n",
    "hidden_nodes_layer2 = 30\n",
    "hidden_nodes_layer3 = 10\n",
    "\n",
    "nn = tf.keras.models.Sequential()\n",
    "\n",
    "# First hidden layer\n",
    "nn.add(tf.keras.layers.Dense(units=hidden_nodes_layer1, input_dim=number_input_features, activation='relu'))\n",
    "\n",
    "# Second hidden layer\n",
    "nn.add(tf.keras.layers.Dense(units=hidden_nodes_layer2, activation='relu'))\n",
    "\n",
    "# Third hidden layer\n",
    "nn.add(tf.keras.layers.Dense(units=hidden_nodes_layer3, activation='sigmoid'))\n",
    "\n",
    "# Output layer\n",
    "nn.add(tf.keras.layers.Dense(units=1, activation='sigmoid'))\n",
    "\n",
    "# Check the structure of the model\n",
    "nn.summary()\n",
    "\n",
    "# Compile the model\n",
    "nn.compile(loss='binary_crossentropy', optimizer='adam', metrics=['accuracy'])\n",
    "\n",
    "# Train the model\n",
    "fit_model = nn.fit(X_train_scaled, y_train, epochs=15)\n",
    "\n",
    "# Evaluate the model using the test data\n",
    "model_loss, model_accuracy = nn.evaluate(X_test_scaled,y_test,verbose=2)\n",
    "print(f\"Loss: {model_loss}, Accuracy: {model_accuracy}\")"
   ]
  },
  {
   "cell_type": "code",
   "execution_count": null,
   "metadata": {},
   "outputs": [],
   "source": [
    "# Predict probabilities\n",
    "y_pred_prob = nn.predict(X_test_scaled)\n",
    "\n",
    "# Convert probabilities to class predictions (e.g., threshold of 0.5)\n",
    "y_pred = (y_pred_prob > 0.5).astype(int)\n",
    "\n",
    "# Print the classification report\n",
    "print(classification_report(y_test, y_pred))"
   ]
  },
  {
   "cell_type": "markdown",
   "metadata": {},
   "source": [
    "Performance Interpretation for High-Risk vs. No-Risk\n",
    "Current Accuracy (65.31%):\n",
    "Suggests that ~35% of samples are misclassified, but it doesn't reveal if high-risk cases are disproportionately affected.\n",
    "If high-risk cases are a minority, the model may overfit to predicting the majority (no-risk), inflating accuracy but underperforming where it matters.\n",
    "Loss (0.6021):\n",
    "Indicates moderate uncertainty in predictions; may suggest overlap between high- and no-risk feature distributions."
   ]
  },
  {
   "cell_type": "markdown",
   "metadata": {},
   "source": [
    "# All columns except target and objects"
   ]
  },
  {
   "cell_type": "code",
   "execution_count": null,
   "metadata": {},
   "outputs": [],
   "source": [
    "# Select all columns with object data type\n",
    "object_columns = new_data.select_dtypes(include=['object']).columns\n",
    "\n",
    "# Print the list of object columns\n",
    "print(\"Object columns in the DataFrame:\")\n",
    "print(object_columns.tolist())"
   ]
  },
  {
   "cell_type": "code",
   "execution_count": null,
   "metadata": {},
   "outputs": [],
   "source": [
    "# Select all columns excluding object data types and the 'target' column\n",
    "selected_columns = new_data.select_dtypes(exclude=['object']).drop(columns=['target']).columns.tolist()\n",
    "\n",
    "# View the resulting list of columns\n",
    "print(selected_columns)\n",
    "\n",
    "# we select the high iv columns\n",
    "Y = new_data['target']\n",
    "X = new_data[selected_columns]\n",
    "\n",
    "Y = Y.astype('int')\n",
    "X_balance,Y_balance = SMOTE().fit_resample(X,Y)\n",
    "X_balance = pd.DataFrame(X_balance, columns = X.columns)\n",
    "\n",
    "X_train, X_test, y_train, y_test = train_test_split(X_balance,Y_balance, \n",
    "                                                    stratify=Y_balance, test_size=0.3,\n",
    "                                                    random_state = 10086)\n",
    "\n",
    "# Create a StandardScaler instances\n",
    "scaler = StandardScaler()\n",
    "\n",
    "# Fit the StandardScaler\n",
    "X_scaler = scaler.fit(X_train)\n",
    "\n",
    "# Scale the data\n",
    "X_train_scaled = X_scaler.transform(X_train)\n",
    "X_test_scaled = X_scaler.transform(X_test)\n",
    "\n",
    "# Define the model - deep neural net, i.e., the number of input features and hidden nodes for each layer.\n",
    "number_input_features = X_train_scaled.shape[1]  # Correct the number of features\n",
    "hidden_nodes_layer1 = 80\n",
    "hidden_nodes_layer2 = 30\n",
    "hidden_nodes_layer3 = 10\n",
    "\n",
    "nn = tf.keras.models.Sequential()\n",
    "\n",
    "# First hidden layer\n",
    "nn.add(tf.keras.layers.Dense(units=hidden_nodes_layer1, input_dim=number_input_features, activation='relu'))\n",
    "\n",
    "# Second hidden layer\n",
    "nn.add(tf.keras.layers.Dense(units=hidden_nodes_layer2, activation='relu'))\n",
    "\n",
    "# Third hidden layer\n",
    "nn.add(tf.keras.layers.Dense(units=hidden_nodes_layer3, activation='sigmoid'))\n",
    "\n",
    "# Output layer\n",
    "nn.add(tf.keras.layers.Dense(units=1, activation='sigmoid'))\n",
    "\n",
    "# Check the structure of the model\n",
    "nn.summary()\n",
    "\n",
    "# Compile the model\n",
    "nn.compile(loss='binary_crossentropy', optimizer='adam', metrics=['accuracy'])\n",
    "\n",
    "# Train the model\n",
    "fit_model = nn.fit(X_train_scaled, y_train, epochs=15)\n",
    "\n",
    "# Evaluate the model using the test data\n",
    "model_loss, model_accuracy = nn.evaluate(X_test_scaled,y_test,verbose=2)\n",
    "print(f\"Loss: {model_loss}, Accuracy: {model_accuracy}\")"
   ]
  },
  {
   "cell_type": "code",
   "execution_count": null,
   "metadata": {},
   "outputs": [],
   "source": [
    "# Predict probabilities\n",
    "y_pred_prob = nn.predict(X_test_scaled)\n",
    "\n",
    "# Convert probabilities to class predictions (e.g., threshold of 0.5)\n",
    "y_pred = (y_pred_prob > 0.5).astype(int)\n",
    "\n",
    "# Print the classification report\n",
    "print(classification_report(y_test, y_pred))"
   ]
  },
  {
   "cell_type": "markdown",
   "metadata": {},
   "source": [
    "Why Such a Large Improvement?\n",
    "The improvement can be attributed to the inclusion of more features, providing the model with richer information to make decisions:\n",
    "\n",
    "Feature Completeness:\n",
    "By excluding only object columns and the target, the model now has access to more relevant numerical and categorical data (potentially after encoding), which contributes to its ability to capture patterns in the data.\n",
    "Complex Relationships:\n",
    "More features allow the model to learn complex interactions between variables that were missing when only 5 high-IV features were used.\n",
    "Diminished Feature Selection Bias:\n",
    "Relying only on high-IV features may exclude some important interactions or complementary features. Including all numeric columns mitigates this bias.\n",
    "\n",
    "Accuracy: 97.72%\n",
    "What is it?\n",
    "Accuracy measures the proportion of correct predictions (both high-risk and no-risk) relative to the total predictions.\n",
    "Interpretation:\n",
    "An accuracy of 97.72% indicates that the model predicts the correct class for most of the samples.\n",
    "This is a substantial improvement over the previous accuracy of 65.31%, highlighting that the additional features provide more comprehensive information for the model to learn from."
   ]
  },
  {
   "cell_type": "markdown",
   "metadata": {},
   "source": []
  },
  {
   "cell_type": "code",
   "execution_count": null,
   "metadata": {},
   "outputs": [],
   "source": []
  },
  {
   "cell_type": "code",
   "execution_count": null,
   "metadata": {},
   "outputs": [],
   "source": [
    "## random forest"
   ]
  },
  {
   "cell_type": "code",
   "execution_count": 93,
   "metadata": {},
   "outputs": [],
   "source": [
    "from sklearn.model_selection import train_test_split\n",
    "from sklearn.metrics import accuracy_score, confusion_matrix\n",
    "from sklearn.linear_model import LogisticRegression\n",
    "from sklearn.tree import DecisionTreeClassifier\n",
    "from imblearn.over_sampling import SMOTE\n",
    "from sklearn.ensemble import RandomForestClassifier\n",
    "import itertools"
   ]
  },
  {
   "cell_type": "code",
   "execution_count": 95,
   "metadata": {},
   "outputs": [],
   "source": [
    "new_data = new_data.drop(columns =['_id' ,'ID','HOUSING TYPE','WORK PHONE','PHONE','EMAIL','past_due'] , errors = 'ignore' )"
   ]
  },
  {
   "cell_type": "code",
   "execution_count": 97,
   "metadata": {},
   "outputs": [
    {
     "name": "stdout",
     "output_type": "stream",
     "text": [
      "<class 'pandas.core.frame.DataFrame'>\n",
      "Index: 25134 entries, 2 to 36456\n",
      "Data columns (total 39 columns):\n",
      " #   Column                              Non-Null Count  Dtype  \n",
      "---  ------                              --------------  -----  \n",
      " 0   GENDER                              25134 non-null  int64  \n",
      " 1   OWN CAR                             25134 non-null  int64  \n",
      " 2   OWN REALTY                          25134 non-null  int64  \n",
      " 3   INCOME TOTAL                        25134 non-null  float64\n",
      " 4   DAYS SINCE BIRTH                    25134 non-null  int64  \n",
      " 5   DAYS EMPLOYED                       25134 non-null  int64  \n",
      " 6   MOBIL                               25134 non-null  int64  \n",
      " 7   FAM MEMBERS                         25134 non-null  int32  \n",
      " 8   begin_month                         25134 non-null  float64\n",
      " 9   target                              25134 non-null  int64  \n",
      " 10  CHILDREN_1                          25134 non-null  bool   \n",
      " 11  CHILDREN_2More                      25134 non-null  bool   \n",
      " 12  gp_inc_medium                       25134 non-null  bool   \n",
      " 13  gp_inc_high                         25134 non-null  bool   \n",
      " 14  gp_inc_NULL                         25134 non-null  bool   \n",
      " 15  Age                                 25134 non-null  int64  \n",
      " 16  gp_Age_low                          25134 non-null  bool   \n",
      " 17  gp_Age_medium                       25134 non-null  bool   \n",
      " 18  gp_Age_high                         25134 non-null  bool   \n",
      " 19  gp_Age_highest                      25134 non-null  bool   \n",
      " 20  gp_Age_NULL                         25134 non-null  bool   \n",
      " 21  worktm                              25134 non-null  float64\n",
      " 22  gp_worktm_high                      25134 non-null  bool   \n",
      " 23  gp_worktm_highest                   25134 non-null  bool   \n",
      " 24  gp_worktm_low                       25134 non-null  bool   \n",
      " 25  gp_worktm_medium                    25134 non-null  bool   \n",
      " 26  FAM MEMBERS GP_1                    25134 non-null  bool   \n",
      " 27  FAM MEMBERS GP_3more                25134 non-null  bool   \n",
      " 28  INCOME TYPE_Commercial associate    25134 non-null  bool   \n",
      " 29  INCOME TYPE_State servant           25134 non-null  bool   \n",
      " 30  TYPE_hightecwk                      25134 non-null  bool   \n",
      " 31  TYPE_officewk                       25134 non-null  bool   \n",
      " 32  EDUCATION TYPE_Higher education     25134 non-null  bool   \n",
      " 33  EDUCATION TYPE_Incomplete higher    25134 non-null  bool   \n",
      " 34  EDUCATION TYPE_Lower secondary      25134 non-null  bool   \n",
      " 35  FAMILY STATUS_Civil marriage        25134 non-null  bool   \n",
      " 36  FAMILY STATUS_Separated             25134 non-null  bool   \n",
      " 37  FAMILY STATUS_Single / not married  25134 non-null  bool   \n",
      " 38  FAMILY STATUS_Widow                 25134 non-null  bool   \n",
      "dtypes: bool(27), float64(3), int32(1), int64(8)\n",
      "memory usage: 3.0 MB\n"
     ]
    }
   ],
   "source": [
    "new_data.info()"
   ]
  },
  {
   "cell_type": "code",
   "execution_count": 99,
   "metadata": {},
   "outputs": [
    {
     "data": {
      "text/plain": [
       "Index(['GENDER', 'OWN CAR', 'OWN REALTY', 'INCOME TOTAL', 'DAYS SINCE BIRTH',\n",
       "       'DAYS EMPLOYED', 'MOBIL', 'FAM MEMBERS', 'begin_month', 'target',\n",
       "       'CHILDREN_1', 'CHILDREN_2More', 'gp_inc_medium', 'gp_inc_high',\n",
       "       'gp_inc_NULL', 'Age', 'gp_Age_low', 'gp_Age_medium', 'gp_Age_high',\n",
       "       'gp_Age_highest', 'gp_Age_NULL', 'worktm', 'gp_worktm_high',\n",
       "       'gp_worktm_highest', 'gp_worktm_low', 'gp_worktm_medium',\n",
       "       'FAM MEMBERS GP_1', 'FAM MEMBERS GP_3more',\n",
       "       'INCOME TYPE_Commercial associate', 'INCOME TYPE_State servant',\n",
       "       'TYPE_hightecwk', 'TYPE_officewk', 'EDUCATION TYPE_Higher education',\n",
       "       'EDUCATION TYPE_Incomplete higher', 'EDUCATION TYPE_Lower secondary',\n",
       "       'FAMILY STATUS_Civil marriage', 'FAMILY STATUS_Separated',\n",
       "       'FAMILY STATUS_Single / not married', 'FAMILY STATUS_Widow'],\n",
       "      dtype='object')"
      ]
     },
     "execution_count": 99,
     "metadata": {},
     "output_type": "execute_result"
    }
   ],
   "source": [
    "new_data.columns"
   ]
  },
  {
   "cell_type": "code",
   "execution_count": 119,
   "metadata": {},
   "outputs": [],
   "source": [
    "def plot_confusion_matrix(cm, classes, normalize=False, title='Confusion Matrix', cmap='coolwarm'):\n",
    "    if normalize:\n",
    "        cm = cm.astype('float') / cm.sum(axis=1)[:, np.newaxis]\n",
    "    sns.heatmap(cm, annot=True, fmt=\".2f\" if normalize else \"d\", cmap=cmap,\n",
    "                xticklabels=classes, yticklabels=classes)\n",
    "    plt.title(title)\n",
    "    plt.ylabel('True label')\n",
    "    plt.xlabel('Predicted label')\n",
    "    plt.show()\n",
    "\n",
    "# we select the high iv columns\n",
    "selected_columns = ['GENDER', 'OWN CAR', 'OWN REALTY', 'INCOME TOTAL',\n",
    "         'FAM MEMBERS', 'CHILDREN_1', 'CHILDREN_2More', 'gp_inc_medium', 'gp_inc_high',\n",
    "       'gp_inc_NULL', 'FAM MEMBERS GP_1',\n",
    "       'FAM MEMBERS GP_3more', 'INCOME TYPE_Commercial associate',\n",
    "        'INCOME TYPE_State servant',\n",
    "         'TYPE_hightecwk',\n",
    "       'TYPE_officewk', \n",
    "       'EDUCATION TYPE_Higher education', 'EDUCATION TYPE_Incomplete higher',\n",
    "       'EDUCATION TYPE_Lower secondary']\n",
    "def train(X,Y, show = True):\n",
    "    Y = Y.astype('int')\n",
    "    X_balance,Y_balance = SMOTE().fit_resample(X,Y)\n",
    "    X_balance = pd.DataFrame(X_balance, columns = X.columns)\n",
    "    X_train, X_test, y_train, y_test = train_test_split(X_balance,Y_balance, \n",
    "                                                    stratify=Y_balance, test_size=0.3,\n",
    "                                                    random_state = 10086)\n",
    "\n",
    "    model = RandomForestClassifier(n_estimators=250,\n",
    "                                  max_depth=12,\n",
    "                                  min_samples_leaf=16\n",
    "                                  )\n",
    "    model.fit(X_train, y_train)\n",
    "    y_predict = model.predict(X_test)\n",
    "    \n",
    "    print('Accuracy Score is {:.5}'.format(accuracy_score(y_test, y_predict)))\n",
    "    if show:\n",
    "        print(pd.DataFrame(confusion_matrix(y_test,y_predict)))\n",
    "        class_names = ['0','1']\n",
    "        plot_confusion_matrix(confusion_matrix(y_test,y_predict),\n",
    "                              classes=class_names, normalize = True, \n",
    "                              title='Normalized Confusion Matrix: Ramdom Forests')\n",
    "\n",
    "    \n",
    "Y = new_data['target']\n",
    "X = new_data[selected_columns]"
   ]
  },
  {
   "cell_type": "code",
   "execution_count": 121,
   "metadata": {},
   "outputs": [
    {
     "name": "stdout",
     "output_type": "stream",
     "text": [
      "Accuracy Score is 0.88569\n",
      "      0     1\n",
      "0  6431   983\n",
      "1   712  6702\n"
     ]
    },
    {
     "data": {
      "image/png": "[encoded data removed]",
      "text/plain": [
       "<Figure size 640x480 with 2 Axes>"
      ]
     },
     "metadata": {},
     "output_type": "display_data"
    }
   ],
   "source": [
    "train(X,Y)"
   ]
  },
  {
   "cell_type": "markdown",
   "metadata": {},
   "source": []
  },
  {
   "cell_type": "code",
   "execution_count": 123,
   "metadata": {},
   "outputs": [
    {
     "name": "stdout",
     "output_type": "stream",
     "text": [
      "Explained Variance Ratio: [0.15838996 0.13096054 0.08737029]\n",
      "Total Explained Variance: 0.3767207863169737\n"
     ]
    },
    {
     "data": {
      "text/html": [
       "<iframe\n",
       "    scrolling=\"no\"\n",
       "    width=\"100%\"\n",
       "    height=\"545px\"\n",
       "    src=\"iframe_figures/figure_123.html\"\n",
       "    frameborder=\"0\"\n",
       "    allowfullscreen\n",
       "></iframe>\n"
      ]
     },
     "metadata": {},
     "output_type": "display_data"
    }
   ],
   "source": [
    "from sklearn.decomposition import PCA\n",
    "from sklearn.preprocessing import StandardScaler\n",
    "import plotly.express as px\n",
    "import plotly.io as pio\n",
    "pio.renderers.default = \"iframe_connected\"  \n",
    "\n",
    "X = new_data[selected_columns].fillna(0)  \n",
    "Y = new_data['target']\n",
    "\n",
    "scaler = StandardScaler()\n",
    "X_scaled = scaler.fit_transform(X)\n",
    "\n",
    "pca = PCA(n_components=3)\n",
    "X_pca = pca.fit_transform(X_scaled)\n",
    "\n",
    "pca_df = pd.DataFrame(X_pca, columns=['PCA1', 'PCA2', 'PCA3'])\n",
    "pca_df['target'] = Y\n",
    "\n",
    "explained_variance = pca.explained_variance_ratio_\n",
    "print(f\"Explained Variance Ratio: {explained_variance}\")\n",
    "print(f\"Total Explained Variance: {np.sum(explained_variance)}\")\n",
    "\n",
    "fig = px.scatter_3d(\n",
    "    pca_df,\n",
    "    x='PCA1',\n",
    "    y='PCA2',\n",
    "    z='PCA3',\n",
    "    color='target',\n",
    "    title=\"PCA 3D Visualization\"\n",
    ")\n",
    "fig.update_traces(marker=dict(opacity=0.5))  \n",
    "\n",
    "fig.show()\n"
   ]
  },
  {
   "cell_type": "code",
   "execution_count": null,
   "metadata": {},
   "outputs": [],
   "source": [
    "# static png"
   ]
  },
  {
   "cell_type": "markdown",
   "metadata": {},
   "source": [
    "![alt text](iframe_figures/pca_scatter.png)"
   ]
  },
  {
   "cell_type": "code",
   "execution_count": null,
   "metadata": {},
   "outputs": [],
   "source": []
  },
  {
   "cell_type": "code",
   "execution_count": null,
   "metadata": {},
   "outputs": [],
   "source": []
  },
  {
   "cell_type": "code",
   "execution_count": 124,
   "metadata": {},
   "outputs": [],
   "source": [
    "# try1 : try the highest iv columns"
   ]
  },
  {
   "cell_type": "code",
   "execution_count": 125,
   "metadata": {},
   "outputs": [
    {
     "name": "stdout",
     "output_type": "stream",
     "text": [
      "<class 'pandas.core.frame.DataFrame'>\n",
      "Index: 25134 entries, 2 to 36456\n",
      "Data columns (total 39 columns):\n",
      " #   Column                              Non-Null Count  Dtype  \n",
      "---  ------                              --------------  -----  \n",
      " 0   GENDER                              25134 non-null  int64  \n",
      " 1   OWN CAR                             25134 non-null  int64  \n",
      " 2   OWN REALTY                          25134 non-null  int64  \n",
      " 3   INCOME TOTAL                        25134 non-null  float64\n",
      " 4   DAYS SINCE BIRTH                    25134 non-null  int64  \n",
      " 5   DAYS EMPLOYED                       25134 non-null  int64  \n",
      " 6   MOBIL                               25134 non-null  int64  \n",
      " 7   FAM MEMBERS                         25134 non-null  int32  \n",
      " 8   begin_month                         25134 non-null  float64\n",
      " 9   target                              25134 non-null  int64  \n",
      " 10  CHILDREN_1                          25134 non-null  bool   \n",
      " 11  CHILDREN_2More                      25134 non-null  bool   \n",
      " 12  gp_inc_medium                       25134 non-null  bool   \n",
      " 13  gp_inc_high                         25134 non-null  bool   \n",
      " 14  gp_inc_NULL                         25134 non-null  bool   \n",
      " 15  Age                                 25134 non-null  int64  \n",
      " 16  gp_Age_low                          25134 non-null  bool   \n",
      " 17  gp_Age_medium                       25134 non-null  bool   \n",
      " 18  gp_Age_high                         25134 non-null  bool   \n",
      " 19  gp_Age_highest                      25134 non-null  bool   \n",
      " 20  gp_Age_NULL                         25134 non-null  bool   \n",
      " 21  worktm                              25134 non-null  float64\n",
      " 22  gp_worktm_high                      25134 non-null  bool   \n",
      " 23  gp_worktm_highest                   25134 non-null  bool   \n",
      " 24  gp_worktm_low                       25134 non-null  bool   \n",
      " 25  gp_worktm_medium                    25134 non-null  bool   \n",
      " 26  FAM MEMBERS GP_1                    25134 non-null  bool   \n",
      " 27  FAM MEMBERS GP_3more                25134 non-null  bool   \n",
      " 28  INCOME TYPE_Commercial associate    25134 non-null  bool   \n",
      " 29  INCOME TYPE_State servant           25134 non-null  bool   \n",
      " 30  TYPE_hightecwk                      25134 non-null  bool   \n",
      " 31  TYPE_officewk                       25134 non-null  bool   \n",
      " 32  EDUCATION TYPE_Higher education     25134 non-null  bool   \n",
      " 33  EDUCATION TYPE_Incomplete higher    25134 non-null  bool   \n",
      " 34  EDUCATION TYPE_Lower secondary      25134 non-null  bool   \n",
      " 35  FAMILY STATUS_Civil marriage        25134 non-null  bool   \n",
      " 36  FAMILY STATUS_Separated             25134 non-null  bool   \n",
      " 37  FAMILY STATUS_Single / not married  25134 non-null  bool   \n",
      " 38  FAMILY STATUS_Widow                 25134 non-null  bool   \n",
      "dtypes: bool(27), float64(3), int32(1), int64(8)\n",
      "memory usage: 3.5 MB\n"
     ]
    }
   ],
   "source": [
    "new_data.info()"
   ]
  },
  {
   "cell_type": "code",
   "execution_count": 127,
   "metadata": {},
   "outputs": [
    {
     "name": "stdout",
     "output_type": "stream",
     "text": [
      "Accuracy Score is 0.97444\n",
      "      0     1\n",
      "0  7292   122\n",
      "1   257  7157\n"
     ]
    },
    {
     "data": {
      "image/png": "[encoded data removed]",
      "text/plain": [
       "<Figure size 640x480 with 2 Axes>"
      ]
     },
     "metadata": {},
     "output_type": "display_data"
    }
   ],
   "source": [
    "selected_columns = ['GENDER', 'OWN CAR', 'OWN REALTY', 'INCOME TOTAL',\n",
    "         'FAM MEMBERS', 'CHILDREN_1', 'CHILDREN_2More', 'gp_inc_medium', 'gp_inc_high',\n",
    "       'gp_inc_NULL', 'FAM MEMBERS GP_1',\n",
    "       'FAM MEMBERS GP_3more', 'INCOME TYPE_Commercial associate',\n",
    "        'INCOME TYPE_State servant',\n",
    "         'TYPE_hightecwk',\n",
    "       'TYPE_officewk', \n",
    "       'EDUCATION TYPE_Higher education', 'EDUCATION TYPE_Incomplete higher',\n",
    "       'EDUCATION TYPE_Lower secondary','DAYS SINCE BIRTH','FAMILY STATUS_Civil marriage','FAMILY STATUS_Separated' ,'FAMILY STATUS_Single / not married',\n",
    "                    'FAMILY STATUS_Widow' ,'DAYS EMPLOYED','Age'\n",
    " ]\n",
    "\n",
    "Y = new_data['target']\n",
    "X = new_data[selected_columns]\n",
    "train(X,Y)"
   ]
  },
  {
   "cell_type": "code",
   "execution_count": 140,
   "metadata": {},
   "outputs": [
    {
     "name": "stdout",
     "output_type": "stream",
     "text": [
      "Accuracy Score is 0.97559\n",
      "      0     1\n",
      "0  7267   147\n",
      "1   215  7199\n"
     ]
    },
    {
     "data": {
      "image/png": "[encoded data removed]",
      "text/plain": [
       "<Figure size 640x480 with 2 Axes>"
      ]
     },
     "metadata": {},
     "output_type": "display_data"
    },
    {
     "data": {
      "text/plain": [
       "38"
      ]
     },
     "execution_count": 140,
     "metadata": {},
     "output_type": "execute_result"
    }
   ],
   "source": [
    "# try2 : try the all the  columns\n",
    "\n",
    "selected_columns = list(new_data.columns)\n",
    "selected_columns.remove('target')\n",
    "Y = new_data['target']\n",
    "X = new_data[selected_columns]\n",
    "train(X,Y)\n",
    "len(selected_columns)"
   ]
  },
  {
   "cell_type": "code",
   "execution_count": 129,
   "metadata": {},
   "outputs": [
    {
     "name": "stdout",
     "output_type": "stream",
     "text": [
      "Accuracy Score is 0.90599\n",
      "      0     1\n",
      "0  6597   817\n",
      "1   577  6837\n"
     ]
    },
    {
     "data": {
      "image/png": "[encoded data removed]",
      "text/plain": [
       "<Figure size 640x480 with 2 Axes>"
      ]
     },
     "metadata": {},
     "output_type": "display_data"
    }
   ],
   "source": [
    "# try3 : try only the all the ivtable  columns\n",
    "selected_columns =  list(ivtable['variable'])[:-1]\n",
    "selected_columns = set(selected_columns)\n",
    "selected_columns -= {'FAMILY STATUS', 'DAYS EMPLOYEED', 'HOUSING TYPE', 'EDUCATION TYPE', 'TYPE', 'INCOME TYPE', 'WORK PHONE', 'CHILDREN', 'EMAIL', 'PHONE'}\n",
    "selected_columns = list(selected_columns)\n",
    "Y = new_data['target']\n",
    "X = new_data[selected_columns]\n",
    "train(X,Y)"
   ]
  },
  {
   "cell_type": "code",
   "execution_count": 133,
   "metadata": {},
   "outputs": [
    {
     "name": "stdout",
     "output_type": "stream",
     "text": [
      "forward select in top 1 , columns : ['GENDER'] \n",
      "Accuracy Score is 0.54208\n",
      "forward select in top 2 , columns : ['GENDER', 'OWN CAR'] \n",
      "Accuracy Score is 0.53507\n",
      "forward select in top 3 , columns : ['GENDER', 'OWN CAR', 'OWN REALTY'] \n",
      "Accuracy Score is 0.54498\n",
      "forward select in top 4 , columns : ['GENDER', 'OWN CAR', 'OWN REALTY', 'INCOME TOTAL'] \n",
      "Accuracy Score is 0.73698\n",
      "forward select in top 5 , columns : ['GENDER', 'OWN CAR', 'OWN REALTY', 'INCOME TOTAL', 'DAYS SINCE BIRTH'] \n",
      "Accuracy Score is 0.9244\n",
      "forward select in top 6 , columns : ['GENDER', 'OWN CAR', 'OWN REALTY', 'INCOME TOTAL', 'DAYS SINCE BIRTH', 'DAYS EMPLOYED'] \n",
      "Accuracy Score is 0.92636\n",
      "forward select in top 7 , columns : ['GENDER', 'OWN CAR', 'OWN REALTY', 'INCOME TOTAL', 'DAYS SINCE BIRTH', 'DAYS EMPLOYED', 'MOBIL'] \n",
      "Accuracy Score is 0.92487\n",
      "forward select in top 8 , columns : ['GENDER', 'OWN CAR', 'OWN REALTY', 'INCOME TOTAL', 'DAYS SINCE BIRTH', 'DAYS EMPLOYED', 'MOBIL', 'FAM MEMBERS'] \n",
      "Accuracy Score is 0.92541\n",
      "forward select in top 9 , columns : ['GENDER', 'OWN CAR', 'OWN REALTY', 'INCOME TOTAL', 'DAYS SINCE BIRTH', 'DAYS EMPLOYED', 'MOBIL', 'FAM MEMBERS', 'begin_month'] \n",
      "Accuracy Score is 0.91988\n",
      "forward select in top 10 , columns : ['GENDER', 'OWN CAR', 'OWN REALTY', 'INCOME TOTAL', 'DAYS SINCE BIRTH', 'DAYS EMPLOYED', 'MOBIL', 'FAM MEMBERS', 'begin_month', 'CHILDREN_1'] \n",
      "Accuracy Score is 0.92919\n",
      "forward select in top 11 , columns : ['GENDER', 'OWN CAR', 'OWN REALTY', 'INCOME TOTAL', 'DAYS SINCE BIRTH', 'DAYS EMPLOYED', 'MOBIL', 'FAM MEMBERS', 'begin_month', 'CHILDREN_1', 'CHILDREN_2More'] \n",
      "Accuracy Score is 0.93816\n",
      "forward select in top 12 , columns : ['GENDER', 'OWN CAR', 'OWN REALTY', 'INCOME TOTAL', 'DAYS SINCE BIRTH', 'DAYS EMPLOYED', 'MOBIL', 'FAM MEMBERS', 'begin_month', 'CHILDREN_1', 'CHILDREN_2More', 'gp_inc_medium'] \n",
      "Accuracy Score is 0.94881\n"
     ]
    },
    {
     "name": "stderr",
     "output_type": "stream",
     "text": [
      "\n",
      "STOPPING EARLY DUE TO KEYBOARD INTERRUPT..."
     ]
    },
    {
     "ename": "TypeError",
     "evalue": "'NoneType' object is not iterable",
     "output_type": "error",
     "traceback": [
      "\u001b[1;31m---------------------------------------------------------------------------\u001b[0m",
      "\u001b[1;31mTypeError\u001b[0m                                 Traceback (most recent call last)",
      "Cell \u001b[1;32mIn[133], line 21\u001b[0m\n\u001b[0;32m     14\u001b[0m sfs \u001b[38;5;241m=\u001b[39m SequentialFeatureSelector(linear_model\u001b[38;5;241m.\u001b[39mLogisticRegression(),\n\u001b[0;32m     15\u001b[0m                                 k_features\u001b[38;5;241m=\u001b[39mk,\n\u001b[0;32m     16\u001b[0m                                 forward\u001b[38;5;241m=\u001b[39m\u001b[38;5;28;01mTrue\u001b[39;00m,\n\u001b[0;32m     17\u001b[0m                                 scoring\u001b[38;5;241m=\u001b[39m\u001b[38;5;124m'\u001b[39m\u001b[38;5;124maccuracy\u001b[39m\u001b[38;5;124m'\u001b[39m,\n\u001b[0;32m     18\u001b[0m                                 cv\u001b[38;5;241m=\u001b[39m\u001b[38;5;28;01mNone\u001b[39;00m)\n\u001b[0;32m     19\u001b[0m sfs\u001b[38;5;241m.\u001b[39mfit(X, Y)\n\u001b[1;32m---> 21\u001b[0m selected_columns \u001b[38;5;241m=\u001b[39m \u001b[38;5;28mlist\u001b[39m(sfs\u001b[38;5;241m.\u001b[39mk_feature_names_)\n\u001b[0;32m     22\u001b[0m X_selected \u001b[38;5;241m=\u001b[39m new_data[selected_columns]\n\u001b[0;32m     23\u001b[0m \u001b[38;5;28mprint\u001b[39m(\u001b[38;5;124mf\u001b[39m\u001b[38;5;124m\"\u001b[39m\u001b[38;5;124mforward select in top \u001b[39m\u001b[38;5;132;01m{\u001b[39;00mk\u001b[38;5;132;01m}\u001b[39;00m\u001b[38;5;124m , columns : \u001b[39m\u001b[38;5;132;01m{\u001b[39;00mselected_columns\u001b[38;5;132;01m}\u001b[39;00m\u001b[38;5;124m \u001b[39m\u001b[38;5;124m\"\u001b[39m)\n",
      "\u001b[1;31mTypeError\u001b[0m: 'NoneType' object is not iterable"
     ]
    }
   ],
   "source": [
    "# try4 :  forword select \n",
    "from mlxtend.feature_selection import SequentialFeatureSelector\n",
    "from sklearn import linear_model\n",
    "import warnings\n",
    "warnings.filterwarnings('ignore')\n",
    "\n",
    "all_columns = list(new_data.columns)\n",
    "all_columns.remove('target')\n",
    "\n",
    "Y = new_data['target']\n",
    "X = new_data[all_columns]\n",
    "\n",
    "for k in range(1,len(all_columns)):\n",
    "    sfs = SequentialFeatureSelector(linear_model.LogisticRegression(),\n",
    "                                    k_features=k,\n",
    "                                    forward=True,\n",
    "                                    scoring='accuracy',\n",
    "                                    cv=None)\n",
    "    sfs.fit(X, Y)\n",
    "    \n",
    "    selected_columns = list(sfs.k_feature_names_)\n",
    "    X_selected = new_data[selected_columns]\n",
    "    print(f\"forward select in top {k} , columns : {selected_columns} \")\n",
    "    train(X_selected,Y,show = False)"
   ]
  },
  {
   "cell_type": "code",
   "execution_count": null,
   "metadata": {},
   "outputs": [],
   "source": []
  },
  {
   "cell_type": "code",
   "execution_count": 142,
   "metadata": {},
   "outputs": [
    {
     "data": {
      "image/png": "[encoded data removed]",
      "text/plain": [
       "<Figure size 1000x600 with 1 Axes>"
      ]
     },
     "metadata": {},
     "output_type": "display_data"
    }
   ],
   "source": [
    "selected_columns = ['GENDER', 'OWN CAR', 'OWN REALTY', 'INCOME TOTAL',\n",
    "         'FAM MEMBERS', 'CHILDREN_1', 'CHILDREN_2More', 'gp_inc_medium', 'gp_inc_high',\n",
    "       'gp_inc_NULL', 'FAM MEMBERS GP_1',\n",
    "       'FAM MEMBERS GP_3more', 'INCOME TYPE_Commercial associate',\n",
    "        'INCOME TYPE_State servant',\n",
    "         'TYPE_hightecwk',\n",
    "       'TYPE_officewk', \n",
    "       'EDUCATION TYPE_Higher education', 'EDUCATION TYPE_Incomplete higher',\n",
    "       'EDUCATION TYPE_Lower secondary','DAYS SINCE BIRTH','FAMILY STATUS_Civil marriage','FAMILY STATUS_Separated' ,'FAMILY STATUS_Single / not married',\n",
    "                    'FAMILY STATUS_Widow' ,'DAYS EMPLOYED','Age'\n",
    " ]\n",
    "\n",
    "model = RandomForestClassifier(n_estimators=250,\n",
    "                              max_depth=12,\n",
    "                              min_samples_leaf=16\n",
    "                              )\n",
    "\n",
    "model.fit(X, Y)\n",
    "\n",
    "feature_importances = model.feature_importances_\n",
    "\n",
    "feature_importance_df = pd.DataFrame({\n",
    "    'feature': X.columns,\n",
    "    'importance': feature_importances\n",
    "})\n",
    "\n",
    "top_features = feature_importance_df.sort_values(by='importance', ascending=False).head(10)\n",
    "\n",
    "plt.figure(figsize=(10, 6))\n",
    "sns.barplot(x='importance', y='feature', data=top_features, palette='viridis')\n",
    "plt.title('Top 10 Feature Importances')\n",
    "plt.xlabel('Importance')\n",
    "plt.ylabel('Feature')\n",
    "plt.show()"
   ]
  },
  {
   "cell_type": "markdown",
   "metadata": {},
   "source": [
    " From the normalized confusion matrix, the following conclusions can be drawn:\n",
    "\n",
    "**Classifier Performance**:\n",
    "   - For class `0`  means no risk, (true label = 0), the classifier achieved an accuracy of **98%** (0.98), meaning most samples with a true label of 0( no risk ) were correctly classified.\n",
    "   - For class `1`  means have risk (true label = 1), the classifier achieved a higher accuracy of **97%** (0.97), indicating stronger performance in identifying class 1 (have risk).\n",
    "\n",
    "**Summary**: The model demonstrates good overall performance, but the relatively high misclassification rate for class 0 indicates room for improvement.\n",
    "\n",
    "We conducted a comparative analysis of the model training results from Test 1 and Test 2.\n",
    "\n",
    "In Test 1, we selected over 30 key columns, including those related to economic status and family factors, to serve as predictors in a Random Forest-based model. The model achieved an accuracy of 98% in predicting \"No Risk\" and 97% in predicting \"Risk,\" resulting in an overall accuracy of 97.7%.\n",
    "\n",
    "To enhance the model's precision, Test 2 incorporated all available columns from the dataset for training. The results demonstrated that the accuracy for both \"No Risk\" and \"Risk\" predictions remained consistent across the tests. This comparison affirmed the robustness and predictive reliability of the model.\n",
    "\n",
    "Furthermore, a feature importance analysis conducted using the Random Forest algorithm identified three columns with significant influence on credit card approval decisions and the classification of high-risk users: job tenure, age, and the month when credit card delinquency first occurred. These insights provide a valuable foundation for improving credit risk assessment and optimizing the credit card approval process."
   ]
  },
  {
   "cell_type": "code",
   "execution_count": null,
   "metadata": {},
   "outputs": [],
   "source": []
  },
  {
   "cell_type": "code",
   "execution_count": null,
   "metadata": {},
   "outputs": [],
   "source": []
  },
  {
   "cell_type": "code",
   "execution_count": null,
   "metadata": {},
   "outputs": [],
   "source": []
  },
  {
   "cell_type": "code",
   "execution_count": null,
   "metadata": {},
   "outputs": [],
   "source": []
  }
 ],
 "metadata": {
  "kernelspec": {
   "display_name": "python3.11_env",
   "language": "python",
   "name": "python3.11_env"
  },
  "language_info": {
   "codemirror_mode": {
    "name": "ipython",
    "version": 3
   },
   "file_extension": ".py",
   "mimetype": "text/x-python",
   "name": "python",
   "nbconvert_exporter": "python",
   "pygments_lexer": "ipython3",
   "version": "3.11.5"
  }
 },
 "nbformat": 4,
 "nbformat_minor": 4
}
